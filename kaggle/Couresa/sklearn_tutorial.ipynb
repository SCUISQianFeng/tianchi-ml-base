{
 "cells": [
  {
   "cell_type": "code",
   "execution_count": 44,
   "metadata": {
    "pycharm": {
     "is_executing": false
    }
   },
   "outputs": [],
   "source": [
    "# load data\n",
    "from sklearn.datasets import load_iris\n",
    "\n",
    "iris = load_iris()\n",
    "data, target = iris.data, iris.target"
   ]
  },
  {
   "cell_type": "markdown",
   "metadata": {},
   "source": [
    "## 数据预处理\n",
    "### 无量纲化\n",
    "#### 标准化\n",
    "#### 归一化 - 区间缩放法\n",
    "标准化按列操作，不改变数据的分布；\n",
    "区间缩放方法（0,1），（-1， 1）等方式会改变分布\n",
    "归一化按行操作，会改变数据的分布\n",
    "总结，只有标准化不会改变数据的分布，原始距离，信息等"
   ]
  },
  {
   "cell_type": "code",
   "execution_count": 45,
   "metadata": {},
   "outputs": [],
   "source": [
    "# 标准化\n",
    "from sklearn.preprocessing import StandardScaler\n",
    "# print(StandardScaler().fit_transform(data))\n",
    "# 区间缩放-最小最大缩放\n",
    "from sklearn.preprocessing import MinMaxScaler\n",
    "from sklearn.preprocessing import MaxAbsScaler\n",
    "# print(MinMaxScaler().fit_transform(data))\n",
    "# 归一化\n",
    "from sklearn.preprocessing import Normalizer\n",
    "# print(Normalizer().fit_transform(data))"
   ]
  },
  {
   "cell_type": "code",
   "execution_count": 46,
   "metadata": {},
   "outputs": [],
   "source": [
    "# 对比分布\n",
    "import seaborn as sns\n",
    "# help(sns.kdeplot)\n",
    "sepal_length = data[:, 0]\n",
    "standard_sepal_length = StandardScaler().fit_transform(sepal_length.reshape(-1, 1)).reshape(-1)\n",
    "minmax_sepal_length = MinMaxScaler().fit_transform(sepal_length.reshape(-1, 1)).reshape(-1)\n",
    "maxabs_sepal_length = MaxAbsScaler().fit_transform(sepal_length.reshape(-1, 1)).reshape(-1)\n",
    "normalize_sepal_length = Normalizer().fit_transform(data)[:, 0]"
   ]
  },
  {
   "cell_type": "code",
   "execution_count": 47,
   "metadata": {},
   "outputs": [
    {
     "data": {
      "image/png": "[encoded data removed]",
      "text/plain": [
       "<Figure size 576x432 with 1 Axes>"
      ]
     },
     "metadata": {
      "needs_background": "light"
     },
     "output_type": "display_data"
    }
   ],
   "source": [
    "import matplotlib.pyplot as plt\n",
    "plt.figure(figsize=(8, 6))\n",
    "ax  = plt.subplot(1, 1, 1)\n",
    "ax = sns.kdeplot(sepal_length, color='red', shade=True)\n",
    "ax = sns.kdeplot(x=standard_sepal_length, color='yellow', shade=True)\n",
    "ax = sns.kdeplot(minmax_sepal_length, color='green', shade=True)\n",
    "ax = sns.kdeplot(maxabs_sepal_length, color='blue', shade=True)\n",
    "ax = sns.kdeplot(normalize_sepal_length, color='pink', shade=True)\n",
    "ax.set_xlabel('sepal length')\n",
    "ax.set_ylabel('distribution')\n",
    "ax = ax.legend(['source', 'standard', 'minmax', 'maxabs', 'normalize'])\n",
    "plt.show()"
   ]
  },
  {
   "cell_type": "code",
   "execution_count": 51,
   "metadata": {},
   "outputs": [
    {
     "name": "stdout",
     "output_type": "stream",
     "text": [
      "原始数据\n",
      "[[5.1 3.5 1.4 0.2]\n",
      " [4.9 3.  1.4 0.2]\n",
      " [4.7 3.2 1.3 0.2]\n",
      " [4.6 3.1 1.5 0.2]\n",
      " [5.  3.6 1.4 0.2]]\n",
      "默认二值转换\n",
      "[[1. 1. 1. 1.]\n",
      " [1. 1. 1. 1.]\n",
      " [1. 1. 1. 1.]\n",
      " [1. 1. 1. 1.]\n",
      " [1. 1. 1. 1.]]\n",
      "阈值为2的二值转换\n",
      "[[1. 1. 0. 0.]\n",
      " [1. 1. 0. 0.]\n",
      " [1. 1. 0. 0.]\n",
      " [1. 1. 0. 0.]\n",
      " [1. 1. 0. 0.]]\n"
     ]
    }
   ],
   "source": [
    "### 定量二值化\n",
    "from sklearn.preprocessing import Binarizer\n",
    "#  默认大于0的都转换为1，小于0的转换成0\n",
    "print(\"原始数据\")\n",
    "print(data[:5, :])\n",
    "binary_data = Binarizer().fit_transform(data)\n",
    "print(\"默认二值转换\")\n",
    "print(binary_data[:5, :])\n",
    "print(\"阈值为2的二值转换\")\n",
    "binary_data_threshold = Binarizer(threshold=2).fit_transform(data)\n",
    "print(binary_data_threshold[:5, :])"
   ]
  },
  {
   "cell_type": "code",
   "execution_count": 62,
   "metadata": {},
   "outputs": [
    {
     "name": "stdout",
     "output_type": "stream",
     "text": [
      "OneHot编码：\n",
      "   (0, 0)\t1.0\n",
      "  (1, 0)\t1.0\n",
      "  (2, 0)\t1.0\n",
      "  (3, 0)\t1.0\n",
      "  (4, 0)\t1.0\n",
      "OneHot编码：\n",
      "    0  1  2\n",
      "0  1  0  0\n",
      "1  1  0  0\n",
      "2  1  0  0\n",
      "3  1  0  0\n",
      "4  1  0  0\n"
     ]
    }
   ],
   "source": [
    "### 哑变量编码\n",
    "from sklearn.preprocessing import OneHotEncoder\n",
    "onehot_target = OneHotEncoder().fit_transform(target.reshape(-1, 1))\n",
    "print('OneHot编码：\\n', onehot_target[:5])\n",
    "import pandas as pd\n",
    "dummy_target = pd.get_dummies(target)\n",
    "print('OneHot编码：\\n', dummy_target[:5])"
   ]
  },
  {
   "cell_type": "code",
   "execution_count": 73,
   "metadata": {},
   "outputs": [
    {
     "name": "stdout",
     "output_type": "stream",
     "text": [
      "[[5.84333333 3.05733333 3.758      1.19933333]\n",
      " [5.1        3.5        1.4        0.2       ]\n",
      " [4.9        3.         1.4        0.2       ]\n",
      " [4.7        3.2        1.3        0.2       ]\n",
      " [4.6        3.1        1.5        0.2       ]]\n"
     ]
    }
   ],
   "source": [
    "###缺失值计算\n",
    "from sklearn.impute import SimpleImputer\n",
    "from numpy import vstack, hstack, array, nan\n",
    "vstack_data = vstack((array([nan, nan, nan, nan]), data))\n",
    "# print(vstack_data[:5, ])\n",
    "imputer_data = SimpleImputer(strategy='mean').fit_transform(vstack_data)\n",
    "print(imputer_data[:5, :])"
   ]
  },
  {
   "cell_type": "code",
   "execution_count": 81,
   "metadata": {},
   "outputs": [
    {
     "name": "stdout",
     "output_type": "stream",
     "text": [
      "原始维度：  4\n",
      "默认参数degree=1转换后的维度：  5\n",
      "默认参数degree=2转换后的维度：  15\n",
      "默认参数degree=3转换后的维度：  35\n",
      "默认参数degree=4转换后的维度：  70\n",
      "对数转换后的维度 (150, 4)\n",
      "[[1.80828877 1.5040774  0.87546874 0.18232156]\n",
      " [1.77495235 1.38629436 0.87546874 0.18232156]\n",
      " [1.74046617 1.43508453 0.83290912 0.18232156]\n",
      " [1.7227666  1.41098697 0.91629073 0.18232156]\n",
      " [1.79175947 1.5260563  0.87546874 0.18232156]]\n",
      "指数转换后的维度 (150, 4)\n",
      "[[163.0219073   32.11545196   3.05519997   0.22140276]\n",
      " [133.28977968  19.08553692   3.05519997   0.22140276]\n",
      " [108.94717245  23.5325302    2.66929667   0.22140276]\n",
      " [ 98.48431564  21.19795128   3.48168907   0.22140276]\n",
      " [147.4131591   35.59823444   3.05519997   0.22140276]]\n"
     ]
    }
   ],
   "source": [
    "### 数据变换\n",
    "from sklearn.preprocessing import PolynomialFeatures\n",
    "# 默认degree=2\n",
    "poly_data = PolynomialFeatures().fit_transform(data)\n",
    "print('原始维度： ', data.shape[1])\n",
    "print('默认参数degree=1转换后的维度： ', PolynomialFeatures(degree=1).fit_transform(data).shape[1])\n",
    "print('默认参数degree=2转换后的维度： ', PolynomialFeatures(degree=2).fit_transform(data).shape[1])\n",
    "print('默认参数degree=3转换后的维度： ', PolynomialFeatures(degree=3).fit_transform(data).shape[1])\n",
    "print('默认参数degree=4转换后的维度： ', PolynomialFeatures(degree=4).fit_transform(data).shape[1])\n",
    "\n",
    "# 元素维度：  4\n",
    "# 默认参数degree=1转换后的维度：  5  一阶相当于增加了一个bias\n",
    "# 默认参数degree=2转换后的维度：  15 二阶是[a, b] ->  [1, a, b, a^2, ab, b^2]从一个维度变成3个维度\n",
    "# 默认参数degree=3转换后的维度：  35 三阶是[a, b] ->  [1, a, b, a^2, ab, b^2, ab^2, ba^2, a^3, b^3] 不对\n",
    "# 默认参数degree=4转换后的维度：  70\n",
    "\n",
    "# 指数函数变换\n",
    "from sklearn.preprocessing import FunctionTransformer\n",
    "from numpy import log1p\n",
    "log_data = FunctionTransformer(func=log1p).fit_transform(data)\n",
    "print('对数转换后的维度', log_data.shape)\n",
    "print(log_data[:5, :])\n",
    "from numpy import expm1\n",
    "exp_data = FunctionTransformer(func=expm1).fit_transform(data)\n",
    "print('指数转换后的维度', exp_data.shape)\n",
    "print(exp_data[:5, :])"
   ]
  },
  {
   "cell_type": "markdown",
   "metadata": {},
   "source": [
    "# 特征选择\n",
    "是否选择特征主要从两方面考虑：\n",
    "- 1、特征是否发散，如果特征不发散，方差接近0，说明样本在该特征上基本没有差异，所以该特征对于样本的区分没有什么用\n",
    "- 2、特征与目标的相关性：相关性高的优先选择\n",
    "\n",
    "根据特征选择的形式又可以将特征选择方法分为3种：\n",
    "\n",
    "- Filter：过滤法，按照发散性或者相关性对各个特征进行评分，设定阈值或者待选择阈值的个数，选择特征。\n",
    "- Wrapper：包装法，根据目标函数（通常是预测效果评分），每次选择若干特征，或者排除若干特征。\n",
    "- Embedded：嵌入法，先使用某些机器学习的算法和模型进行训练，得到各个特征的权值系数，根据系数从大到小选择特征。类似于Filter方法，但是是通过训练来确定特征的优劣。\n"
   ]
  },
  {
   "cell_type": "code",
   "execution_count": 93,
   "metadata": {},
   "outputs": [
    {
     "name": "stdout",
     "output_type": "stream",
     "text": [
      "原始维度 4\n"
     ]
    }
   ],
   "source": [
    "# Filter\n",
    "## 方差选择\n",
    "from sklearn.feature_selection import VarianceThreshold\n",
    "from sklearn.feature_selection import SelectKBest\n",
    "from scipy.stats import pearsonr\n",
    "from scipy.stats import chi2\n",
    "\n",
    "#由于MINE的设计不是函数式的，定义mic方法将其为函数式的，返回一个二元组，二元组的第2项设置成固定的P值0.5\n",
    "def mic(x, y):\n",
    "    m = MINE()\n",
    "    m.compute_score(x, y)\n",
    "    return (m.mic(), 0.5)\n",
    "\n",
    "# help(VarianceThreshold)\n",
    "print(\"原始维度\", data.shape[1])\n",
    "variance_data  = VarianceThreshold(threshold=0).fit_transform(data)\n",
    "# print(\"方差选择后的维度\", variance_data.shape[1])\n",
    "# pearsonr_data = SelectKBest(pearsonr, k=2).fit_transform(data, target)\n",
    "# print(\"Pearsonr选择后的维度\", pearsonr_data.shape[1])\n",
    "# chi2_data = SelectKBest(chi2, k=2).fit_transform(data, target)\n",
    "# print(\"Chi2选择后的维度\", chi2_data.shape[1])\n",
    "# mut_data = SelectKBest(mic, k=2).fit_transform(data, target)\n",
    "# print(\"互信息选择后的维度\", chi2_data.mutu_datashape[1])"
   ]
  },
  {
   "cell_type": "code",
   "execution_count": 97,
   "metadata": {},
   "outputs": [
    {
     "name": "stdout",
     "output_type": "stream",
     "text": [
      "原始维度 4\n",
      "递归消除后的维度 2\n"
     ]
    },
    {
     "name": "stderr",
     "output_type": "stream",
     "text": [
      "D:\\DevTools\\Ana3\\envs\\tf\\lib\\site-packages\\sklearn\\linear_model\\_logistic.py:763: ConvergenceWarning: lbfgs failed to converge (status=1):\n",
      "STOP: TOTAL NO. of ITERATIONS REACHED LIMIT.\n",
      "\n",
      "Increase the number of iterations (max_iter) or scale the data as shown in:\n",
      "    https://scikit-learn.org/stable/modules/preprocessing.html\n",
      "Please also refer to the documentation for alternative solver options:\n",
      "    https://scikit-learn.org/stable/modules/linear_model.html#logistic-regression\n",
      "  n_iter_i = _check_optimize_result(\n"
     ]
    }
   ],
   "source": [
    "#  包装法 递归消除法\n",
    "from sklearn.feature_selection import RFE\n",
    "from sklearn.linear_model import LogisticRegression\n",
    "print(\"原始维度\", data.shape[1])\n",
    "rfe_data = RFE(estimator=LogisticRegression(penalty='l2'), n_features_to_select=2).fit_transform(data, target)\n",
    "print(\"递归消除后的维度\", rfe_data.shape[1])"
   ]
  },
  {
   "cell_type": "code",
   "execution_count": 101,
   "metadata": {},
   "outputs": [
    {
     "name": "stdout",
     "output_type": "stream",
     "text": [
      "原始维度 4\n",
      "Logistic训练后的维度 2\n",
      "GBDT训练后的维度 2\n"
     ]
    }
   ],
   "source": [
    "# 嵌入\n",
    "from sklearn.feature_selection import SelectFromModel\n",
    "from sklearn.linear_model import LogisticRegression\n",
    "from sklearn.ensemble import GradientBoostingClassifier\n",
    "print(\"原始维度\", data.shape[1])\n",
    "logistic_data = SelectFromModel(estimator=LogisticRegression(penalty='l2', C=0.1)).fit_transform(data, target)\n",
    "print(\"Logistic训练后的维度\", rfe_data.shape[1])\n",
    "gbdt_data = SelectFromModel(estimator=GradientBoostingClassifier()).fit_transform(data, target)\n",
    "print(\"GBDT训练后的维度\", gbdt_data.shape[1])"
   ]
  },
  {
   "cell_type": "code",
   "execution_count": 104,
   "metadata": {},
   "outputs": [],
   "source": [
    "# 降维\n",
    "from sklearn.decomposition import PCA\n",
    "from sklearn.discriminant_analysis import LinearDiscriminantAnalysis\n",
    "pca_data = PCA(n_components=2).fit_transform(data)\n",
    "lda_data = LinearDiscriminantAnalysis(n_components=2).fit_transform(data, target)"
   ]
  },
  {
   "cell_type": "code",
   "execution_count": 115,
   "metadata": {},
   "outputs": [
    {
     "name": "stdout",
     "output_type": "stream",
     "text": [
      "Help on function delayed in module joblib.parallel:\n",
      "\n",
      "delayed(function)\n",
      "    Decorator used to capture the arguments of a function.\n",
      "\n"
     ]
    }
   ],
   "source": [
    "from joblib import parallel, delayed\n",
    "help(delayed)"
   ]
  },
  {
   "cell_type": "code",
   "execution_count": 113,
   "metadata": {},
   "outputs": [
    {
     "ename": "ImportError",
     "evalue": "cannot import name '_fit_one_transformer' from 'sklearn.pipeline' (D:\\DevTools\\Ana3\\envs\\tf\\lib\\site-packages\\sklearn\\pipeline.py)",
     "output_type": "error",
     "traceback": [
      "\u001b[1;31m---------------------------------------------------------------------------\u001b[0m",
      "\u001b[1;31mImportError\u001b[0m                               Traceback (most recent call last)",
      "\u001b[1;32m~\\AppData\\Local\\Temp/ipykernel_10252/3458969768.py\u001b[0m in \u001b[0;36m<module>\u001b[1;34m\u001b[0m\n\u001b[1;32m----> 1\u001b[1;33m \u001b[1;32mfrom\u001b[0m \u001b[0msklearn\u001b[0m\u001b[1;33m.\u001b[0m\u001b[0mpipeline\u001b[0m \u001b[1;32mimport\u001b[0m \u001b[0mFeatureUnion\u001b[0m\u001b[1;33m,\u001b[0m \u001b[0m_fit_one_transformer\u001b[0m\u001b[1;33m,\u001b[0m \u001b[0m_fit_transform_one\u001b[0m\u001b[1;33m,\u001b[0m \u001b[0m_transform_one\u001b[0m\u001b[1;33m\u001b[0m\u001b[1;33m\u001b[0m\u001b[0m\n\u001b[0m\u001b[0;32m      2\u001b[0m \u001b[1;32mfrom\u001b[0m \u001b[0msklearn\u001b[0m\u001b[1;33m.\u001b[0m\u001b[0mexternals\u001b[0m\u001b[1;33m.\u001b[0m\u001b[0mjoblib\u001b[0m \u001b[1;32mimport\u001b[0m \u001b[0mParallel\u001b[0m\u001b[1;33m,\u001b[0m \u001b[0mdelayed\u001b[0m\u001b[1;33m\u001b[0m\u001b[1;33m\u001b[0m\u001b[0m\n\u001b[0;32m      3\u001b[0m \u001b[1;32mfrom\u001b[0m \u001b[0mscipy\u001b[0m \u001b[1;32mimport\u001b[0m \u001b[0msparse\u001b[0m\u001b[1;33m\u001b[0m\u001b[1;33m\u001b[0m\u001b[0m\n\u001b[0;32m      4\u001b[0m \u001b[1;32mimport\u001b[0m \u001b[0mnumpy\u001b[0m \u001b[1;32mas\u001b[0m \u001b[0mnp\u001b[0m\u001b[1;33m\u001b[0m\u001b[1;33m\u001b[0m\u001b[0m\n\u001b[0;32m      5\u001b[0m \u001b[1;32mfrom\u001b[0m \u001b[0mnumpy\u001b[0m \u001b[1;32mimport\u001b[0m \u001b[0mlog1p\u001b[0m\u001b[1;33m\u001b[0m\u001b[1;33m\u001b[0m\u001b[0m\n",
      "\u001b[1;31mImportError\u001b[0m: cannot import name '_fit_one_transformer' from 'sklearn.pipeline' (D:\\DevTools\\Ana3\\envs\\tf\\lib\\site-packages\\sklearn\\pipeline.py)"
     ]
    }
   ],
   "source": [
    "from sklearn.pipeline import FeatureUnion, _fit_one_transformer, _fit_transform_one, _transform_one \n",
    "from sklearn.externals.joblib import Parallel, delayed\n",
    "from scipy import sparse\n",
    "import numpy as np\n",
    "from numpy import log1p\n",
    "from sklearn.preprocessing import FunctionTransformer\n",
    "from sklearn.preprocessing import Binarizer\n",
    "from sklearn.pipeline import FeatureUnion\n",
    "from numpy import hstack, vstack, array, median, nan\n",
    "from numpy.random import choice\n",
    "from sklearn.datasets import load_iris\n",
    "\n",
    "#特征矩阵加工\n",
    "#使用vstack增加一行含缺失值的样本(nan, nan, nan, nan)\n",
    "#使用hstack增加一列表示花的颜色（0-白、1-黄、2-红），花的颜色是随机的，意味着颜色并不影响花的分类\n",
    "iris.data = hstack((choice([0, 1, 2], size=iris.data.shape[0]+1).reshape(-1,1), vstack((iris.data, array([nan, nan, nan, nan]).reshape(1,-1)))))\n",
    "#目标值向量加工\n",
    "#增加一个目标值，对应含缺失值的样本，值为众数\n",
    "iris.target = hstack((iris.target, array([median(iris.target)])))\n",
    "\n",
    "#部分并行处理，继承FeatureUnion\n",
    "class FeatureUnionExt(FeatureUnion):\n",
    "    #相比FeatureUnion，多了idx_list参数，其表示每个并行工作需要读取的特征矩阵的列\n",
    "    def __init__(self, transformer_list, idx_list, n_jobs=1, transformer_weights=None):\n",
    "        self.idx_list = idx_list\n",
    "        FeatureUnion.__init__(self, transformer_list=map(lambda trans:(trans[0], trans[1]), transformer_list), n_jobs=n_jobs, transformer_weights=transformer_weights)\n",
    "\n",
    "    #由于只部分读取特征矩阵，方法fit需要重构\n",
    "    def fit(self, X, y=None):\n",
    "        transformer_idx_list = map(lambda trans, idx:(trans[0], trans[1], idx), self.transformer_list, self.idx_list)\n",
    "        transformers = Parallel(n_jobs=self.n_jobs)(\n",
    "            #从特征矩阵中提取部分输入fit方法\n",
    "            delayed(_fit_one_transformer)(trans, X[:,idx], y)\n",
    "            for name, trans, idx in transformer_idx_list)\n",
    "        self._update_transformer_list(transformers)\n",
    "        return self\n",
    "\n",
    "    #由于只部分读取特征矩阵，方法fit_transform需要重构\n",
    "    def fit_transform(self, X, y=None, **fit_params):\n",
    "        transformer_idx_list = map(lambda trans, idx:(trans[0], trans[1], idx), self.transformer_list, self.idx_list)\n",
    "        result = Parallel(n_jobs=self.n_jobs)(\n",
    "            #从特征矩阵中提取部分输入fit_transform方法\n",
    "            delayed(_fit_transform_one)(trans, name, X[:,idx], y,\n",
    "                                        self.transformer_weights, **fit_params)\n",
    "            for name, trans, idx in transformer_idx_list)\n",
    "\n",
    "        Xs, transformers = zip(*result)\n",
    "        self._update_transformer_list(transformers)\n",
    "        if any(sparse.issparse(f) for f in Xs):\n",
    "            Xs = sparse.hstack(Xs).tocsr()\n",
    "        else:\n",
    "            Xs = np.hstack(Xs)\n",
    "        return Xs\n",
    "\n",
    "    #由于只部分读取特征矩阵，方法transform需要重构\n",
    "    def transform(self, X):\n",
    "        transformer_idx_list = map(lambda trans, idx:(trans[0], trans[1], idx), self.transformer_list, self.idx_list)\n",
    "        Xs = Parallel(n_jobs=self.n_jobs)(\n",
    "            #从特征矩阵中提取部分输入transform方法\n",
    "            delayed(_transform_one)(trans, name, X[:,idx], self.transformer_weights)\n",
    "            for name, trans, idx in transformer_idx_list)\n",
    "        if any(sparse.issparse(f) for f in Xs):\n",
    "            Xs = sparse.hstack(Xs).tocsr()\n",
    "        else:\n",
    "            Xs = np.hstack(Xs)\n",
    "        return Xs"
   ]
  },
  {
   "cell_type": "code",
   "execution_count": null,
   "metadata": {},
   "outputs": [],
   "source": [
    "####################整体并行处理############################\n",
    "#新建将整体特征矩阵进行对数函数转换的对象\n",
    "step2_1 = ('ToLog', FunctionTransformer(log1p))\n",
    "#新建将整体特征矩阵进行二值化类的对象\n",
    "step2_2 = ('ToBinary', Binarizer())\n",
    "#新建整体并行处理对象\n",
    "#该对象也有fit和transform方法，fit和transform方法均是并行地调用需要并行处理的对象的fit和transform方法\n",
    "#参数transformer_list为需要并行处理的对象列表，该列表为二元组列表，第一元为对象的名称，第二元为对象\n",
    "step2 = ('FeatureUnion', FeatureUnion(transformer_list=[step2_1, step2_2, step2_3]))\n",
    "\n",
    "####################部分并行处理############################\n",
    "#新建将部分特征矩阵进行定性特征编码的对象\n",
    "step2_1 = ('OneHotEncoder', OneHotEncoder(sparse=False))\n",
    "#新建将部分特征矩阵进行对数函数转换的对象\n",
    "step2_2 = ('ToLog', FunctionTransformer(log1p))\n",
    "#新建将部分特征矩阵进行二值化类的对象\n",
    "step2_3 = ('ToBinary', Binarizer())\n",
    "\n",
    "####################流水线处理############################\n",
    "#新建部分并行处理对象\n",
    "#参数transformer_list为需要并行处理的对象列表，该列表为二元组列表，第一元为对象的名称，第二元为对象\n",
    "#参数idx_list为相应的需要读取的特征矩阵的列\n",
    "step2 = ('FeatureUnionExt', FeatureUnionExt(transformer_list=[step2_1, step2_2, step2_3], idx_list=[[0], [1, 2, 3], [4]]))\n",
    "#新建计算缺失值的对象\n",
    "step1 = ('Imputer', Imputer())\n",
    "#新建将部分特征矩阵进行定性特征编码的对象\n",
    "step2_1 = ('OneHotEncoder', OneHotEncoder(sparse=False))\n",
    "#新建将部分特征矩阵进行对数函数转换的对象\n",
    "step2_2 = ('ToLog', FunctionTransformer(log1p))\n",
    "#新建将部分特征矩阵进行二值化类的对象\n",
    "step2_3 = ('ToBinary', Binarizer())\n",
    "#新建部分并行处理对象，返回值为每个并行工作的输出的合并\n",
    "step2 = ('FeatureUnionExt', FeatureUnionExt(transformer_list=[step2_1, step2_2, step2_3], idx_list=[[0], [1, 2, 3], [4]]))\n",
    "#新建无量纲化对象\n",
    "step3 = ('MinMaxScaler', MinMaxScaler())\n",
    "#新建卡方校验选择特征的对象\n",
    "step4 = ('SelectKBest', SelectKBest(chi2, k=3))\n",
    "#新建PCA降维的对象\n",
    "step5 = ('PCA', PCA(n_components=2))\n",
    "#新建逻辑回归的对象，其为待训练的模型作为流水线的最后一步\n",
    "step6 = ('LogisticRegression', LogisticRegression(penalty='l2'))\n",
    "#新建流水线处理对象\n",
    "#参数steps为需要流水线处理的对象列表，该列表为二元组列表，第一元为对象的名称，第二元为对象\n",
    "pipeline = Pipeline(steps=[step1, step2, step3, step4, step5, step6])\n",
    "\n",
    "####################自动化调参############################\n",
    "#新建网格搜索对象\n",
    "#第一参数为待训练的模型\n",
    " #param_grid为待调参数组成的网格，字典格式，键为参数名称（格式“对象名称__子对象名称__参数名称”），值为可取的参数值列表\n",
    " grid_search = GridSearchCV(pipeline, param_grid={'FeatureUnionExt__ToBinary__threshold':[1.0, 2.0, 3.0, 4.0], 'LogisticRegression__C':[0.1, 0.2, 0.4, 0.8]})\n",
    "#训练以及调参\n",
    "grid_search.fit(iris.data, iris.target)\n",
    "\n",
    "\n",
    "####################持久化数据############################\n",
    "#持久化数据\n",
    "#第一个参数为内存中的对象\n",
    "#第二个参数为保存在文件系统中的名称\n",
    "#第三个参数为压缩级别，0为不压缩，3为合适的压缩级别\n",
    "dump(grid_search, 'grid_search.dmp', compress=3)\n",
    "#从文件系统中加载数据到内存中\n",
    "grid_search = load('grid_search.dmp')"
   ]
  },
  {
   "cell_type": "code",
   "execution_count": 111,
   "metadata": {},
   "outputs": [
    {
     "name": "stdout",
     "output_type": "stream",
     "text": [
      "Help on function dump in module joblib.numpy_pickle:\n",
      "\n",
      "dump(value, filename, compress=0, protocol=None, cache_size=None)\n",
      "    Persist an arbitrary Python object into one file.\n",
      "    \n",
      "    Read more in the :ref:`User Guide <persistence>`.\n",
      "    \n",
      "    Parameters\n",
      "    -----------\n",
      "    value: any Python object\n",
      "        The object to store to disk.\n",
      "    filename: str, pathlib.Path, or file object.\n",
      "        The file object or path of the file in which it is to be stored.\n",
      "        The compression method corresponding to one of the supported filename\n",
      "        extensions ('.z', '.gz', '.bz2', '.xz' or '.lzma') will be used\n",
      "        automatically.\n",
      "    compress: int from 0 to 9 or bool or 2-tuple, optional\n",
      "        Optional compression level for the data. 0 or False is no compression.\n",
      "        Higher value means more compression, but also slower read and\n",
      "        write times. Using a value of 3 is often a good compromise.\n",
      "        See the notes for more details.\n",
      "        If compress is True, the compression level used is 3.\n",
      "        If compress is a 2-tuple, the first element must correspond to a string\n",
      "        between supported compressors (e.g 'zlib', 'gzip', 'bz2', 'lzma'\n",
      "        'xz'), the second element must be an integer from 0 to 9, corresponding\n",
      "        to the compression level.\n",
      "    protocol: int, optional\n",
      "        Pickle protocol, see pickle.dump documentation for more details.\n",
      "    cache_size: positive int, optional\n",
      "        This option is deprecated in 0.10 and has no effect.\n",
      "    \n",
      "    Returns\n",
      "    -------\n",
      "    filenames: list of strings\n",
      "        The list of file names in which the data is stored. If\n",
      "        compress is false, each array is stored in a different file.\n",
      "    \n",
      "    See Also\n",
      "    --------\n",
      "    joblib.load : corresponding loader\n",
      "    \n",
      "    Notes\n",
      "    -----\n",
      "    Memmapping on load cannot be used for compressed files. Thus\n",
      "    using compression can significantly slow down loading. In\n",
      "    addition, compressed files take extra extra memory during\n",
      "    dump and load.\n",
      "\n"
     ]
    }
   ],
   "source": [
    "# from sklearn.externals.jo import dump\n",
    "import joblib\n",
    "help(joblib.dump)"
   ]
  },
  {
   "cell_type": "code",
   "execution_count": null,
   "metadata": {},
   "outputs": [],
   "source": []
  }
 ],
 "metadata": {
  "kernelspec": {
   "display_name": "PyCharm (tianchi-ml-base)",
   "language": "python",
   "name": "pycharm-fc556b71"
  },
  "language_info": {
   "codemirror_mode": {
    "name": "ipython",
    "version": 3
   },
   "file_extension": ".py",
   "mimetype": "text/x-python",
   "name": "python",
   "nbconvert_exporter": "python",
   "pygments_lexer": "ipython3",
   "version": "3.9.6"
  }
 },
 "nbformat": 4,
 "nbformat_minor": 1
}
