{
 "cells": [
  {
   "cell_type": "code",
   "execution_count": 1,
   "metadata": {
    "ExecuteTime": {
     "end_time": "2021-10-20T06:53:14.706066Z",
     "start_time": "2021-10-20T06:53:13.995448Z"
    }
   },
   "outputs": [],
   "source": [
    "import pandas as pd\n",
    "from tqdm import tqdm"
   ]
  },
  {
   "cell_type": "code",
   "execution_count": 2,
   "metadata": {
    "ExecuteTime": {
     "end_time": "2021-10-20T06:53:35.454358Z",
     "start_time": "2021-10-20T06:53:23.252694Z"
    }
   },
   "outputs": [],
   "source": [
    "train = pd.read_csv(r\"E:\\DataSet\\DataSet\\kaggle\\get_started\\santander-customer-transaction-prediction\\train.csv\")\n",
    "test = pd.read_csv(r\"E:\\DataSet\\DataSet\\kaggle\\get_started\\santander-customer-transaction-prediction\\test.csv\")"
   ]
  },
  {
   "cell_type": "code",
   "execution_count": 4,
   "metadata": {
    "ExecuteTime": {
     "end_time": "2021-10-20T06:53:56.385546Z",
     "start_time": "2021-10-20T06:53:56.368582Z"
    }
   },
   "outputs": [],
   "source": [
    "col1 = 'var_0'\n",
    "count = test[col1].value_counts()"
   ]
  },
  {
   "cell_type": "code",
   "execution_count": 10,
   "metadata": {
    "ExecuteTime": {
     "end_time": "2021-10-20T09:23:56.758401Z",
     "start_time": "2021-10-20T09:23:56.753381Z"
    }
   },
   "outputs": [],
   "source": [
    "unique = count.index[count == 1]"
   ]
  },
  {
   "cell_type": "code",
   "execution_count": null,
   "outputs": [],
   "source": [
    "list(unique)[:5]"
   ],
   "metadata": {
    "collapsed": false,
    "pycharm": {
     "name": "#%%\n"
    }
   }
  }
 ],
 "metadata": {
  "kernelspec": {
   "display_name": "Python 3",
   "language": "python",
   "name": "python3"
  },
  "language_info": {
   "codemirror_mode": {
    "name": "ipython",
    "version": 3
   },
   "file_extension": ".py",
   "mimetype": "text/x-python",
   "name": "python",
   "nbconvert_exporter": "python",
   "pygments_lexer": "ipython3",
   "version": "3.7.10"
  }
 },
 "nbformat": 4,
 "nbformat_minor": 1
}