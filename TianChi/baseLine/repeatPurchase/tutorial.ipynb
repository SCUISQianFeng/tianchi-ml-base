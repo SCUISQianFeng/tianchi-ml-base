{
 "cells": [
  {
   "cell_type": "markdown",
   "metadata": {
    "collapsed": true
   },
   "source": [
    "\n",
    "# 模型验证"
   ]
  },
  {
   "cell_type": "code",
   "execution_count": 2,
   "metadata": {
    "ExecuteTime": {
     "end_time": "2021-06-30T02:54:07.217735Z",
     "start_time": "2021-06-30T02:54:07.201772Z"
    }
   },
   "outputs": [
    {
     "data": {
      "text/plain": [
       "array([[0.        , 0.        , 0.86089451, 0.        , 0.82379675],\n",
       "       [0.        , 0.7225362 , 0.81335889, 0.        , 0.87131057],\n",
       "       [0.        , 0.        , 0.        , 0.        , 0.8363595 ],\n",
       "       [0.7978362 , 0.        , 0.74741815, 0.96998286, 0.        ],\n",
       "       [0.        , 0.84816995, 0.        , 0.        , 0.        ],\n",
       "       [0.        , 0.        , 0.87410696, 0.        , 0.        ],\n",
       "       [0.        , 0.        , 0.        , 0.        , 0.90354473],\n",
       "       [0.        , 0.99263962, 0.        , 0.        , 0.7454347 ],\n",
       "       [0.        , 0.        , 0.        , 0.        , 0.85255938],\n",
       "       [0.        , 0.86538734, 0.97190933, 0.        , 0.85000801]])"
      ]
     },
     "execution_count": 2,
     "metadata": {},
     "output_type": "execute_result"
    }
   ],
   "source": [
    "# 准确度\n",
    "import numpy as np\n",
    "X = np.random.random((10, 5))\n",
    "y = np.array(['M', 'M', 'F', 'F', 'M', 'F', 'M', 'M', 'F', 'F'])\n",
    "X[X < 0.7]  = 0\n",
    "X"
   ]
  },
  {
   "cell_type": "code",
   "execution_count": 4,
   "metadata": {
    "ExecuteTime": {
     "end_time": "2021-06-30T02:56:03.408937Z",
     "start_time": "2021-06-30T02:56:03.388948Z"
    }
   },
   "outputs": [
    {
     "data": {
      "text/plain": [
       "array([[0., 0., 1., 0., 1.],\n",
       "       [0., 1., 1., 0., 1.],\n",
       "       [0., 0., 0., 0., 1.],\n",
       "       [1., 0., 1., 1., 0.],\n",
       "       [0., 1., 0., 0., 0.],\n",
       "       [0., 0., 1., 0., 0.],\n",
       "       [0., 0., 0., 0., 1.],\n",
       "       [0., 1., 0., 0., 1.],\n",
       "       [0., 0., 0., 0., 1.],\n",
       "       [0., 1., 1., 0., 1.]])"
      ]
     },
     "execution_count": 4,
     "metadata": {},
     "output_type": "execute_result"
    }
   ],
   "source": [
    "# 进行二值化处理\n",
    "from sklearn.preprocessing import Binarizer\n",
    "binarizer = Binarizer(threshold=0.0).fit(X)\n",
    "binarizer_X = binarizer.transform(X)\n",
    "binarizer_X"
   ]
  },
  {
   "cell_type": "code",
   "execution_count": 6,
   "metadata": {
    "ExecuteTime": {
     "end_time": "2021-06-30T02:57:14.958340Z",
     "start_time": "2021-06-30T02:57:14.942373Z"
    }
   },
   "outputs": [
    {
     "data": {
      "text/plain": [
       "array([1, 1, 0, 0, 1, 0, 1, 1, 0, 0], dtype=int64)"
      ]
     },
     "execution_count": 6,
     "metadata": {},
     "output_type": "execute_result"
    }
   ],
   "source": [
    "# 对Y进行条件编码\n",
    "from sklearn.preprocessing import LabelEncoder\n",
    "enc = LabelEncoder()\n",
    "enc_y = enc.fit_transform(y)\n",
    "enc_y"
   ]
  },
  {
   "cell_type": "code",
   "execution_count": 8,
   "metadata": {
    "ExecuteTime": {
     "end_time": "2021-06-30T02:59:42.178493Z",
     "start_time": "2021-06-30T02:59:42.166482Z"
    }
   },
   "outputs": [
    {
     "data": {
      "text/plain": [
       "(array([[1., 0., 1., 1., 0.],\n",
       "        [0., 1., 1., 0., 1.],\n",
       "        [0., 0., 0., 0., 1.],\n",
       "        [0., 0., 1., 0., 1.],\n",
       "        [0., 1., 1., 0., 1.],\n",
       "        [0., 0., 1., 0., 0.],\n",
       "        [0., 1., 0., 0., 0.]]),\n",
       " array([0, 0, 0, 1, 1, 0, 1], dtype=int64))"
      ]
     },
     "execution_count": 8,
     "metadata": {},
     "output_type": "execute_result"
    }
   ],
   "source": [
    "# 将数据切分成训练集和测试集\n",
    "from sklearn.model_selection import train_test_split\n",
    "\n",
    "train_data, test_data, train_target, test_target = train_test_split(binarizer_X, enc_y, random_state=2021)\n",
    "train_data, train_target\n"
   ]
  },
  {
   "cell_type": "code",
   "execution_count": 11,
   "metadata": {
    "ExecuteTime": {
     "end_time": "2021-06-30T03:06:07.725032Z",
     "start_time": "2021-06-30T03:06:07.710011Z"
    }
   },
   "outputs": [
    {
     "name": "stdout",
     "output_type": "stream",
     "text": [
      "预测标签： [1 1 1]\n",
      "实际标签： [1 1 0]\n",
      "准确率 Accuracy:  0.6666666666666666\n"
     ]
    }
   ],
   "source": [
    "# 用KNN进行预测\n",
    "from sklearn.neighbors import KNeighborsClassifier\n",
    "knn = KNeighborsClassifier(n_neighbors=5)\n",
    "knn.fit(train_data, train_target)\n",
    "y_pred = knn.predict(test_data)\n",
    "print('预测标签：', y_pred)\n",
    "print('实际标签：', test_target)\n",
    "from sklearn.metrics import accuracy_score\n",
    "print('准确率 Accuracy: ', accuracy_score(test_target, y_pred))"
   ]
  },
  {
   "cell_type": "code",
   "execution_count": 12,
   "metadata": {
    "ExecuteTime": {
     "end_time": "2021-06-30T03:07:35.524117Z",
     "start_time": "2021-06-30T03:07:35.508135Z"
    }
   },
   "outputs": [
    {
     "name": "stdout",
     "output_type": "stream",
     "text": [
      "查准率：  0.6666666666666666\n",
      "查全率：  1.0\n"
     ]
    }
   ],
   "source": [
    "# 查准率， 查全率\n",
    "from sklearn.metrics import precision_score, recall_score\n",
    "print('查准率： ', precision_score(test_target, y_pred))\n",
    "print('查全率： ', recall_score(test_target, y_pred))\n"
   ]
  },
  {
   "cell_type": "code",
   "execution_count": 13,
   "metadata": {
    "ExecuteTime": {
     "end_time": "2021-06-30T03:08:20.106529Z",
     "start_time": "2021-06-30T03:08:20.094547Z"
    }
   },
   "outputs": [
    {
     "name": "stdout",
     "output_type": "stream",
     "text": [
      "F1：  0.8\n"
     ]
    }
   ],
   "source": [
    "# F1值\n",
    "from sklearn.metrics import f1_score\n",
    "print('F1： ', f1_score(test_target, y_pred))"
   ]
  },
  {
   "cell_type": "code",
   "execution_count": 24,
   "metadata": {
    "ExecuteTime": {
     "end_time": "2021-06-30T03:16:50.968318Z",
     "start_time": "2021-06-30T03:16:50.957327Z"
    }
   },
   "outputs": [
    {
     "name": "stdout",
     "output_type": "stream",
     "text": [
      "[[0 1]\n",
      " [0 2]]\n",
      "AUC: \n",
      " 0.5\n"
     ]
    }
   ],
   "source": [
    "# 混淆矩阵\n",
    "from sklearn.metrics import confusion_matrix\n",
    "print(confusion_matrix(test_target, y_pred))\n",
    "\n",
    "# ROC\n",
    "from sklearn.metrics import roc_curve\n",
    "from sklearn.metrics import auc\n",
    "\n",
    "fpr, tpr, threshold = roc_curve(test_target, y_pred)\n",
    "print('AUC: \\n', auc(fpr, tpr))"
   ]
  }
 ],
 "metadata": {
  "kernelspec": {
   "display_name": "Python 3",
   "language": "python",
   "name": "python3"
  },
  "language_info": {
   "codemirror_mode": {
    "name": "ipython",
    "version": 3
   },
   "file_extension": ".py",
   "mimetype": "text/x-python",
   "name": "python",
   "nbconvert_exporter": "python",
   "pygments_lexer": "ipython3",
   "version": "3.7.10"
  }
 },
 "nbformat": 4,
 "nbformat_minor": 1
}
