{
 "cells": [
  {
   "cell_type": "code",
   "execution_count": 1,
   "id": "opposed-safety",
   "metadata": {
    "ExecuteTime": {
     "end_time": "2021-06-29T11:47:08.264724Z",
     "start_time": "2021-06-29T11:47:08.260749Z"
    }
   },
   "outputs": [],
   "source": [
    "# 特征共产鞥"
   ]
  },
  {
   "cell_type": "code",
   "execution_count": 4,
   "id": "opening-handbook",
   "metadata": {
    "ExecuteTime": {
     "end_time": "2021-06-29T11:56:34.631874Z",
     "start_time": "2021-06-29T11:56:10.458678Z"
    }
   },
   "outputs": [],
   "source": [
    "# 导入工具包\n",
    "from scipy import stats\n",
    "import numpy as np\n",
    "import pandas as pd\n",
    "import matplotlib.pyplot as plt\n",
    "import seaborn as sns\n",
    "from collections import Counter\n",
    "import gc\n",
    "import copy\n",
    "\n",
    "import warnings\n",
    "warnings.filterwarnings('ignore')\n",
    "\n",
    "%matplotlib inline\n",
    "\n",
    "\n",
    "# 加载数据\n",
    "train_data_path = r'E:/DataSet/Tianchi/repeatPurchase/data_format1/train_format1.csv'\n",
    "test_data_path = r'E:/DataSet/Tianchi/repeatPurchase/data_format1/test_format1.csv'\n",
    "user_info_path = r'E:/DataSet/Tianchi/repeatPurchase/data_format1/user_info_format1.csv'\n",
    "user_log_path = r'E:/DataSet/Tianchi/repeatPurchase/data_format1/user_log_format1.csv'\n",
    "\n",
    "train_data = pd.read_csv(train_data_path, sep=',', encoding='utf-8')\n",
    "test_data = pd.read_csv(test_data_path, sep=',', encoding='utf-8')\n",
    "user_info = pd.read_csv(user_info_path, sep=',', encoding='utf-8')\n",
    "user_log = pd.read_csv(user_log_path, sep=',', encoding='utf-8')"
   ]
  },
  {
   "cell_type": "code",
   "execution_count": 5,
   "id": "progressive-enhancement",
   "metadata": {
    "ExecuteTime": {
     "end_time": "2021-06-29T11:59:06.953991Z",
     "start_time": "2021-06-29T11:59:06.934984Z"
    }
   },
   "outputs": [],
   "source": [
    "## 定义统计函数\n",
    "def cnt_(x):\n",
    "    try:\n",
    "        return len(x.split(' '))\n",
    "    except:\n",
    "        return -1\n",
    "\n",
    "# 数据唯一值的总数\n",
    "def nunique_(x):\n",
    "    try:\n",
    "        return len(set(x.split(' ')))\n",
    "    except:\n",
    "        return -1\n",
    "    \n",
    "    \n",
    "# 统计数据最大值\n",
    "def max_(x):\n",
    "    try:\n",
    "        return np.max([float(i) for i in x.split(' ')])\n",
    "    except:\n",
    "        return -1\n",
    "    \n",
    "# 统计数据最小值\n",
    "def min_(x):\n",
    "    try:\n",
    "        return np.min([float(i) for i in x.split(' ')])\n",
    "    except:\n",
    "        return -1\n",
    "    \n",
    "# 统计数据标准差\n",
    "def std_(x):\n",
    "    try:\n",
    "        return np.std([flaot(i) for i in x.split(' ')])\n",
    "    except:\n",
    "        return -1\n",
    "    \n",
    "# 统计数据中topN的函数\n",
    "def most_n(x, n):\n",
    "    try:\n",
    "        return Counter(x.split(' ').most_comon(n)[n-1][0])\n",
    "    except:\n",
    "        return -1\n",
    "    \n",
    "def most_n_cnt(x, n):\n",
    "    try:\n",
    "        return Counter(x.split(' ')).most_comon(n)[n-1][1]\n",
    "    except:\n",
    "        return -1"
   ]
  },
  {
   "cell_type": "code",
   "execution_count": 6,
   "id": "commercial-madness",
   "metadata": {
    "ExecuteTime": {
     "end_time": "2021-06-29T12:25:14.072274Z",
     "start_time": "2021-06-29T12:25:14.059285Z"
    }
   },
   "outputs": [],
   "source": [
    "# 用户特征统计函数\n",
    "def user_cnt(df_data, single_col, name):\n",
    "    df_data[name] = df_data[single_col].apply(cnt_)\n",
    "    return df_data\n",
    "\n",
    "\n",
    "def user_nuique(df_data,single_col, name):\n",
    "    df_data[name] = df_data[single_col].apply(nunique_)\n",
    "    return df_data\n",
    "\n",
    "def user_max(df_data, single_col, name):\n",
    "    df_data[name] = df_data[single_col].apply(max_)\n",
    "    return df_data\n",
    "\n",
    "def user_min(df_data, single_col, name):\n",
    "    df_data[name] = df_data[single_col].apply(min_)\n",
    "    return df_data\n",
    "\n",
    "def user_std(df_data, single_col, name):\n",
    "    df_data[name] = df_data[single_col].apply(std_)\n",
    "    return df_data\n",
    "\n",
    "def user_most_n(df_data, single_col, name, n=1):\n",
    "    func = lambda x: most_n(x, n)\n",
    "    df_data[name] = df_data[single_col].apply(func)\n",
    "    return df_data\n",
    "\n",
    "\n",
    "def user_most_n_cnt(df_data, single_col, name, n=1):\n",
    "    func = lambda x: most_n_cnt(x, n)\n",
    "    df_data[name] = df_data[single_col].apply(func)\n",
    "    return df_data\n"
   ]
  },
  {
   "cell_type": "code",
   "execution_count": null,
   "id": "instructional-accuracy",
   "metadata": {},
   "outputs": [],
   "source": [
    "# 定义内存压缩方法，（实际上就是用占内存少的数据类型来存储数据）\n",
    "def reduce_mem_usage(df: pd.DataFrame, verbose=True) -> pd.DataFrame:\n",
    "    start_mem = df.memory_useage().sum() / 1024 * 2\n",
    "    numerics = ['int16', 'int32', 'int64', 'float16', 'float32', 'float64']\n",
    "    \n",
    "    for col in df.columns:\n",
    "        col_type = df[col].dtypes\n",
    "        if (col_type in numerics):\n",
    "            col_min = df[col].min()\n",
    "            col_max = df[col].max()\n",
    "        if (str(col_type)[:3] == 'int'):\n",
    "            if (col_min > np.iinfo(np.int8).min and col_max < np.iinfo(np.int8)):\n",
    "                df[col] = df[col].astype(np.int8)\n",
    "            elif (col_min > np.iifo(np.int16).min and col_max < np.iinfo(np.int16)):\n",
    "                df[col] = df[col].astype(np.int16)\n",
    "            elif (col_min > np.iifo(np.int32).min and col_max < np.iinfo(np.int32)):\n",
    "                df[col] = df[col].astype(np.int32)\n",
    "            elif (col_min > np.iifo(np.int64).min and col_max < np.iinfo(np.int16)):\n",
    "                df[col] = df[col].astype(np.int16)"
   ]
  },
  {
   "cell_type": "code",
   "execution_count": 7,
   "id": "pretty-pilot",
   "metadata": {
    "ExecuteTime": {
     "end_time": "2021-06-29T12:59:28.694804Z",
     "start_time": "2021-06-29T12:59:28.644854Z"
    }
   },
   "outputs": [],
   "source": [
    "np.iinfo?"
   ]
  }
 ],
 "metadata": {
  "kernelspec": {
   "display_name": "Python 3",
   "language": "python",
   "name": "python3"
  },
  "language_info": {
   "codemirror_mode": {
    "name": "ipython",
    "version": 3
   },
   "file_extension": ".py",
   "mimetype": "text/x-python",
   "name": "python",
   "nbconvert_exporter": "python",
   "pygments_lexer": "ipython3",
   "version": "3.7.10"
  }
 },
 "nbformat": 4,
 "nbformat_minor": 5
}
