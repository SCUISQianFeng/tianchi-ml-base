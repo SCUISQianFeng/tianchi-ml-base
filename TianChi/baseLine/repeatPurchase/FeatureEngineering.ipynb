{
 "cells": [
  {
   "cell_type": "code",
   "execution_count": 43,
   "id": "opposed-safety",
   "metadata": {
    "ExecuteTime": {
     "end_time": "2021-07-02T02:05:33.509560Z",
     "start_time": "2021-07-02T02:05:33.499546Z"
    }
   },
   "outputs": [],
   "source": [
    "# 特征共产鞥"
   ]
  },
  {
   "cell_type": "code",
   "execution_count": 44,
   "id": "opening-handbook",
   "metadata": {
    "ExecuteTime": {
     "end_time": "2021-07-02T02:05:59.819536Z",
     "start_time": "2021-07-02T02:05:33.511559Z"
    },
    "pycharm": {
     "is_executing": true
    }
   },
   "outputs": [],
   "source": [
    "# 导入工具包\n",
    "from scipy import stats\n",
    "import numpy as np\n",
    "import pandas as pd\n",
    "import matplotlib.pyplot as plt\n",
    "import seaborn as sns\n",
    "from collections import Counter\n",
    "import gc\n",
    "import copy\n",
    "\n",
    "import warnings\n",
    "warnings.filterwarnings('ignore')\n",
    "\n",
    "%matplotlib inline\n",
    "\n",
    "\n",
    "# 加载数据\n",
    "train_data_path = r'E:/DataSet/Tianchi/repeatPurchase/data_format1/train_format1.csv'\n",
    "test_data_path = r'E:/DataSet/Tianchi/repeatPurchase/data_format1/test_format1.csv'\n",
    "user_info_path = r'E:/DataSet/Tianchi/repeatPurchase/data_format1/user_info_format1.csv'\n",
    "user_log_path = r'E:/DataSet/Tianchi/repeatPurchase/data_format1/user_log_format1.csv'\n",
    "\n",
    "train_data = pd.read_csv(train_data_path, sep=',', encoding='utf-8')\n",
    "test_data = pd.read_csv(test_data_path, sep=',', encoding='utf-8')\n",
    "user_info = pd.read_csv(user_info_path, sep=',', encoding='utf-8')\n",
    "user_log = pd.read_csv(user_log_path, sep=',', encoding='utf-8')"
   ]
  },
  {
   "cell_type": "code",
   "execution_count": 45,
   "id": "progressive-enhancement",
   "metadata": {
    "ExecuteTime": {
     "end_time": "2021-07-02T02:05:59.834522Z",
     "start_time": "2021-07-02T02:05:59.821510Z"
    },
    "pycharm": {
     "is_executing": true
    }
   },
   "outputs": [],
   "source": [
    "## 定义统计函数\n",
    "def cnt_(x):\n",
    "    try:\n",
    "        return len(x.split(' '))\n",
    "    except:\n",
    "        return -1\n",
    "\n",
    "# 数据唯一值的总数\n",
    "def nunique_(x):\n",
    "    try:\n",
    "        return len(set(x.split(' ')))\n",
    "    except:\n",
    "        return -1\n",
    "    \n",
    "    \n",
    "# 统计数据最大值\n",
    "def max_(x):\n",
    "    try:\n",
    "        return np.max([float(i) for i in x.split(' ')])\n",
    "    except:\n",
    "        return -1\n",
    "    \n",
    "# 统计数据最小值\n",
    "def min_(x):\n",
    "    try:\n",
    "        return np.min([float(i) for i in x.split(' ')])\n",
    "    except:\n",
    "        return -1\n",
    "    \n",
    "# 统计数据标准差\n",
    "def std_(x):\n",
    "    try:\n",
    "        return np.std([flaot(i) for i in x.split(' ')])\n",
    "    except:\n",
    "        return -1\n",
    "    \n",
    "# 统计数据中topN的函数\n",
    "def most_n(x, n):\n",
    "    try:\n",
    "        # [('709909', 17)] =》[0]：id\n",
    "        return Counter(x.split(' ')).most_comon(n)[n-1][0]\n",
    "    except:\n",
    "        return -1\n",
    "    \n",
    "def most_n_cnt(x, n):\n",
    "    try:\n",
    "        # [('709909', 17)] =》[1]：次数\n",
    "        return Counter(x.split(' ')).most_comon(n)[n-1][1]\n",
    "    except:\n",
    "        return -1"
   ]
  },
  {
   "cell_type": "code",
   "execution_count": 46,
   "id": "commercial-madness",
   "metadata": {
    "ExecuteTime": {
     "end_time": "2021-07-02T02:05:59.849517Z",
     "start_time": "2021-07-02T02:05:59.836501Z"
    },
    "pycharm": {
     "is_executing": true
    }
   },
   "outputs": [],
   "source": [
    "# 用户特征统计函数\n",
    "def user_cnt(df_data, single_col, name):\n",
    "    df_data[name] = df_data[single_col].apply(cnt_)\n",
    "    return df_data\n",
    "\n",
    "\n",
    "def user_nunique(df_data,single_col, name):\n",
    "    df_data[name] = df_data[single_col].apply(nunique_)\n",
    "    return df_data\n",
    "\n",
    "def user_max(df_data, single_col, name):\n",
    "    df_data[name] = df_data[single_col].apply(max_)\n",
    "    return df_data\n",
    "\n",
    "def user_min(df_data, single_col, name):\n",
    "    df_data[name] = df_data[single_col].apply(min_)\n",
    "    return df_data\n",
    "\n",
    "def user_std(df_data, single_col, name):\n",
    "    df_data[name] = df_data[single_col].apply(std_)\n",
    "    return df_data\n",
    "\n",
    "def user_most_n(df_data, single_col, name, n=1):\n",
    "    func = lambda x: most_n(x, n)\n",
    "    df_data[name] = df_data[single_col].apply(func)\n",
    "    return df_data\n",
    "\n",
    "\n",
    "def user_most_n_cnt(df_data, single_col, name, n=1):\n",
    "    func = lambda x: most_n_cnt(x, n)\n",
    "    df_data[name] = df_data[single_col].apply(func)\n",
    "    return df_data\n"
   ]
  },
  {
   "cell_type": "code",
   "execution_count": 47,
   "id": "instructional-accuracy",
   "metadata": {
    "ExecuteTime": {
     "end_time": "2021-07-02T02:05:59.865054Z",
     "start_time": "2021-07-02T02:05:59.851492Z"
    },
    "pycharm": {
     "is_executing": true
    }
   },
   "outputs": [],
   "source": [
    "# 定义内存压缩方法，（实际上就是用占内存少的数据类型来存储数据）\n",
    "def reduce_mem_usage(df: pd.DataFrame, verbose=True) -> pd.DataFrame:\n",
    "    start_mem = df.memory_usage().sum() / 1024**2\n",
    "    numerics = ['int16', 'int32', 'int64', 'float16', 'float32', 'float64']\n",
    "    \n",
    "    for col in df.columns:\n",
    "        col_type = df[col].dtypes\n",
    "        if (col_type in numerics):\n",
    "            col_min = df[col].min()\n",
    "            col_max = df[col].max()\n",
    "            if (str(col_type)[:3] == 'int'):\n",
    "                if (col_min > np.iinfo(np.int8).min and col_max < np.iinfo(np.int8).max):\n",
    "                    df[col] = df[col].astype(np.int8)\n",
    "                elif (col_min > np.iinfo(np.int16).min and col_max < np.iinfo(np.int16).max):\n",
    "                    df[col] = df[col].astype(np.int16)\n",
    "                elif (col_min > np.iinfo(np.int32).min and col_max < np.iinfo(np.int32).max):\n",
    "                    df[col] = df[col].astype(np.int32)\n",
    "                elif (col_min > np.iinfo(np.int64).min and col_max < np.iinfo(np.int64).max):\n",
    "                    df[col] = df[col].astype(np.int64)\n",
    "            else:\n",
    "                if col_min > np.finfo(np.float16).min and col_max < np.finfo(np.float16).max:\n",
    "                    df[col] = df[col].astype(np.float16)\n",
    "                elif col_min > np.finfo(np.float32).min and col_max < np.finfo(np.float32).max:\n",
    "                    df[col] = df[col].astype(np.float32)\n",
    "                else:\n",
    "                    df[col] = df[col].astype(np.float64)\n",
    "                    \n",
    "    end_men = df.memory_usage().sum() / 1024**2\n",
    "    print('Memory usage after optimization is : {:.2f} MB'.format(end_men))\n",
    "    print('Decreased by {:.1f}%'.format(100 * (start_mem - end_men) / start_mem))\n",
    "    return df\n",
    "    "
   ]
  },
  {
   "cell_type": "code",
   "execution_count": 48,
   "id": "pretty-pilot",
   "metadata": {
    "ExecuteTime": {
     "end_time": "2021-07-02T02:06:04.452544Z",
     "start_time": "2021-07-02T02:05:59.866053Z"
    },
    "pycharm": {
     "is_executing": true
    }
   },
   "outputs": [
    {
     "name": "stdout",
     "output_type": "stream",
     "text": [
      "Memory usage after optimization is : 1.74 MB\n",
      "Decreased by 70.8%\n",
      "Memory usage after optimization is : 3.49 MB\n",
      "Decreased by 41.7%\n",
      "Memory usage after optimization is : 3.24 MB\n",
      "Decreased by 66.7%\n",
      "Memory usage after optimization is : 890.48 MB\n",
      "Decreased by 69.6%\n"
     ]
    }
   ],
   "source": [
    "train_data = reduce_mem_usage(train_data)\n",
    "test_data = reduce_mem_usage(test_data)\n",
    "user_info = reduce_mem_usage(user_info)\n",
    "user_log = reduce_mem_usage(user_log)"
   ]
  },
  {
   "cell_type": "code",
   "execution_count": 49,
   "id": "passing-ability",
   "metadata": {
    "ExecuteTime": {
     "end_time": "2021-07-02T02:06:04.467535Z",
     "start_time": "2021-07-02T02:06:04.454537Z"
    },
    "pycharm": {
     "is_executing": true
    }
   },
   "outputs": [
    {
     "name": "stdout",
     "output_type": "stream",
     "text": [
      "<class 'pandas.core.frame.DataFrame'>\n",
      "RangeIndex: 260864 entries, 0 to 260863\n",
      "Data columns (total 3 columns):\n",
      " #   Column       Non-Null Count   Dtype\n",
      "---  ------       --------------   -----\n",
      " 0   user_id      260864 non-null  int32\n",
      " 1   merchant_id  260864 non-null  int16\n",
      " 2   label        260864 non-null  int8 \n",
      "dtypes: int16(1), int32(1), int8(1)\n",
      "memory usage: 1.7 MB\n"
     ]
    }
   ],
   "source": [
    "# 查看压缩后的数据信息\n",
    "train_data.info()"
   ]
  },
  {
   "cell_type": "markdown",
   "id": "cardiovascular-clerk",
   "metadata": {},
   "source": [
    "##  数据处理"
   ]
  },
  {
   "cell_type": "code",
   "execution_count": 50,
   "id": "retained-productivity",
   "metadata": {
    "ExecuteTime": {
     "end_time": "2021-07-02T02:06:04.692395Z",
     "start_time": "2021-07-02T02:06:04.469523Z"
    },
    "pycharm": {
     "is_executing": true,
     "name": "#%%\n"
    }
   },
   "outputs": [
    {
     "data": {
      "text/plain": [
       "210"
      ]
     },
     "execution_count": 50,
     "metadata": {},
     "output_type": "execute_result"
    }
   ],
   "source": [
    "# 合并用户细腻\n",
    "all_data = train_data.append(test_data)\n",
    "all_data = all_data.merge(user_info, on=['user_id'], how='left')\n",
    "del train_data, test_data, user_info\n",
    "gc.collect()\n"
   ]
  },
  {
   "cell_type": "code",
   "execution_count": 51,
   "id": "focal-cemetery",
   "metadata": {
    "ExecuteTime": {
     "end_time": "2021-07-02T02:06:15.036640Z",
     "start_time": "2021-07-02T02:06:04.694401Z"
    },
    "pycharm": {
     "is_executing": true,
     "name": "#%%\n"
    }
   },
   "outputs": [],
   "source": [
    "# 用户日志数据进行排序\n",
    "user_log = user_log.sort_values(['user_id', 'time_stamp'])\n",
    "# user_log.head(20)"
   ]
  },
  {
   "cell_type": "code",
   "execution_count": 52,
   "id": "unauthorized-writer",
   "metadata": {
    "ExecuteTime": {
     "end_time": "2021-07-02T02:06:15.051718Z",
     "start_time": "2021-07-02T02:06:15.038665Z"
    },
    "pycharm": {
     "is_executing": true,
     "name": "#%%\n"
    }
   },
   "outputs": [],
   "source": [
    "# 合并数据 对每个用户的所有字段都进行合并\n",
    "list_join_func = lambda x: ' '.join([str(i) for i in x])\n",
    "agg_dict = {\n",
    "    'item_id': list_join_func,\n",
    "    'cat_id': list_join_func,\n",
    "    'seller_id': list_join_func,\n",
    "    'brand_id': list_join_func,\n",
    "    'time_stamp': list_join_func,\n",
    "    'action_type': list_join_func,\n",
    "}\n",
    "rename_dict = {\n",
    "    'item_id': 'item_path',\n",
    "    'cat_id': 'cat_path',\n",
    "    'brand_id': 'brand_path',\n",
    "    'seller_id': 'seller_path',\n",
    "    'time_stamp': 'time_stamp_path',\n",
    "    'action_type': 'action_type_path',\n",
    "}\n",
    "\n",
    "\n",
    "def merge_list(df_ID, join_columns, df_data, agg_dict, rename_dict):\n",
    "    df_data = df_data.groupby(join_columns).agg(agg_dict).reset_index().rename(columns=rename_dict)\n",
    "    df_ID = df_ID.merge(df_data, on=join_columns, how='left')\n",
    "    return df_ID"
   ]
  },
  {
   "cell_type": "code",
   "execution_count": 53,
   "id": "assigned-lloyd",
   "metadata": {
    "ExecuteTime": {
     "end_time": "2021-07-02T02:06:15.066825Z",
     "start_time": "2021-07-02T02:06:15.053711Z"
    }
   },
   "outputs": [],
   "source": [
    "# 处理效果验证\n",
    "# all_data_1000 = all_data.iloc[:1000, :]\n",
    "# user_log_1000 = user_log.iloc[:1000, :]\n",
    "# user_log_1000.groupby(['user_id']).agg(agg_dict).reset_index().rename(columns=rename_dict).head(100)"
   ]
  },
  {
   "cell_type": "code",
   "execution_count": 54,
   "id": "cellular-pottery",
   "metadata": {
    "ExecuteTime": {
     "end_time": "2021-07-02T02:08:54.111132Z",
     "start_time": "2021-07-02T02:06:15.067857Z"
    }
   },
   "outputs": [],
   "source": [
    "all_data = merge_list(all_data, 'user_id', user_log, agg_dict, rename_dict)"
   ]
  },
  {
   "cell_type": "code",
   "execution_count": 55,
   "id": "integrated-arkansas",
   "metadata": {
    "ExecuteTime": {
     "end_time": "2021-07-02T02:08:54.216128Z",
     "start_time": "2021-07-02T02:08:54.113128Z"
    }
   },
   "outputs": [
    {
     "data": {
      "text/plain": [
       "100"
      ]
     },
     "execution_count": 55,
     "metadata": {},
     "output_type": "execute_result"
    }
   ],
   "source": [
    "del user_log\n",
    "gc.collect()"
   ]
  },
  {
   "cell_type": "code",
   "execution_count": 60,
   "id": "decent-amber",
   "metadata": {
    "ExecuteTime": {
     "end_time": "2021-07-02T07:36:25.614656Z",
     "start_time": "2021-07-02T07:36:24.755167Z"
    }
   },
   "outputs": [],
   "source": [
    "\"\"\"\n",
    " 提取基本特征\n",
    "\"\"\"\n",
    "\n",
    "all_data_test = all_data.head(2000)\n",
    "# all_data_test = all_data\n",
    "\n",
    "# 总次数\n",
    "all_data_test = user_cnt(all_data_test, 'seller_path', 'user_cnt')\n",
    "# 不同店铺个数\n",
    "all_data_test = user_nunique(all_data_test, 'seller_path', 'seller_nunique')\n",
    "# 不同品类个数\n",
    "all_data_test = user_nunique(all_data_test, 'cat_path', 'cat_nunique')\n",
    "# 不同品牌个数\n",
    "all_data_test = user_nunique(all_data_test, 'brand_path', 'brand_nunique')\n",
    "# 活跃天数\n",
    "all_data_test = user_nunique(all_data_test, 'time_stamp_path', 'tiem_stamp_nunique')\n",
    "# 不同用户行为种类\n",
    "all_data_test = user_nunique(all_data_test, 'action_type_path', 'action_type_nunique')\n",
    "# 最晚时间\n",
    "all_data_test = user_max(all_data_test, 'action_type_path', 'time_stamp_max')\n",
    "# 最早时间\n",
    "all_data_test = user_min(all_data_test, 'action_type_path', 'time_stamp_min')\n",
    "# 活跃天数方差\n",
    "all_data_test = user_std(all_data_test, 'action_type_path', 'time_stamp_std')\n",
    "# 最早时间和最晚相差天数\n",
    "all_data_test['time_stamp_range'] = all_data_test['time_stamp_max'] - all_data_test['time_stamp_min']\n",
    "# 用户最喜欢的店铺\n",
    "all_data_test = user_most_n(all_data_test, 'seller_path', 'seller_most_1', n=1)\n",
    "# 最喜欢的类目\n",
    "all_data_test = user_most_n(all_data_test, 'cat_path', 'cat_most_1', n=1)\n",
    "# 最喜欢的品牌\n",
    "all_data_test = user_most_n(all_data_test, 'brand_path', 'brand_most_1', n=1)\n",
    "# 最常见的行为动作\n",
    "all_data_test = user_most_n(all_data_test, 'action_type_path', 'action_type_1', n=1)\n",
    "# 用户最喜欢店铺的行为次数\n",
    "all_data_test = user_most_n_cnt(all_data_test, 'seller_path', 'seller_most_1_cnt', n=1)\n",
    "# 用户最喜欢类目的行为次数\n",
    "all_data_test = user_most_n_cnt(all_data_test, 'cat_path', 'cat_most_1_cnt', n=1)\n",
    "# 用户最喜欢品牌的行为次数\n",
    "all_data_test = user_most_n_cnt(all_data_test, 'brand_path', 'brand_most_1_cnt', n=1)\n",
    "# 用户最常见行为的次数\n",
    "all_data_test = user_most_n_cnt(all_data_test, 'action_type_path', 'action_type_path_1_cnt', n=1)\n"
   ]
  },
  {
   "cell_type": "code",
   "execution_count": 66,
   "id": "wound-sweet",
   "metadata": {
    "ExecuteTime": {
     "end_time": "2021-07-02T07:39:41.778359Z",
     "start_time": "2021-07-02T07:39:41.773341Z"
    }
   },
   "outputs": [
    {
     "name": "stdout",
     "output_type": "stream",
     "text": [
      "0    581818 879005 581818 581818 1011673 52343 2773...\n",
      "Name: item_path, dtype: object\n"
     ]
    }
   ],
   "source": [
    "# 对用户特征进行统计 对点击、加购、购买、收藏分开统计\n",
    "def col_cnt_(df_data, columns_list, action_type):\n",
    "    "
   ]
  },
  {
   "cell_type": "code",
   "execution_count": 72,
   "id": "supported-michael",
   "metadata": {
    "ExecuteTime": {
     "end_time": "2021-07-02T08:14:00.501412Z",
     "start_time": "2021-07-02T08:14:00.494438Z"
    }
   },
   "outputs": [
    {
     "data": {
      "text/plain": [
       "[('709909', 17)]"
      ]
     },
     "execution_count": 72,
     "metadata": {},
     "output_type": "execute_result"
    }
   ],
   "source": []
  },
  {
   "cell_type": "code",
   "execution_count": 73,
   "id": "annual-period",
   "metadata": {
    "ExecuteTime": {
     "end_time": "2021-07-02T08:14:39.959854Z",
     "start_time": "2021-07-02T08:14:39.941864Z"
    }
   },
   "outputs": [
    {
     "name": "stdout",
     "output_type": "stream",
     "text": [
      "['581818', '879005', '581818', '581818', '1011673', '52343', '277305', '1011348', '929296', '109785', '1011348', '581818', '338097', '1011348', '338097', '135951', '821072', '687352', '890687', '135951', '1011348', '338097', '1011348', '342730', '135951', '863054', '968989', '1011348', '729897', '677766', '516904', '179209', '179209', '325405', '179209', '325405', '733809', '413276', '862164', '901624', '901624', '901624', '901624', '901624', '198858', '901624', '901624', '975576', '1071692', '1071692', '1071692', '595685', '595685', '549726', '894551', '664341', '664341', '1071692', '974447', '1071692', '996061', '794535', '552780', '1071692', '166162', '783686', '1040019', '1107125', '53580', '783686', '783686', '783686', '1030862', '738000', '53580', '258378', '375318', '425328', '783686', '783686', '783686', '783686', '611609', '611609', '611609', '611609', '1066192', '611609', '1066192', '516503', '209475', '933626', '272116', '68555', '122852', '630464', '101527', '272116', '272116', '248458', '791446', '359230', '217213', '547669', '649526', '248458', '250774', '355670', '461209', '429903', '791446', '124833', '53580', '649526', '457465', '32182', '649526', '59824', '362774', '645478', '649526', '231901', '478025', '100290', '17235', '413984', '384305', '795181', '954723', '275437', '368206', '480007', '65942', '436836', '90857', '954723', '384305', '957581', '185493', '705213', '231901', '90857', '40719', '48891', '563905', '147751', '429972', '503614', '147751', '147751', '384305', '231901', '609043', '147751', '429972', '957581', '147751', '346111', '108465', '231901', '231901', '840446', '296179', '14098', '165465', '257602', '257602', '257602', '257602', '257602', '257602', '887906', '40532', '261687', '337211', '337211', '337211', '476134', '337211', '337211', '593083', '895796', '419693', '941336', '1048191', '45635', '801430', '1072633', '379648', '749109', '419693', '1072633', '747144', '1072633', '181661', '560832', '220911', '893248', '220911', '893248', '220911', '220911', '411262', '552771', '240728', '1073929', '488102', '543148', '533925', '822640', '701142', '613698', '165058', '195124', '533925', '195124', '220911', '195124', '613698', '951186', '883010', '779072', '1065634', '703379', '883010', '1065634', '746208', '785039', '1065634', '344985', '793800', '883010', '716371', '377399', '188166', '793800', '785039', '1063302', '242474', '575443', '883010', '785039', '236488', '69117', '793800', '524960', '796423', '785039', '883010', '701138', '796423', '1065634', '793800', '790010', '7453', '793800', '75452', '195124', '7453', '785039', '39305', '7453', '393486', '793800', '1093165', '898580', '569051', '209509', '185202', '965699', '187402', '915857', '174142', '757713', '470933', '569051', '209509', '455154', '699235', '702940', '291339', '832131', '48054', '757713', '859048', '320263', '468438', '963534', '613698', '557219', '757713', '963534', '45379', '640560', '157439', '475546', '757673', '246109', '199578', '757713', '523545', '198962', '625736', '266469', '790010', '7453', '1065634', '785039', '796423', '103770', '106437', '359141', '39433', '356306', '1036909', '778247', '1024171', '165309', '883010', '757713', '203244', '778708', '242474', '938236', '548906', '718096', '949790', '757713', '952338', '510117', '968255', '47356', '1093048', '225812', '103770', '408895', '938236', '392266', '699235', '757713', '6994', '778708', '334839', '882723', '576183', '757713', '87006', '946949', '1078565', '931583', '369696', '655967', '655967', '946949', '655967', '655967', '800752', '832382', '800752', '946949', '618016', '618016', '946949', '941336', '854757', '800752', '650143', '878795', '317793', '832382', '931583', '94461', '946949', '878795', '946949', '832382', '994312', '800752', '757713', '655967', '986148', '854757', '103770', '757713', '709909', '757713', '654411', '1086539', '793800', '1031725', '800752', '709909', '95147', '709909', '800752', '709909', '214270', '780639', '941901', '709909', '1081982', '800752', '226643', '103770', '800752', '104477', '778708', '449045', '103770', '709909', '179809', '757713', '585783', '52763', '103770', '113375', '800752', '399879', '757713', '709909', '291177', '800752', '709909', '800752', '1056030', '103770', '399879', '709909', '757713', '103770', '469839', '778247', '778708', '103770', '800752', '1056030', '709909', '757713', '709909', '469839', '709909', '800752', '757713', '103770', '800752', '709909', '709909', '103770', '709909', '709909', '709909']\n"
     ]
    }
   ],
   "source": []
  }
 ],
 "metadata": {
  "kernelspec": {
   "display_name": "Python 3.7.7 64-bit ('tf': conda)",
   "language": "python",
   "name": "python37764bittfconda715fa12f9e2c4570bd1cd97f5dd7f673"
  },
  "language_info": {
   "codemirror_mode": {
    "name": "ipython",
    "version": 3
   },
   "file_extension": ".py",
   "mimetype": "text/x-python",
   "name": "python",
   "nbconvert_exporter": "python",
   "pygments_lexer": "ipython3",
   "version": "3.7.10"
  }
 },
 "nbformat": 4,
 "nbformat_minor": 5
}
