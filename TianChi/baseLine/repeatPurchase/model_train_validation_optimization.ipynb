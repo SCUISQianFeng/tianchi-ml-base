{
 "cells": [
  {
   "cell_type": "markdown",
   "metadata": {},
   "source": [
    "# 模型训练"
   ]
  },
  {
   "cell_type": "code",
   "execution_count": 1,
   "metadata": {
    "ExecuteTime": {
     "end_time": "2021-07-08T08:36:19.145874Z",
     "start_time": "2021-07-08T08:36:02.416926Z"
    },
    "pycharm": {
     "is_executing": true,
     "name": "#%%\n"
    }
   },
   "outputs": [
    {
     "name": "stdout",
     "output_type": "stream",
     "text": [
      "(156518, 230) (156518,)\n",
      "(104346, 230) (156518,)\n"
     ]
    },
    {
     "data": {
      "text/plain": [
       "0.9387710118260403"
      ]
     },
     "execution_count": 1,
     "metadata": {},
     "output_type": "execute_result"
    }
   ],
   "source": [
    "#  导入数据\n",
    "import numpy as np\n",
    "import pandas as pd\n",
    "from sklearn.model_selection import KFold\n",
    "from sklearn.model_selection import train_test_split\n",
    "from sklearn.ensemble import RandomForestClassifier\n",
    "import warnings\n",
    "warnings.filterwarnings('ignore')\n",
    "\n",
    "# 读取前1000行\n",
    "# train_data = pd.read_csv('train_all.csv', nrows=1000)\n",
    "# test_data = pd.read_csv('test_all.csv', nrows=1000)\n",
    "\n",
    "# 读取全部数据\n",
    "train_data = pd.read_csv('train_all.csv', nrows=None)\n",
    "test_data = pd.read_csv('test_all.csv', nrows=None)\n",
    "\n",
    "# 训练数据和测试数据处理\n",
    "feature_columns = [col for col in train_data.columns if col not in ['user_id', 'label']]\n",
    "train = train_data[feature_columns].values\n",
    "test = test_data[feature_columns].values\n",
    "target = train_data['label'].values\n",
    "\n",
    "\n",
    "# folds = 5\n",
    "# kf = KFold(n_splits=folds, shuffle=True, random_state=2021)\n",
    "\n",
    "# for idx, (train_index, test_index) for enumerate(kf.split(ttain)):\n",
    "#     train_x = train[train_index]\n",
    "#     train_y = target[train_index]\n",
    "#     test_x = test[test_index]\n",
    "#     test_y = target[test_index]\n",
    "\n",
    "\n",
    "# 切分数据\n",
    "X_train, X_test, y_train, y_test = train_test_split(train, target, test_size=0.4, random_state=0)\n",
    "print(X_train.shape, y_train.shape)\n",
    "print(X_test.shape, y_train.shape)\n",
    "\n",
    "clf = RandomForestClassifier(n_estimators=100, max_depth=2, random_state=0, n_jobs=-1)\n",
    "clf = clf.fit(X_train, y_train)\n",
    "clf.score(X_test, y_test)\n"
   ]
  },
  {
   "cell_type": "code",
   "execution_count": 3,
   "metadata": {
    "ExecuteTime": {
     "end_time": "2021-07-08T08:36:37.445054Z",
     "start_time": "2021-07-08T08:36:19.207917Z"
    },
    "pycharm": {
     "is_executing": true,
     "name": "#%%\n"
    }
   },
   "outputs": [
    {
     "name": "stdout",
     "output_type": "stream",
     "text": [
      "[0.93885726 0.93885726 0.9388381  0.9388381  0.93885609]\n",
      "Accuracy: 0.94 (+/- 0.00)\n"
     ]
    }
   ],
   "source": [
    "# 简单验证\n",
    "from sklearn.model_selection import cross_val_score\n",
    "\n",
    "# clf = RandomForestClassifier(n_estimators=100, max_depth=2, random_state=0, n_jobs=-1)\n",
    "# clf = clf.fit(X_train, y_train)\n",
    "\n",
    "scores = cross_val_score(clf, train, target, cv=5)\n",
    "print(scores)\n",
    "print('Accuracy: %0.2f (+/- %0.2f)' % (scores.mean(), scores.std() * 2))"
   ]
  },
  {
   "cell_type": "code",
   "execution_count": 4,
   "metadata": {
    "ExecuteTime": {
     "end_time": "2021-07-08T08:36:54.082203Z",
     "start_time": "2021-07-08T08:36:37.446030Z"
    },
    "pycharm": {
     "is_executing": true,
     "name": "#%%\n"
    }
   },
   "outputs": [
    {
     "name": "stdout",
     "output_type": "stream",
     "text": [
      "[0.48423227 0.48423227 0.48422718 0.48422718 0.48423196]\n",
      "Accuracy: 0.48 (+/- 0.00)\n"
     ]
    }
   ],
   "source": [
    "# F1值进行评价\n",
    "\"\"\"\n",
    "'micro':Calculate metrics globally by counting the total true positives, false negatives and false positives.\n",
    "'micro':通过先计算总体的TP，FN和FP的数量，再计算F1\n",
    "'macro':Calculate metrics for each label, and find their unweighted mean. This does not take label imbalance into account.\n",
    "'macro':分布计算每个类别的F1，然后做平均（各类别F1的权重相同）\n",
    "\"\"\"\n",
    "\n",
    "scores = cross_val_score(clf, train, target, cv=5, scoring='f1_macro')\n",
    "print(scores)\n",
    "print('Accuracy: %0.2f (+/- %0.2f)' % (scores.mean(), scores.std() * 2))"
   ]
  },
  {
   "cell_type": "code",
   "execution_count": 5,
   "metadata": {
    "ExecuteTime": {
     "end_time": "2021-07-08T08:37:16.011055Z",
     "start_time": "2021-07-08T08:36:54.083185Z"
    },
    "pycharm": {
     "is_executing": true,
     "name": "#%%\n"
    }
   },
   "outputs": [
    {
     "data": {
      "text/plain": [
       "array([0.93870432, 0.93828265, 0.93956044, 0.94040378, 0.93763097])"
      ]
     },
     "execution_count": 5,
     "metadata": {},
     "output_type": "execute_result"
    }
   ],
   "source": [
    "# 交叉验证\n",
    "from sklearn.model_selection import ShuffleSplit\n",
    "\n",
    "cv = ShuffleSplit(n_splits=5, test_size=0.3, random_state=0)\n",
    "cross_val_score(clf, train, target, cv=cv)"
   ]
  },
  {
   "cell_type": "code",
   "execution_count": 6,
   "metadata": {
    "ExecuteTime": {
     "end_time": "2021-07-08T08:37:27.123577Z",
     "start_time": "2021-07-08T08:37:16.013024Z"
    },
    "pycharm": {
     "is_executing": true,
     "name": "#%%\n"
    }
   },
   "outputs": [
    {
     "name": "stdout",
     "output_type": "stream",
     "text": [
      "0 0.9395089414064746\n",
      "1 0.9386272593103713\n",
      "2 0.9374005711766623\n",
      "3 0.9398539474440802\n",
      "4 0.9388560913900177\n"
     ]
    }
   ],
   "source": [
    "from sklearn.model_selection import KFold\n",
    "\n",
    "kf = KFold(n_splits=5)\n",
    "for k, (train_index, test_index) in enumerate(kf.split(train)):\n",
    "    x_train, x_test, y_train, y_test = train[train_index], train[test_index], target[train_index], target[test_index]\n",
    "    clf = clf.fit(x_train, y_train)\n",
    "    print(k, clf.score(x_test, y_test))"
   ]
  },
  {
   "cell_type": "code",
   "execution_count": 7,
   "metadata": {
    "ExecuteTime": {
     "end_time": "2021-07-08T08:37:38.264200Z",
     "start_time": "2021-07-08T08:37:27.125583Z"
    },
    "pycharm": {
     "is_executing": true,
     "name": "#%%\n"
    }
   },
   "outputs": [
    {
     "name": "stdout",
     "output_type": "stream",
     "text": [
      "0 0.9388572633354417\n",
      "1 0.9388572633354417\n",
      "2 0.9388380963333525\n",
      "3 0.9388380963333525\n",
      "4 0.9388560913900177\n"
     ]
    }
   ],
   "source": [
    "# 分组切分数据\n",
    "from sklearn.model_selection import StratifiedKFold\n",
    "\n",
    "kf = StratifiedKFold(n_splits=5)\n",
    "for k, (train_index, test_index) in enumerate(kf.split(train, target)):\n",
    "    x_train, x_test, y_train, y_test = train[train_index], train[test_index], target[train_index], target[test_index]\n",
    "    clf = clf.fit(x_train, y_train)\n",
    "    print(k, clf.score(x_test, y_test))"
   ]
  },
  {
   "cell_type": "code",
   "execution_count": 10,
   "metadata": {
    "ExecuteTime": {
     "end_time": "2021-07-08T08:52:50.566794Z",
     "start_time": "2021-07-08T08:38:32.014483Z"
    },
    "pycharm": {
     "is_executing": true,
     "name": "#%%\n"
    }
   },
   "outputs": [
    {
     "name": "stdout",
     "output_type": "stream",
     "text": [
      "Tune hyper-parameters for precision\n",
      "\n",
      "Best parameters set found on development set:\n",
      "\n",
      "{'bootstrap': True, 'max_depth': 2, 'max_features': 'log2', 'n_estimators': 50, 'warm_start': True}\n",
      "\n",
      "Grid scores on development set:\n",
      "\n",
      "0.469 (+/-0.000) for 'mean_fit_time'\n",
      "\n",
      "Detailed classification report:\n",
      "\n",
      "The model is trained on the full develoment set.\n",
      "The scores are computed on the full evaluation set.\n",
      "\n",
      "              precision    recall  f1-score   support\n",
      "\n",
      "         0.0       0.94      1.00      0.97    122462\n",
      "         1.0       0.00      0.00      0.00      7970\n",
      "\n",
      "    accuracy                           0.94    130432\n",
      "   macro avg       0.47      0.50      0.48    130432\n",
      "weighted avg       0.88      0.94      0.91    130432\n",
      "\n",
      "\n",
      "0.469 (+/-0.000) for 'std_fit_time'\n",
      "\n",
      "Detailed classification report:\n",
      "\n",
      "The model is trained on the full develoment set.\n",
      "The scores are computed on the full evaluation set.\n",
      "\n",
      "              precision    recall  f1-score   support\n",
      "\n",
      "         0.0       0.94      1.00      0.97    122462\n",
      "         1.0       0.00      0.00      0.00      7970\n",
      "\n",
      "    accuracy                           0.94    130432\n",
      "   macro avg       0.47      0.50      0.48    130432\n",
      "weighted avg       0.88      0.94      0.91    130432\n",
      "\n",
      "\n",
      "0.469 (+/-0.000) for 'mean_score_time'\n",
      "\n",
      "Detailed classification report:\n",
      "\n",
      "The model is trained on the full develoment set.\n",
      "The scores are computed on the full evaluation set.\n",
      "\n",
      "              precision    recall  f1-score   support\n",
      "\n",
      "         0.0       0.94      1.00      0.97    122462\n",
      "         1.0       0.00      0.00      0.00      7970\n",
      "\n",
      "    accuracy                           0.94    130432\n",
      "   macro avg       0.47      0.50      0.48    130432\n",
      "weighted avg       0.88      0.94      0.91    130432\n",
      "\n",
      "\n",
      "0.469 (+/-0.000) for 'std_score_time'\n",
      "\n",
      "Detailed classification report:\n",
      "\n",
      "The model is trained on the full develoment set.\n",
      "The scores are computed on the full evaluation set.\n",
      "\n",
      "              precision    recall  f1-score   support\n",
      "\n",
      "         0.0       0.94      1.00      0.97    122462\n",
      "         1.0       0.00      0.00      0.00      7970\n",
      "\n",
      "    accuracy                           0.94    130432\n",
      "   macro avg       0.47      0.50      0.48    130432\n",
      "weighted avg       0.88      0.94      0.91    130432\n",
      "\n",
      "\n",
      "0.469 (+/-0.000) for 'param_bootstrap'\n",
      "\n",
      "Detailed classification report:\n",
      "\n",
      "The model is trained on the full develoment set.\n",
      "The scores are computed on the full evaluation set.\n",
      "\n",
      "              precision    recall  f1-score   support\n",
      "\n",
      "         0.0       0.94      1.00      0.97    122462\n",
      "         1.0       0.00      0.00      0.00      7970\n",
      "\n",
      "    accuracy                           0.94    130432\n",
      "   macro avg       0.47      0.50      0.48    130432\n",
      "weighted avg       0.88      0.94      0.91    130432\n",
      "\n",
      "\n",
      "0.469 (+/-0.000) for 'param_max_depth'\n",
      "\n",
      "Detailed classification report:\n",
      "\n",
      "The model is trained on the full develoment set.\n",
      "The scores are computed on the full evaluation set.\n",
      "\n",
      "              precision    recall  f1-score   support\n",
      "\n",
      "         0.0       0.94      1.00      0.97    122462\n",
      "         1.0       0.00      0.00      0.00      7970\n",
      "\n",
      "    accuracy                           0.94    130432\n",
      "   macro avg       0.47      0.50      0.48    130432\n",
      "weighted avg       0.88      0.94      0.91    130432\n",
      "\n",
      "\n",
      "0.469 (+/-0.000) for 'param_max_features'\n",
      "\n",
      "Detailed classification report:\n",
      "\n",
      "The model is trained on the full develoment set.\n",
      "The scores are computed on the full evaluation set.\n",
      "\n",
      "              precision    recall  f1-score   support\n",
      "\n",
      "         0.0       0.94      1.00      0.97    122462\n",
      "         1.0       0.00      0.00      0.00      7970\n",
      "\n",
      "    accuracy                           0.94    130432\n",
      "   macro avg       0.47      0.50      0.48    130432\n",
      "weighted avg       0.88      0.94      0.91    130432\n",
      "\n",
      "\n",
      "0.469 (+/-0.000) for 'param_n_estimators'\n",
      "\n",
      "Detailed classification report:\n",
      "\n",
      "The model is trained on the full develoment set.\n",
      "The scores are computed on the full evaluation set.\n",
      "\n",
      "              precision    recall  f1-score   support\n",
      "\n",
      "         0.0       0.94      1.00      0.97    122462\n",
      "         1.0       0.00      0.00      0.00      7970\n",
      "\n",
      "    accuracy                           0.94    130432\n",
      "   macro avg       0.47      0.50      0.48    130432\n",
      "weighted avg       0.88      0.94      0.91    130432\n",
      "\n",
      "\n",
      "0.469 (+/-0.000) for 'param_warm_start'\n",
      "\n",
      "Detailed classification report:\n",
      "\n",
      "The model is trained on the full develoment set.\n",
      "The scores are computed on the full evaluation set.\n",
      "\n",
      "              precision    recall  f1-score   support\n",
      "\n",
      "         0.0       0.94      1.00      0.97    122462\n",
      "         1.0       0.00      0.00      0.00      7970\n",
      "\n",
      "    accuracy                           0.94    130432\n",
      "   macro avg       0.47      0.50      0.48    130432\n",
      "weighted avg       0.88      0.94      0.91    130432\n",
      "\n",
      "\n",
      "0.469 (+/-0.000) for 'params'\n",
      "\n",
      "Detailed classification report:\n",
      "\n",
      "The model is trained on the full develoment set.\n",
      "The scores are computed on the full evaluation set.\n",
      "\n",
      "              precision    recall  f1-score   support\n",
      "\n",
      "         0.0       0.94      1.00      0.97    122462\n",
      "         1.0       0.00      0.00      0.00      7970\n",
      "\n",
      "    accuracy                           0.94    130432\n",
      "   macro avg       0.47      0.50      0.48    130432\n",
      "weighted avg       0.88      0.94      0.91    130432\n",
      "\n",
      "\n",
      "0.469 (+/-0.000) for 'split0_test_score'\n",
      "\n",
      "Detailed classification report:\n",
      "\n",
      "The model is trained on the full develoment set.\n",
      "The scores are computed on the full evaluation set.\n",
      "\n",
      "              precision    recall  f1-score   support\n",
      "\n",
      "         0.0       0.94      1.00      0.97    122462\n",
      "         1.0       0.00      0.00      0.00      7970\n",
      "\n",
      "    accuracy                           0.94    130432\n",
      "   macro avg       0.47      0.50      0.48    130432\n",
      "weighted avg       0.88      0.94      0.91    130432\n",
      "\n",
      "\n",
      "0.469 (+/-0.000) for 'split1_test_score'\n",
      "\n",
      "Detailed classification report:\n",
      "\n",
      "The model is trained on the full develoment set.\n",
      "The scores are computed on the full evaluation set.\n",
      "\n",
      "              precision    recall  f1-score   support\n",
      "\n",
      "         0.0       0.94      1.00      0.97    122462\n",
      "         1.0       0.00      0.00      0.00      7970\n",
      "\n",
      "    accuracy                           0.94    130432\n",
      "   macro avg       0.47      0.50      0.48    130432\n",
      "weighted avg       0.88      0.94      0.91    130432\n",
      "\n",
      "\n",
      "nan (+/-nan) for 'split2_test_score'\n",
      "\n",
      "Detailed classification report:\n",
      "\n",
      "The model is trained on the full develoment set.\n",
      "The scores are computed on the full evaluation set.\n",
      "\n",
      "              precision    recall  f1-score   support\n",
      "\n",
      "         0.0       0.94      1.00      0.97    122462\n",
      "         1.0       0.00      0.00      0.00      7970\n",
      "\n",
      "    accuracy                           0.94    130432\n",
      "   macro avg       0.47      0.50      0.48    130432\n",
      "weighted avg       0.88      0.94      0.91    130432\n",
      "\n",
      "\n",
      "nan (+/-nan) for 'split3_test_score'\n",
      "\n",
      "Detailed classification report:\n",
      "\n",
      "The model is trained on the full develoment set.\n",
      "The scores are computed on the full evaluation set.\n",
      "\n",
      "              precision    recall  f1-score   support\n",
      "\n",
      "         0.0       0.94      1.00      0.97    122462\n",
      "         1.0       0.00      0.00      0.00      7970\n",
      "\n",
      "    accuracy                           0.94    130432\n",
      "   macro avg       0.47      0.50      0.48    130432\n",
      "weighted avg       0.88      0.94      0.91    130432\n",
      "\n",
      "\n",
      "nan (+/-nan) for 'split4_test_score'\n",
      "\n",
      "Detailed classification report:\n",
      "\n",
      "The model is trained on the full develoment set.\n",
      "The scores are computed on the full evaluation set.\n",
      "\n",
      "              precision    recall  f1-score   support\n",
      "\n",
      "         0.0       0.94      1.00      0.97    122462\n",
      "         1.0       0.00      0.00      0.00      7970\n",
      "\n",
      "    accuracy                           0.94    130432\n",
      "   macro avg       0.47      0.50      0.48    130432\n",
      "weighted avg       0.88      0.94      0.91    130432\n",
      "\n",
      "\n",
      "nan (+/-nan) for 'mean_test_score'\n",
      "\n",
      "Detailed classification report:\n",
      "\n",
      "The model is trained on the full develoment set.\n",
      "The scores are computed on the full evaluation set.\n",
      "\n",
      "              precision    recall  f1-score   support\n",
      "\n",
      "         0.0       0.94      1.00      0.97    122462\n",
      "         1.0       0.00      0.00      0.00      7970\n",
      "\n",
      "    accuracy                           0.94    130432\n",
      "   macro avg       0.47      0.50      0.48    130432\n",
      "weighted avg       0.88      0.94      0.91    130432\n",
      "\n",
      "\n",
      "nan (+/-nan) for 'std_test_score'\n",
      "\n",
      "Detailed classification report:\n",
      "\n",
      "The model is trained on the full develoment set.\n",
      "The scores are computed on the full evaluation set.\n",
      "\n"
     ]
    },
    {
     "name": "stdout",
     "output_type": "stream",
     "text": [
      "              precision    recall  f1-score   support\n",
      "\n",
      "         0.0       0.94      1.00      0.97    122462\n",
      "         1.0       0.00      0.00      0.00      7970\n",
      "\n",
      "    accuracy                           0.94    130432\n",
      "   macro avg       0.47      0.50      0.48    130432\n",
      "weighted avg       0.88      0.94      0.91    130432\n",
      "\n",
      "\n",
      "nan (+/-nan) for 'rank_test_score'\n",
      "\n",
      "Detailed classification report:\n",
      "\n",
      "The model is trained on the full develoment set.\n",
      "The scores are computed on the full evaluation set.\n",
      "\n",
      "              precision    recall  f1-score   support\n",
      "\n",
      "         0.0       0.94      1.00      0.97    122462\n",
      "         1.0       0.00      0.00      0.00      7970\n",
      "\n",
      "    accuracy                           0.94    130432\n",
      "   macro avg       0.47      0.50      0.48    130432\n",
      "weighted avg       0.88      0.94      0.91    130432\n",
      "\n",
      "\n"
     ]
    }
   ],
   "source": [
    "# 模型调参\n",
    "from sklearn.model_selection import GridSearchCV\n",
    "from sklearn.ensemble import RandomForestClassifier\n",
    "from sklearn.model_selection import train_test_split\n",
    "from sklearn.metrics import classification_report\n",
    "\n",
    "X_train, X_test, y_train, y_test = train_test_split(train, target, test_size=0.5, random_state=0)\n",
    "\n",
    "# model\n",
    "clf = RandomForestClassifier(n_jobs=-1)\n",
    "tune_parameters = {\n",
    "    'n_estimators': [50, 100, 200],\n",
    "    'max_depth': [2, 5],\n",
    "    'max_features': ['log2', 'sqrt', 'int'],\n",
    "    'bootstrap': [True, False],\n",
    "    'warm_start': [True, False],\n",
    "}\n",
    "\n",
    "scores = ['precision']\n",
    "for score in scores:\n",
    "    print('Tune hyper-parameters for %s' % score)\n",
    "    print()\n",
    "\n",
    "    clf = GridSearchCV(clf, tune_parameters, cv=5, scoring='%s_macro'  % score)\n",
    "    clf.fit(X_train, y_train)\n",
    "    print('Best parameters set found on development set:')\n",
    "    print()\n",
    "    print(clf.best_params_)\n",
    "    print()\n",
    "    print('Grid scores on development set:')\n",
    "    print()\n",
    "    mean = clf.cv_results_['mean_test_score']\n",
    "    stds = clf.cv_results_['std_test_score']\n",
    "    for mean, std, params in zip(mean, stds, clf.cv_results_):\n",
    "        print('%0.3f (+/-%0.03f) for %r' % (mean, std * 2, params))\n",
    "        print()\n",
    "        print('Detailed classification report:')\n",
    "        print()\n",
    "        print('The model is trained on the full develoment set.')\n",
    "        print('The scores are computed on the full evaluation set.')\n",
    "        print()\n",
    "        y_true, y_pred = y_test, clf.predict(X_test)\n",
    "        print(classification_report(y_true, y_pred))\n",
    "        print()"
   ]
  },
  {
   "cell_type": "code",
   "execution_count": 14,
   "metadata": {
    "ExecuteTime": {
     "end_time": "2021-07-08T09:01:21.715279Z",
     "start_time": "2021-07-08T09:01:02.015182Z"
    },
    "pycharm": {
     "is_executing": true,
     "name": "#%%\n"
    }
   },
   "outputs": [
    {
     "name": "stdout",
     "output_type": "stream",
     "text": [
      "Confusion matrix, Without normaliation\n",
      "[[61124    90]\n",
      " [ 3980    22]]\n",
      "Confusion matrix normalization\n",
      "[[1.   0.  ]\n",
      " [0.99 0.01]]\n"
     ]
    },
    {
     "data": {
      "image/png": "[encoded data removed]",
      "text/plain": [
       "<Figure size 432x288 with 2 Axes>"
      ]
     },
     "metadata": {
      "needs_background": "light"
     },
     "output_type": "display_data"
    },
    {
     "data": {
      "image/png": "[encoded data removed]",
      "text/plain": [
       "<Figure size 432x288 with 2 Axes>"
      ]
     },
     "metadata": {
      "needs_background": "light"
     },
     "output_type": "display_data"
    }
   ],
   "source": [
    "\n",
    "# 混淆矩阵\n",
    "import itertools\n",
    "import numpy as np\n",
    "import matplotlib.pyplot as plt\n",
    "from sklearn.metrics import confusion_matrix\n",
    "from sklearn.model_selection import train_test_split\n",
    "from sklearn.ensemble import RandomForestClassifier\n",
    "\n",
    "# label_name\n",
    "class_names = ['no-repeat', 'repeat']\n",
    "# Split the data into a training set and a test set\n",
    "X_train, X_test, y_train, y_test = train_test_split(train, target, random_state=0)\n",
    "clf = RandomForestClassifier(n_jobs=-1)\n",
    "y_pred = clf.fit(X_train, y_train).predict(X_test)\n",
    "\n",
    "def plot_confusion_matrix(cm,\n",
    "                          classes,\n",
    "                          normalize=False,\n",
    "                          title='Confusion matrix',\n",
    "                          cmap=plt.cm.Blues):\n",
    "    \"\"\"\n",
    "    This function prints and plots the confusion matrix,\n",
    "    Normalization can be applied by setting 'normalize=True'\n",
    "    \"\"\"\n",
    "    if normalize:\n",
    "        cm = cm.astype('float') / cm.sum(axis=1)[:, np.newaxis]\n",
    "        print('Confusion matrix normalization')\n",
    "    else:\n",
    "        print('Confusion matrix, Without normaliation')\n",
    "    print(cm)\n",
    "\n",
    "    plt.imshow(cm, interpolation='nearest', cmap=cmap)\n",
    "    plt.title(title)\n",
    "    plt.colorbar()\n",
    "    tick_marks = np.arange(len(classes))\n",
    "    plt.xticks(tick_marks, classes, rotation=45)\n",
    "    plt.yticks(tick_marks, classes)\n",
    "\n",
    "    fmt = '.2f' if normalize else 'd'\n",
    "    thresh = cm.max() / 2\n",
    "    for i, j in itertools.product(range(cm.shape[0]), range(cm.shape[1])):\n",
    "        plt.text(j,\n",
    "                 i,\n",
    "                 format(cm[i, j], fmt),\n",
    "                 horizontalalignment='center',\n",
    "                 color='white' if cm[i, j] > thresh else 'black')\n",
    "        plt.ylabel('True label')\n",
    "        plt.xlabel('Predicted label')\n",
    "        plt.tight_layout()\n",
    "\n",
    "# Compute confusion matrix\n",
    "cnf_matrix = confusion_matrix(y_test, y_pred)\n",
    "np.set_printoptions(precision=2)\n",
    "\n",
    "# Plot non-normalized confusion matrix\n",
    "plt.figure()\n",
    "plot_confusion_matrix(cnf_matrix,\n",
    "                      classes=class_names,\n",
    "                      title='Confusion matrix, without normalization')\n",
    "# Plot normalized confusion matrix\n",
    "plt.figure()\n",
    "plot_confusion_matrix(cnf_matrix,\n",
    "                      classes=class_names,\n",
    "                      normalize=True,\n",
    "                      title='Normalized confusion matrix')\n",
    "plt.show()"
   ]
  },
  {
   "cell_type": "code",
   "execution_count": 17,
   "metadata": {
    "ExecuteTime": {
     "end_time": "2021-07-08T10:23:38.041417Z",
     "start_time": "2021-07-08T10:23:28.259011Z"
    }
   },
   "outputs": [
    {
     "data": {
      "text/plain": [
       "0.9386193572129539"
      ]
     },
     "execution_count": 17,
     "metadata": {},
     "output_type": "execute_result"
    }
   ],
   "source": [
    "# 逻辑回归模型\n",
    "from sklearn.linear_model import LogisticRegression\n",
    "from sklearn.preprocessing import StandardScaler\n",
    "\n",
    "stdScaler = StandardScaler()\n",
    "X = stdScaler.fit_transform(train)\n",
    "X_train, X_test, y_train, y_test =  train_test_split(X, target, random_state=0)\n",
    "clf = LogisticRegression(random_state=0, solver='lbfgs', multi_class='multinomial').fit(X_train, y_train)\n",
    "clf.score(X_test, y_test)"
   ]
  },
  {
   "cell_type": "code",
   "execution_count": 18,
   "metadata": {
    "ExecuteTime": {
     "end_time": "2021-07-08T10:23:47.476485Z",
     "start_time": "2021-07-08T10:23:44.243319Z"
    }
   },
   "outputs": [
    {
     "data": {
      "text/plain": [
       "0.9386193572129539"
      ]
     },
     "execution_count": 18,
     "metadata": {},
     "output_type": "execute_result"
    }
   ],
   "source": [
    "# KNN 模型\n",
    "from sklearn.neighbors import KNeighborsClassifier\n",
    "from sklearn.preprocessing import StandardScaler\n",
    "\n",
    "stdScaler = StandardScaler()\n",
    "X = stdScaler.fit_transform(train)\n",
    "X_train, X_test, y_train, y_test =  train_test_split(X, target, random_state=0)\n",
    "\n",
    "knn = KNeighborsClassifier(n_neighbors=3).fit(X_train, y_train)\n",
    "clf.score(X_test, y_test)"
   ]
  },
  {
   "cell_type": "code",
   "execution_count": 21,
   "metadata": {
    "ExecuteTime": {
     "end_time": "2021-07-08T10:24:16.613450Z",
     "start_time": "2021-07-08T10:24:12.450815Z"
    }
   },
   "outputs": [
    {
     "data": {
      "text/plain": [
       "0.7291615554465162"
      ]
     },
     "execution_count": 21,
     "metadata": {},
     "output_type": "execute_result"
    }
   ],
   "source": [
    "# 高斯贝叶斯模型\n",
    "from sklearn.naive_bayes import GaussianNB\n",
    "from sklearn.preprocessing import StandardScaler\n",
    "\n",
    "stdScaler = StandardScaler()\n",
    "X = stdScaler.fit_transform(train)\n",
    "X_train, X_test, y_train, y_test =  train_test_split(X, target, random_state=0)\n",
    "\n",
    "clf = GaussianNB().fit(X_train, y_train)\n",
    "clf.score(X_test, y_test)"
   ]
  },
  {
   "cell_type": "code",
   "execution_count": 22,
   "metadata": {
    "ExecuteTime": {
     "end_time": "2021-07-08T10:25:15.577298Z",
     "start_time": "2021-07-08T10:24:18.866707Z"
    }
   },
   "outputs": [
    {
     "data": {
      "text/plain": [
       "0.8817621442590775"
      ]
     },
     "execution_count": 22,
     "metadata": {},
     "output_type": "execute_result"
    }
   ],
   "source": [
    "# 决策树模型\n",
    "from sklearn.tree import DecisionTreeClassifier\n",
    "from sklearn.preprocessing import StandardScaler\n",
    "\n",
    "stdScaler = StandardScaler()\n",
    "X = stdScaler.fit_transform(train)\n",
    "X_train, X_test, y_train, y_test =  train_test_split(X, target, random_state=0)\n",
    "\n",
    "clf = DecisionTreeClassifier().fit(X_train, y_train)\n",
    "clf.score(X_test, y_test)"
   ]
  },
  {
   "cell_type": "code",
   "execution_count": null,
   "metadata": {
    "ExecuteTime": {
     "start_time": "2021-07-08T10:25:20.135Z"
    }
   },
   "outputs": [],
   "source": [
    "# Bagging模型\n",
    "from sklearn.ensemble import BaggingClassifier\n",
    "from sklearn.neighbors import KNeighborsClassifier\n",
    "from sklearn.preprocessing import StandardScaler\n",
    "\n",
    "stdScaler = StandardScaler()\n",
    "X = stdScaler.fit_transform(train)\n",
    "X_train, X_test, y_train, y_test =  train_test_split(X, target, random_state=0)\n",
    "\n",
    "clf = BaggingClassifier(base_estimator=KNeighborsClassifier(), max_samples=0.5, max_features=0.5).fit(X_train, y_train)\n",
    "clf.score(X_test, y_test)"
   ]
  },
  {
   "cell_type": "code",
   "execution_count": null,
   "metadata": {},
   "outputs": [],
   "source": [
    "# 随机森林模型\n",
    "from sklearn.ensemble import RandomForestClassifier\n",
    "from sklearn.preprocessing import StandardScaler\n",
    "\n",
    "stdScaler = StandardScaler()\n",
    "X = stdScaler.fit_transform(train)\n",
    "X_train, X_test, y_train, y_test =  train_test_split(X, target, random_state=0)\n",
    "\n",
    "clf = RandomForestClassifier(n_estimators=10, max_depth=None, min_samples_split=2, random_state=0).fit(X_train, y_train)\n",
    "clf.score(X_test, y_test)"
   ]
  },
  {
   "cell_type": "code",
   "execution_count": null,
   "metadata": {},
   "outputs": [],
   "source": [
    "# 极端森林模型\n",
    "from sklearn.ensemble import RandomForestClassifier\n",
    "from sklearn.preprocessing import StandardScaler\n",
    "\n",
    "stdScaler = StandardScaler()\n",
    "X = stdScaler.fit_transform(train)\n",
    "X_train, X_test, y_train, y_test =  train_test_split(X, target, random_state=0)\n",
    "\n",
    "clf = RandomForestClassifier(n_estimators=10, max_depth=None, min_samples_split=2, random_state=0).fit(X_train, y_train)\n",
    "clf.score(X_test, y_test)"
   ]
  },
  {
   "cell_type": "code",
   "execution_count": 13,
   "metadata": {
    "ExecuteTime": {
     "end_time": "2021-07-08T08:57:51.886708Z",
     "start_time": "2021-07-08T08:57:51.866724Z"
    }
   },
   "outputs": [],
   "source": [
    "from sklearn.ensemble import BaggingClassifier\n",
    "BaggingClassifier?"
   ]
  },
  {
   "cell_type": "code",
   "execution_count": null,
   "metadata": {},
   "outputs": [],
   "source": []
  }
 ],
 "metadata": {
  "kernelspec": {
   "display_name": "Python 3",
   "language": "python",
   "name": "python3"
  },
  "language_info": {
   "codemirror_mode": {
    "name": "ipython",
    "version": 3
   },
   "file_extension": ".py",
   "mimetype": "text/x-python",
   "name": "python",
   "nbconvert_exporter": "python",
   "pygments_lexer": "ipython3",
   "version": "3.7.10"
  }
 },
 "nbformat": 4,
 "nbformat_minor": 2
}
