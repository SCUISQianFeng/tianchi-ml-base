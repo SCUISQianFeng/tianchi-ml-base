{
 "cells": [
  {
   "cell_type": "markdown",
   "metadata": {},
   "source": [
    "# 模型训练"
   ]
  },
  {
   "cell_type": "code",
   "execution_count": 5,
   "metadata": {
    "ExecuteTime": {
     "end_time": "2021-07-07T10:56:46.829423Z",
     "start_time": "2021-07-07T10:56:31.314121Z"
    }
   },
   "outputs": [
    {
     "name": "stdout",
     "output_type": "stream",
     "text": [
      "(156518, 230) (156518,)\n",
      "(104346, 230) (156518,)\n"
     ]
    },
    {
     "data": {
      "text/plain": [
       "0.9387710118260403"
      ]
     },
     "execution_count": 5,
     "metadata": {},
     "output_type": "execute_result"
    }
   ],
   "source": [
    "#  导入数据\n",
    "import numpy as np\n",
    "import pandas as pd\n",
    "from sklearn.model_selection import KFold\n",
    "from sklearn.model_selection import train_test_split\n",
    "from sklearn.ensemble import RandomForestClassifier\n",
    "# 读取前1000行\n",
    "# train_data = pd.read_csv('train_all.csv', nrows=1000)\n",
    "# test_data = pd.read_csv('test_all.csv', nrows=1000)\n",
    "\n",
    "# 读取全部数据\n",
    "train_data = pd.read_csv('train_all.csv', nrows=None)\n",
    "test_data = pd.read_csv('test_all.csv', nrows=None)\n",
    "\n",
    "# 训练数据和测试数据处理\n",
    "feature_columns = [col for col in train_data.columns if col not in ['user_id', 'label']]\n",
    "train = train_data[feature_columns].values\n",
    "test = test_data[feature_columns].values\n",
    "target = train_data['label'].values\n",
    "\n",
    "\n",
    "# folds = 5\n",
    "# kf = KFold(n_splits=folds, shuffle=True, random_state=2021)\n",
    "\n",
    "# for idx, (train_index, test_index) for enumerate(kf.split(ttain)):\n",
    "#     train_x = train[train_index]\n",
    "#     train_y = target[train_index]\n",
    "#     test_x = test[test_index]\n",
    "#     test_y = target[test_index]\n",
    "\n",
    "\n",
    "# 切分数据\n",
    "X_train, X_test, y_train, y_test = train_test_split(train, target, test_size=0.4, random_state=0)\n",
    "print(X_train.shape, y_train.shape)\n",
    "print(X_test.shape, y_train.shape)\n",
    "\n",
    "clf = RandomForestClassifier(n_estimators=100, max_depth=2, random_state=0, n_jobs=-1)\n",
    "clf = clf.fit(X_train, y_train)\n",
    "clf.score(X_test, y_test)\n"
   ]
  },
  {
   "cell_type": "code",
   "execution_count": 2,
   "metadata": {
    "ExecuteTime": {
     "end_time": "2021-07-07T10:54:57.156917Z",
     "start_time": "2021-07-07T10:54:57.140927Z"
    }
   },
   "outputs": [],
   "source": [
    "from sklearn.ensemble import RandomForestClassifier\n",
    "RandomForestClassifier?"
   ]
  },
  {
   "cell_type": "code",
   "execution_count": 6,
   "metadata": {
    "ExecuteTime": {
     "end_time": "2021-07-07T11:50:57.397830Z",
     "start_time": "2021-07-07T11:50:37.557641Z"
    }
   },
   "outputs": [
    {
     "name": "stdout",
     "output_type": "stream",
     "text": [
      "[0.93885726 0.93885726 0.9388381  0.9388381  0.93885609]\n",
      "Accuracy: 0.94 (+/- 0.00)\n"
     ]
    }
   ],
   "source": [
    "# 简单验证\n",
    "from sklearn.model_selection import cross_val_score\n",
    "\n",
    "# clf = RandomForestClassifier(n_estimators=100, max_depth=2, random_state=0, n_jobs=-1)\n",
    "# clf = clf.fit(X_train, y_train)\n",
    "\n",
    "scores = cross_val_score(clf, train, target, cv=5)\n",
    "print(scores)\n",
    "print('Accuracy: %0.2f (+/- %0.2f)' % (scores.mean(), scores.std() * 2))"
   ]
  },
  {
   "cell_type": "code",
   "execution_count": 8,
   "metadata": {
    "ExecuteTime": {
     "end_time": "2021-07-07T11:52:52.949949Z",
     "start_time": "2021-07-07T11:52:36.116707Z"
    }
   },
   "outputs": [
    {
     "name": "stdout",
     "output_type": "stream",
     "text": [
      "[0.48423227 0.48423227 0.48422718 0.48422718 0.48423196]\n",
      "Accuracy: 0.48 (+/- 0.00)\n"
     ]
    }
   ],
   "source": [
    "# F1值进行评价\n",
    "\"\"\"\n",
    "'micro':Calculate metrics globally by counting the total true positives, false negatives and false positives.\n",
    "'micro':通过先计算总体的TP，FN和FP的数量，再计算F1\n",
    "'macro':Calculate metrics for each label, and find their unweighted mean. This does not take label imbalance into account.\n",
    "'macro':分布计算每个类别的F1，然后做平均（各类别F1的权重相同）\n",
    "\"\"\"\n",
    "\n",
    "scores = cross_val_score(clf, train, target, cv=5, scoring='f1_macro')\n",
    "print(scores)\n",
    "print('Accuracy: %0.2f (+/- %0.2f)' % (scores.mean(), scores.std() * 2))"
   ]
  },
  {
   "cell_type": "code",
   "execution_count": 10,
   "metadata": {
    "ExecuteTime": {
     "end_time": "2021-07-07T11:57:25.998279Z",
     "start_time": "2021-07-07T11:57:03.591599Z"
    }
   },
   "outputs": [
    {
     "data": {
      "text/plain": [
       "array([0.93870432, 0.93828265, 0.93956044, 0.94040378, 0.93763097])"
      ]
     },
     "execution_count": 10,
     "metadata": {},
     "output_type": "execute_result"
    }
   ],
   "source": [
    "# 交叉验证\n",
    "from sklearn.model_selection import ShuffleSplit\n",
    "\n",
    "cv = ShuffleSplit(n_splits=5, test_size=0.3, random_state=0)\n",
    "cross_val_score(clf, train, target, cv=cv)"
   ]
  },
  {
   "cell_type": "code",
   "execution_count": 15,
   "metadata": {
    "ExecuteTime": {
     "end_time": "2021-07-07T12:02:14.710012Z",
     "start_time": "2021-07-07T12:02:03.702926Z"
    }
   },
   "outputs": [
    {
     "name": "stdout",
     "output_type": "stream",
     "text": [
      "0 0.9395089414064746\n",
      "1 0.9386272593103713\n",
      "2 0.9374005711766623\n",
      "3 0.9398539474440802\n",
      "4 0.9388560913900177\n"
     ]
    }
   ],
   "source": [
    "from sklearn.model_selection import KFold\n",
    "\n",
    "kf = KFold(n_splits=5)\n",
    "for k, (train_index, test_index) in enumerate(kf.split(train)):\n",
    "    x_train, x_test, y_train, y_test = train[train_index], train[test_index], target[train_index], target[test_index]\n",
    "    clf = clf.fit(x_train, y_train)\n",
    "    print(k, clf.score(x_test, y_test))\n",
    "                                                                                                          "
   ]
  },
  {
   "cell_type": "code",
   "execution_count": null,
   "metadata": {},
   "outputs": [],
   "source": [
    "# 分组切分数据\n",
    "from sklearn.model_selection import StratifiedKFold\n",
    "\n",
    "kf = StratifiedKFold()"
   ]
  }
 ],
 "metadata": {
  "kernelspec": {
   "display_name": "Python 3",
   "language": "python",
   "name": "python3"
  },
  "language_info": {
   "codemirror_mode": {
    "name": "ipython",
    "version": 3
   },
   "file_extension": ".py",
   "mimetype": "text/x-python",
   "name": "python",
   "nbconvert_exporter": "python",
   "pygments_lexer": "ipython3",
   "version": "3.7.10"
  }
 },
 "nbformat": 4,
 "nbformat_minor": 2
}
