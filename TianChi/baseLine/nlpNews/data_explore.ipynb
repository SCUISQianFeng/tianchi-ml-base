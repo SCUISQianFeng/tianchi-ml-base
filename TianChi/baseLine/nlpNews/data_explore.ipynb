{
 "cells": [
  {
   "cell_type": "markdown",
   "metadata": {
    "collapsed": true
   },
   "source": [
    "# nlp入门新闻类别分类学习赛"
   ]
  },
  {
   "cell_type": "code",
   "execution_count": 5,
   "metadata": {},
   "outputs": [],
   "source": [
    "import numpy as np\n",
    "import pandas as pd\n",
    "import matplotlib.pyplot as plt"
   ]
  },
  {
   "cell_type": "code",
   "execution_count": 6,
   "metadata": {},
   "outputs": [],
   "source": [
    "# load data\n",
    "data_path = r'E:\\DataSet\\Tianchi\\nlpNews\\train_set\\train_set.csv'\n",
    "# data = pd.read_csv(data_path, sep='\\t')\n",
    "data = pd.read_csv(data_path, sep='\\t', nrows=1000) # 数据探索阶段没必要加载全部的数据"
   ]
  },
  {
   "cell_type": "code",
   "execution_count": 7,
   "metadata": {},
   "outputs": [
    {
     "data": {
      "text/html": [
       "<div>\n",
       "<style scoped>\n",
       "    .dataframe tbody tr th:only-of-type {\n",
       "        vertical-align: middle;\n",
       "    }\n",
       "\n",
       "    .dataframe tbody tr th {\n",
       "        vertical-align: top;\n",
       "    }\n",
       "\n",
       "    .dataframe thead th {\n",
       "        text-align: right;\n",
       "    }\n",
       "</style>\n",
       "<table border=\"1\" class=\"dataframe\">\n",
       "  <thead>\n",
       "    <tr style=\"text-align: right;\">\n",
       "      <th></th>\n",
       "      <th>label</th>\n",
       "      <th>text</th>\n",
       "    </tr>\n",
       "  </thead>\n",
       "  <tbody>\n",
       "    <tr>\n",
       "      <th>0</th>\n",
       "      <td>2</td>\n",
       "      <td>2967 6758 339 2021 1854 3731 4109 3792 4149 15...</td>\n",
       "    </tr>\n",
       "    <tr>\n",
       "      <th>1</th>\n",
       "      <td>11</td>\n",
       "      <td>4464 486 6352 5619 2465 4802 1452 3137 5778 54...</td>\n",
       "    </tr>\n",
       "    <tr>\n",
       "      <th>2</th>\n",
       "      <td>3</td>\n",
       "      <td>7346 4068 5074 3747 5681 6093 1777 2226 7354 6...</td>\n",
       "    </tr>\n",
       "    <tr>\n",
       "      <th>3</th>\n",
       "      <td>2</td>\n",
       "      <td>7159 948 4866 2109 5520 2490 211 3956 5520 549...</td>\n",
       "    </tr>\n",
       "    <tr>\n",
       "      <th>4</th>\n",
       "      <td>3</td>\n",
       "      <td>3646 3055 3055 2490 4659 6065 3370 5814 2465 5...</td>\n",
       "    </tr>\n",
       "  </tbody>\n",
       "</table>\n",
       "</div>"
      ],
      "text/plain": [
       "   label                                               text\n",
       "0      2  2967 6758 339 2021 1854 3731 4109 3792 4149 15...\n",
       "1     11  4464 486 6352 5619 2465 4802 1452 3137 5778 54...\n",
       "2      3  7346 4068 5074 3747 5681 6093 1777 2226 7354 6...\n",
       "3      2  7159 948 4866 2109 5520 2490 211 3956 5520 549...\n",
       "4      3  3646 3055 3055 2490 4659 6065 3370 5814 2465 5..."
      ]
     },
     "execution_count": 7,
     "metadata": {},
     "output_type": "execute_result"
    }
   ],
   "source": [
    "data.head(5)"
   ]
  },
  {
   "cell_type": "markdown",
   "metadata": {},
   "source": [
    "###  数据整体情况描述"
   ]
  },
  {
   "cell_type": "code",
   "execution_count": 11,
   "metadata": {},
   "outputs": [
    {
     "data": {
      "text/plain": [
       "Text(0.5, 0, 'category')"
      ]
     },
     "execution_count": 11,
     "metadata": {},
     "output_type": "execute_result"
    },
    {
     "data": {
      "image/png": "[encoded data removed]",
      "text/plain": [
       "<Figure size 432x288 with 1 Axes>"
      ]
     },
     "metadata": {
      "needs_background": "light"
     },
     "output_type": "display_data"
    }
   ],
   "source": [
    "# 1、label整体分布\n",
    "data['label'].value_counts().plot(kind='bar')\n",
    "plt.title('New class count')\n",
    "plt.xlabel('category')\n",
    "# ：{'科技': 0, '股票': 1, '体育': 2, '娱乐': 3, '时政': 4, '社会': 5, '教育': 6, '财经': 7, '家居': 8, \n",
    "# '游戏': 9, '房产': 10, '时尚': 11, '彩票': 12, '星座': 13}\n",
    "# 股票、科技，体育类的新闻最多，星座类的最少"
   ]
  },
  {
   "cell_type": "code",
   "execution_count": 15,
   "metadata": {},
   "outputs": [
    {
     "data": {
      "text/plain": [
       "Text(0.5, 0, 'Histogram of char count')"
      ]
     },
     "execution_count": 15,
     "metadata": {},
     "output_type": "execute_result"
    },
    {
     "data": {
      "image/png": "[encoded data removed]",
      "text/plain": [
       "<Figure size 432x288 with 1 Axes>"
      ]
     },
     "metadata": {
      "needs_background": "light"
     },
     "output_type": "display_data"
    }
   ],
   "source": [
    "# 每条数据字段长度\n",
    "data['strLength'] = data['text'].apply(lambda x: len(x.split(' ')))\n",
    "plt.hist(data['strLength'], bins=200)\n",
    "plt.title('Text char count')\n",
    "plt.xlabel('Histogram of char count')\n",
    "# 绝大部分都是分布在2000字符串长度内"
   ]
  },
  {
   "cell_type": "code",
   "execution_count": 17,
   "metadata": {},
   "outputs": [
    {
     "name": "stdout",
     "output_type": "stream",
     "text": [
      "3969\n",
      "('3750', 37255)\n",
      "('5556', 1)\n"
     ]
    }
   ],
   "source": [
    "# 字符分布统计\n",
    "from collections import Counter\n",
    "\n",
    "all_char = ' '.join(data['text'])\n",
    "word_count = Counter(all_char.split(' '))\n",
    "word_count = sorted(word_count.items(), key=lambda x: x[1], reverse=True)\n",
    "print(len(word_count))\n",
    "print(word_count[0])\n",
    "print(word_count[-1])\n",
    "# 3969\n",
    "# ('3750', 37255)\n",
    "# ('5556', 1)\n",
    "# 总计3969个字符，出现次数最多的是37255号字符，总计出现37255次（1000条数据的基础上），最少的出现一次。\n",
    "# 在1000条数据中出现327255次，说明这是停用字，多半是“的”或者是标点符号"
   ]
  },
  {
   "cell_type": "code",
   "execution_count": 21,
   "metadata": {},
   "outputs": [
    {
     "name": "stdout",
     "output_type": "stream",
     "text": [
      "('900', 995)\n",
      "('3750', 993)\n",
      "('3750', 993)\n"
     ]
    }
   ],
   "source": [
    "# 字符覆盖度\n",
    "from collections import Counter\n",
    "data['text_unique'] = data['text'].apply(lambda x: ' '.join(list(set(x.split(' ')))))  # 先处理每条数据包含的字符\n",
    "all_lines = ' '.join(list(data['text_unique'])) # 将所有的数据全部拼接起来\n",
    "word_count = Counter(all_lines.split(' '))\n",
    "word_count = sorted(word_count.items(), key=lambda x: int(x[1]), reverse=True)\n",
    "print(word_count[0])\n",
    "print(word_count[1])\n",
    "print(word_count[1])\n",
    "# ('900', 995)\n",
    "# ('3750', 993)\n",
    "# ('3750', 993)\n",
    "# 以900号字符为例，在1000条数据中，有995条数据都包含995号字符，基本可以判断这是标点符号"
   ]
  },
  {
   "cell_type": "markdown",
   "metadata": {},
   "source": [
    "### 数据分析的结论"
   ]
  },
  {
   "cell_type": "markdown",
   "metadata": {},
   "source": [
    "\n",
    "通过上述分析我们可以得出以下结论：\n",
    "- 赛题中每个新闻包含的字符个数平均为1000个，还有一些新闻字符较长；\n",
    "- 赛题中新闻类别分布不均匀，科技类新闻样本量接近4w，星座类新闻样本量不到1k；\n",
    "- 赛题总共包括7000-8000个字符；\n",
    "\n",
    "通过数据分析，我们还可以得出以下结论：\n",
    "\n",
    "- 每个新闻平均字符个数较多，可能需要截断；\n",
    "- 由于类别不均衡，会严重影响模型的精度；"
   ]
  },
  {
   "cell_type": "code",
   "execution_count": null,
   "metadata": {},
   "outputs": [],
   "source": []
  }
 ],
 "metadata": {
  "kernelspec": {
   "display_name": "Python 3 (ipykernel)",
   "language": "python",
   "name": "python3"
  },
  "language_info": {
   "codemirror_mode": {
    "name": "ipython",
    "version": 3
   },
   "file_extension": ".py",
   "mimetype": "text/x-python",
   "name": "python",
   "nbconvert_exporter": "python",
   "pygments_lexer": "ipython3",
   "version": "3.9.6"
  }
 },
 "nbformat": 4,
 "nbformat_minor": 1
}
