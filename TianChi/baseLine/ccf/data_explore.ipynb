{
 "cells": [
  {
   "cell_type": "code",
   "execution_count": 4,
   "metadata": {
    "pycharm": {
     "is_executing": false
    }
   },
   "outputs": [],
   "source": [
    "import pandas as pd\n",
    "import numpy as np\n",
    "import seaborn as sns\n",
    "import matplotlib as plt\n",
    "from scipy import stats\n",
    "import warnings\n",
    "warnings.filterwarnings('ignore')\n",
    "%matplotlib inline"
   ]
  },
  {
   "cell_type": "code",
   "execution_count": 6,
   "metadata": {},
   "outputs": [],
   "source": [
    "off_train_path = r'E:/DataSet/Tianchi/o2oSeason1/O2O_data/ccf_offline_stage1_train.csv'\n",
    "off_test_path = r'E:/DataSet/Tianchi/o2oSeason1/O2O_data/ccf_offline_stage1_test_revised.csv'\n",
    "on_train_path = r'E:/DataSet/Tianchi/o2oSeason1/O2O_data/ccf_online_stage1_train.csv'\n",
    "\n",
    "off_train = pd.read_csv(off_train_path, keep_default_na=True)\n",
    "off_train.columns = ['user_id', 'merchant_id', 'coupon_id', 'discount_rate', 'distance', 'date_received', 'date']\n",
    "\n",
    "off_test = pd.read_csv(off_test_path, keep_default_na=True)\n",
    "off_test.columns = ['user_id', 'merchant_id', 'coupon_id', 'discount_rate', 'distance', 'date_received']\n",
    "\n",
    "on_train = pd.read_csv(on_train_path, keep_default_na=True)\n",
    "on_train.columns = ['user_id', 'merchant_id', 'coupon_id', 'discount_rate', 'distance', 'date_received', 'date']"
   ]
  },
  {
   "cell_type": "markdown",
   "metadata": {},
   "source": [
    "# 数据查看"
   ]
  },
  {
   "cell_type": "code",
   "execution_count": 7,
   "metadata": {},
   "outputs": [
    {
     "data": {
      "text/html": [
       "<div>\n",
       "<style scoped>\n",
       "    .dataframe tbody tr th:only-of-type {\n",
       "        vertical-align: middle;\n",
       "    }\n",
       "\n",
       "    .dataframe tbody tr th {\n",
       "        vertical-align: top;\n",
       "    }\n",
       "\n",
       "    .dataframe thead th {\n",
       "        text-align: right;\n",
       "    }\n",
       "</style>\n",
       "<table border=\"1\" class=\"dataframe\">\n",
       "  <thead>\n",
       "    <tr style=\"text-align: right;\">\n",
       "      <th></th>\n",
       "      <th>user_id</th>\n",
       "      <th>merchant_id</th>\n",
       "      <th>coupon_id</th>\n",
       "      <th>discount_rate</th>\n",
       "      <th>distance</th>\n",
       "      <th>date_received</th>\n",
       "      <th>date</th>\n",
       "    </tr>\n",
       "  </thead>\n",
       "  <tbody>\n",
       "    <tr>\n",
       "      <th>0</th>\n",
       "      <td>1439408</td>\n",
       "      <td>4663</td>\n",
       "      <td>11002.0</td>\n",
       "      <td>150:20</td>\n",
       "      <td>1.0</td>\n",
       "      <td>20160528.0</td>\n",
       "      <td>NaN</td>\n",
       "    </tr>\n",
       "    <tr>\n",
       "      <th>1</th>\n",
       "      <td>1439408</td>\n",
       "      <td>2632</td>\n",
       "      <td>8591.0</td>\n",
       "      <td>20:1</td>\n",
       "      <td>0.0</td>\n",
       "      <td>20160217.0</td>\n",
       "      <td>NaN</td>\n",
       "    </tr>\n",
       "    <tr>\n",
       "      <th>2</th>\n",
       "      <td>1439408</td>\n",
       "      <td>2632</td>\n",
       "      <td>1078.0</td>\n",
       "      <td>20:1</td>\n",
       "      <td>0.0</td>\n",
       "      <td>20160319.0</td>\n",
       "      <td>NaN</td>\n",
       "    </tr>\n",
       "    <tr>\n",
       "      <th>3</th>\n",
       "      <td>1439408</td>\n",
       "      <td>2632</td>\n",
       "      <td>8591.0</td>\n",
       "      <td>20:1</td>\n",
       "      <td>0.0</td>\n",
       "      <td>20160613.0</td>\n",
       "      <td>NaN</td>\n",
       "    </tr>\n",
       "    <tr>\n",
       "      <th>4</th>\n",
       "      <td>1439408</td>\n",
       "      <td>2632</td>\n",
       "      <td>NaN</td>\n",
       "      <td>NaN</td>\n",
       "      <td>0.0</td>\n",
       "      <td>NaN</td>\n",
       "      <td>20160516.0</td>\n",
       "    </tr>\n",
       "  </tbody>\n",
       "</table>\n",
       "</div>"
      ],
      "text/plain": [
       "   user_id  merchant_id  coupon_id discount_rate  distance  date_received  \\\n",
       "0  1439408         4663    11002.0        150:20       1.0     20160528.0   \n",
       "1  1439408         2632     8591.0          20:1       0.0     20160217.0   \n",
       "2  1439408         2632     1078.0          20:1       0.0     20160319.0   \n",
       "3  1439408         2632     8591.0          20:1       0.0     20160613.0   \n",
       "4  1439408         2632        NaN           NaN       0.0            NaN   \n",
       "\n",
       "         date  \n",
       "0         NaN  \n",
       "1         NaN  \n",
       "2         NaN  \n",
       "3         NaN  \n",
       "4  20160516.0  "
      ]
     },
     "execution_count": 7,
     "metadata": {},
     "output_type": "execute_result"
    }
   ],
   "source": [
    "off_train.head()"
   ]
  },
  {
   "cell_type": "code",
   "execution_count": 8,
   "metadata": {},
   "outputs": [
    {
     "data": {
      "text/html": [
       "<div>\n",
       "<style scoped>\n",
       "    .dataframe tbody tr th:only-of-type {\n",
       "        vertical-align: middle;\n",
       "    }\n",
       "\n",
       "    .dataframe tbody tr th {\n",
       "        vertical-align: top;\n",
       "    }\n",
       "\n",
       "    .dataframe thead th {\n",
       "        text-align: right;\n",
       "    }\n",
       "</style>\n",
       "<table border=\"1\" class=\"dataframe\">\n",
       "  <thead>\n",
       "    <tr style=\"text-align: right;\">\n",
       "      <th></th>\n",
       "      <th>user_id</th>\n",
       "      <th>merchant_id</th>\n",
       "      <th>coupon_id</th>\n",
       "      <th>discount_rate</th>\n",
       "      <th>distance</th>\n",
       "      <th>date_received</th>\n",
       "    </tr>\n",
       "  </thead>\n",
       "  <tbody>\n",
       "    <tr>\n",
       "      <th>0</th>\n",
       "      <td>6949378</td>\n",
       "      <td>1300</td>\n",
       "      <td>3429</td>\n",
       "      <td>30:5</td>\n",
       "      <td>NaN</td>\n",
       "      <td>20160706</td>\n",
       "    </tr>\n",
       "    <tr>\n",
       "      <th>1</th>\n",
       "      <td>2166529</td>\n",
       "      <td>7113</td>\n",
       "      <td>6928</td>\n",
       "      <td>200:20</td>\n",
       "      <td>5.0</td>\n",
       "      <td>20160727</td>\n",
       "    </tr>\n",
       "    <tr>\n",
       "      <th>2</th>\n",
       "      <td>2166529</td>\n",
       "      <td>7113</td>\n",
       "      <td>1808</td>\n",
       "      <td>100:10</td>\n",
       "      <td>5.0</td>\n",
       "      <td>20160727</td>\n",
       "    </tr>\n",
       "    <tr>\n",
       "      <th>3</th>\n",
       "      <td>6172162</td>\n",
       "      <td>7605</td>\n",
       "      <td>6500</td>\n",
       "      <td>30:1</td>\n",
       "      <td>2.0</td>\n",
       "      <td>20160708</td>\n",
       "    </tr>\n",
       "    <tr>\n",
       "      <th>4</th>\n",
       "      <td>4005121</td>\n",
       "      <td>450</td>\n",
       "      <td>9983</td>\n",
       "      <td>30:5</td>\n",
       "      <td>0.0</td>\n",
       "      <td>20160706</td>\n",
       "    </tr>\n",
       "  </tbody>\n",
       "</table>\n",
       "</div>"
      ],
      "text/plain": [
       "   user_id  merchant_id  coupon_id discount_rate  distance  date_received\n",
       "0  6949378         1300       3429          30:5       NaN       20160706\n",
       "1  2166529         7113       6928        200:20       5.0       20160727\n",
       "2  2166529         7113       1808        100:10       5.0       20160727\n",
       "3  6172162         7605       6500          30:1       2.0       20160708\n",
       "4  4005121          450       9983          30:5       0.0       20160706"
      ]
     },
     "execution_count": 8,
     "metadata": {},
     "output_type": "execute_result"
    }
   ],
   "source": [
    "off_test.head()"
   ]
  },
  {
   "cell_type": "code",
   "execution_count": 9,
   "metadata": {},
   "outputs": [
    {
     "data": {
      "text/html": [
       "<div>\n",
       "<style scoped>\n",
       "    .dataframe tbody tr th:only-of-type {\n",
       "        vertical-align: middle;\n",
       "    }\n",
       "\n",
       "    .dataframe tbody tr th {\n",
       "        vertical-align: top;\n",
       "    }\n",
       "\n",
       "    .dataframe thead th {\n",
       "        text-align: right;\n",
       "    }\n",
       "</style>\n",
       "<table border=\"1\" class=\"dataframe\">\n",
       "  <thead>\n",
       "    <tr style=\"text-align: right;\">\n",
       "      <th></th>\n",
       "      <th>user_id</th>\n",
       "      <th>merchant_id</th>\n",
       "      <th>coupon_id</th>\n",
       "      <th>discount_rate</th>\n",
       "      <th>distance</th>\n",
       "      <th>date_received</th>\n",
       "      <th>date</th>\n",
       "    </tr>\n",
       "  </thead>\n",
       "  <tbody>\n",
       "    <tr>\n",
       "      <th>0</th>\n",
       "      <td>13740231</td>\n",
       "      <td>34805</td>\n",
       "      <td>1</td>\n",
       "      <td>NaN</td>\n",
       "      <td>NaN</td>\n",
       "      <td>NaN</td>\n",
       "      <td>20160321.0</td>\n",
       "    </tr>\n",
       "    <tr>\n",
       "      <th>1</th>\n",
       "      <td>14336199</td>\n",
       "      <td>18907</td>\n",
       "      <td>0</td>\n",
       "      <td>NaN</td>\n",
       "      <td>NaN</td>\n",
       "      <td>NaN</td>\n",
       "      <td>20160618.0</td>\n",
       "    </tr>\n",
       "    <tr>\n",
       "      <th>2</th>\n",
       "      <td>14336199</td>\n",
       "      <td>18907</td>\n",
       "      <td>0</td>\n",
       "      <td>NaN</td>\n",
       "      <td>NaN</td>\n",
       "      <td>NaN</td>\n",
       "      <td>20160618.0</td>\n",
       "    </tr>\n",
       "    <tr>\n",
       "      <th>3</th>\n",
       "      <td>14336199</td>\n",
       "      <td>18907</td>\n",
       "      <td>0</td>\n",
       "      <td>NaN</td>\n",
       "      <td>NaN</td>\n",
       "      <td>NaN</td>\n",
       "      <td>20160618.0</td>\n",
       "    </tr>\n",
       "    <tr>\n",
       "      <th>4</th>\n",
       "      <td>14336199</td>\n",
       "      <td>18907</td>\n",
       "      <td>0</td>\n",
       "      <td>NaN</td>\n",
       "      <td>NaN</td>\n",
       "      <td>NaN</td>\n",
       "      <td>20160618.0</td>\n",
       "    </tr>\n",
       "  </tbody>\n",
       "</table>\n",
       "</div>"
      ],
      "text/plain": [
       "    user_id  merchant_id  coupon_id discount_rate distance  date_received  \\\n",
       "0  13740231        34805          1           NaN      NaN            NaN   \n",
       "1  14336199        18907          0           NaN      NaN            NaN   \n",
       "2  14336199        18907          0           NaN      NaN            NaN   \n",
       "3  14336199        18907          0           NaN      NaN            NaN   \n",
       "4  14336199        18907          0           NaN      NaN            NaN   \n",
       "\n",
       "         date  \n",
       "0  20160321.0  \n",
       "1  20160618.0  \n",
       "2  20160618.0  \n",
       "3  20160618.0  \n",
       "4  20160618.0  "
      ]
     },
     "execution_count": 9,
     "metadata": {},
     "output_type": "execute_result"
    }
   ],
   "source": [
    "on_train.head()"
   ]
  },
  {
   "cell_type": "code",
   "execution_count": 10,
   "metadata": {},
   "outputs": [
    {
     "name": "stdout",
     "output_type": "stream",
     "text": [
      "<class 'pandas.core.frame.DataFrame'>\n",
      "RangeIndex: 1754883 entries, 0 to 1754882\n",
      "Data columns (total 7 columns):\n",
      " #   Column         Dtype  \n",
      "---  ------         -----  \n",
      " 0   user_id        int64  \n",
      " 1   merchant_id    int64  \n",
      " 2   coupon_id      float64\n",
      " 3   discount_rate  object \n",
      " 4   distance       float64\n",
      " 5   date_received  float64\n",
      " 6   date           float64\n",
      "dtypes: float64(4), int64(2), object(1)\n",
      "memory usage: 93.7+ MB\n"
     ]
    }
   ],
   "source": [
    "off_train.info()"
   ]
  },
  {
   "cell_type": "code",
   "execution_count": 11,
   "metadata": {},
   "outputs": [
    {
     "name": "stdout",
     "output_type": "stream",
     "text": [
      "<class 'pandas.core.frame.DataFrame'>\n",
      "RangeIndex: 113639 entries, 0 to 113638\n",
      "Data columns (total 6 columns):\n",
      " #   Column         Non-Null Count   Dtype  \n",
      "---  ------         --------------   -----  \n",
      " 0   user_id        113639 non-null  int64  \n",
      " 1   merchant_id    113639 non-null  int64  \n",
      " 2   coupon_id      113639 non-null  int64  \n",
      " 3   discount_rate  113639 non-null  object \n",
      " 4   distance       101575 non-null  float64\n",
      " 5   date_received  113639 non-null  int64  \n",
      "dtypes: float64(1), int64(4), object(1)\n",
      "memory usage: 5.2+ MB\n"
     ]
    }
   ],
   "source": [
    "off_test.info()"
   ]
  },
  {
   "cell_type": "code",
   "execution_count": 12,
   "metadata": {},
   "outputs": [
    {
     "name": "stdout",
     "output_type": "stream",
     "text": [
      "<class 'pandas.core.frame.DataFrame'>\n",
      "RangeIndex: 11429825 entries, 0 to 11429824\n",
      "Data columns (total 7 columns):\n",
      " #   Column         Dtype  \n",
      "---  ------         -----  \n",
      " 0   user_id        int64  \n",
      " 1   merchant_id    int64  \n",
      " 2   coupon_id      int64  \n",
      " 3   discount_rate  object \n",
      " 4   distance       object \n",
      " 5   date_received  float64\n",
      " 6   date           float64\n",
      "dtypes: float64(2), int64(3), object(2)\n",
      "memory usage: 610.4+ MB\n"
     ]
    }
   ],
   "source": [
    "on_train.info()"
   ]
  },
  {
   "cell_type": "code",
   "execution_count": 13,
   "metadata": {},
   "outputs": [
    {
     "data": {
      "text/html": [
       "<div>\n",
       "<style scoped>\n",
       "    .dataframe tbody tr th:only-of-type {\n",
       "        vertical-align: middle;\n",
       "    }\n",
       "\n",
       "    .dataframe tbody tr th {\n",
       "        vertical-align: top;\n",
       "    }\n",
       "\n",
       "    .dataframe thead th {\n",
       "        text-align: right;\n",
       "    }\n",
       "</style>\n",
       "<table border=\"1\" class=\"dataframe\">\n",
       "  <thead>\n",
       "    <tr style=\"text-align: right;\">\n",
       "      <th></th>\n",
       "      <th>user_id</th>\n",
       "      <th>merchant_id</th>\n",
       "      <th>coupon_id</th>\n",
       "      <th>distance</th>\n",
       "      <th>date_received</th>\n",
       "      <th>date</th>\n",
       "    </tr>\n",
       "  </thead>\n",
       "  <tbody>\n",
       "    <tr>\n",
       "      <th>count</th>\n",
       "      <td>1.754883e+06</td>\n",
       "      <td>1.754883e+06</td>\n",
       "      <td>1.053282e+06</td>\n",
       "      <td>1.648880e+06</td>\n",
       "      <td>1.053282e+06</td>\n",
       "      <td>7.769830e+05</td>\n",
       "    </tr>\n",
       "    <tr>\n",
       "      <th>mean</th>\n",
       "      <td>3.689256e+06</td>\n",
       "      <td>4.038809e+03</td>\n",
       "      <td>6.815398e+03</td>\n",
       "      <td>2.361637e+00</td>\n",
       "      <td>2.016032e+07</td>\n",
       "      <td>2.016040e+07</td>\n",
       "    </tr>\n",
       "    <tr>\n",
       "      <th>std</th>\n",
       "      <td>2.123428e+06</td>\n",
       "      <td>2.435963e+03</td>\n",
       "      <td>4.174276e+03</td>\n",
       "      <td>3.483975e+00</td>\n",
       "      <td>1.771416e+02</td>\n",
       "      <td>1.621500e+02</td>\n",
       "    </tr>\n",
       "    <tr>\n",
       "      <th>min</th>\n",
       "      <td>4.000000e+00</td>\n",
       "      <td>1.000000e+00</td>\n",
       "      <td>1.000000e+00</td>\n",
       "      <td>0.000000e+00</td>\n",
       "      <td>2.016010e+07</td>\n",
       "      <td>2.016010e+07</td>\n",
       "    </tr>\n",
       "    <tr>\n",
       "      <th>25%</th>\n",
       "      <td>1.845052e+06</td>\n",
       "      <td>1.983000e+03</td>\n",
       "      <td>2.840000e+03</td>\n",
       "      <td>0.000000e+00</td>\n",
       "      <td>2.016013e+07</td>\n",
       "      <td>2.016031e+07</td>\n",
       "    </tr>\n",
       "    <tr>\n",
       "      <th>50%</th>\n",
       "      <td>3.694453e+06</td>\n",
       "      <td>3.532000e+03</td>\n",
       "      <td>7.430000e+03</td>\n",
       "      <td>0.000000e+00</td>\n",
       "      <td>2.016032e+07</td>\n",
       "      <td>2.016042e+07</td>\n",
       "    </tr>\n",
       "    <tr>\n",
       "      <th>75%</th>\n",
       "      <td>5.528759e+06</td>\n",
       "      <td>6.329000e+03</td>\n",
       "      <td>1.032300e+04</td>\n",
       "      <td>3.000000e+00</td>\n",
       "      <td>2.016051e+07</td>\n",
       "      <td>2.016052e+07</td>\n",
       "    </tr>\n",
       "    <tr>\n",
       "      <th>max</th>\n",
       "      <td>7.361032e+06</td>\n",
       "      <td>8.856000e+03</td>\n",
       "      <td>1.404500e+04</td>\n",
       "      <td>1.000000e+01</td>\n",
       "      <td>2.016062e+07</td>\n",
       "      <td>2.016063e+07</td>\n",
       "    </tr>\n",
       "  </tbody>\n",
       "</table>\n",
       "</div>"
      ],
      "text/plain": [
       "            user_id   merchant_id     coupon_id      distance  date_received  \\\n",
       "count  1.754883e+06  1.754883e+06  1.053282e+06  1.648880e+06   1.053282e+06   \n",
       "mean   3.689256e+06  4.038809e+03  6.815398e+03  2.361637e+00   2.016032e+07   \n",
       "std    2.123428e+06  2.435963e+03  4.174276e+03  3.483975e+00   1.771416e+02   \n",
       "min    4.000000e+00  1.000000e+00  1.000000e+00  0.000000e+00   2.016010e+07   \n",
       "25%    1.845052e+06  1.983000e+03  2.840000e+03  0.000000e+00   2.016013e+07   \n",
       "50%    3.694453e+06  3.532000e+03  7.430000e+03  0.000000e+00   2.016032e+07   \n",
       "75%    5.528759e+06  6.329000e+03  1.032300e+04  3.000000e+00   2.016051e+07   \n",
       "max    7.361032e+06  8.856000e+03  1.404500e+04  1.000000e+01   2.016062e+07   \n",
       "\n",
       "               date  \n",
       "count  7.769830e+05  \n",
       "mean   2.016040e+07  \n",
       "std    1.621500e+02  \n",
       "min    2.016010e+07  \n",
       "25%    2.016031e+07  \n",
       "50%    2.016042e+07  \n",
       "75%    2.016052e+07  \n",
       "max    2.016063e+07  "
      ]
     },
     "execution_count": 13,
     "metadata": {},
     "output_type": "execute_result"
    }
   ],
   "source": [
    "off_train.describe()"
   ]
  },
  {
   "cell_type": "markdown",
   "metadata": {},
   "source": [
    "# 数据缺失情况"
   ]
  },
  {
   "cell_type": "code",
   "execution_count": 14,
   "metadata": {},
   "outputs": [
    {
     "data": {
      "text/plain": [
       "user_id               0\n",
       "merchant_id           0\n",
       "coupon_id        701601\n",
       "discount_rate    701601\n",
       "distance         106003\n",
       "date_received    701601\n",
       "date             977900\n",
       "dtype: int64"
      ]
     },
     "execution_count": 14,
     "metadata": {},
     "output_type": "execute_result"
    }
   ],
   "source": [
    "off_train.isnull().sum()"
   ]
  },
  {
   "cell_type": "code",
   "execution_count": 15,
   "metadata": {},
   "outputs": [
    {
     "data": {
      "text/plain": [
       "user_id              0\n",
       "merchant_id          0\n",
       "coupon_id            0\n",
       "discount_rate        0\n",
       "distance         12064\n",
       "date_received        0\n",
       "dtype: int64"
      ]
     },
     "execution_count": 15,
     "metadata": {},
     "output_type": "execute_result"
    }
   ],
   "source": [
    "off_test.isnull().sum()"
   ]
  },
  {
   "cell_type": "code",
   "execution_count": 16,
   "metadata": {},
   "outputs": [
    {
     "data": {
      "text/plain": [
       "user_id                 0\n",
       "merchant_id             0\n",
       "coupon_id               0\n",
       "discount_rate    10557469\n",
       "distance         10557469\n",
       "date_received    10557469\n",
       "date               655897\n",
       "dtype: int64"
      ]
     },
     "execution_count": 16,
     "metadata": {},
     "output_type": "execute_result"
    }
   ],
   "source": [
    "on_train.isnull().sum()"
   ]
  },
  {
   "cell_type": "markdown",
   "metadata": {},
   "source": [
    "# 数据边界探索"
   ]
  },
  {
   "cell_type": "code",
   "execution_count": 20,
   "metadata": {},
   "outputs": [
    {
     "name": "stdout",
     "output_type": "stream",
     "text": [
      "offline train date_received\n",
      "20160101.0\n",
      "20160615.0\n",
      "online train date_received\n",
      "20160101.0\n",
      "20160615.0\n",
      "test date_received\n",
      "20160701\n",
      "20160731\n"
     ]
    }
   ],
   "source": [
    "print('offline train date_received')\n",
    "print(off_train[off_train['date_received'] != 'null']['date_received'].min())\n",
    "print(off_train[off_train['date_received'] != 'null']['date_received'].max())\n",
    "\n",
    "print('online train date_received')\n",
    "print(on_train[on_train['date_received'] != 'null']['date_received'].min())\n",
    "print(on_train[on_train['date_received'] != 'null']['date_received'].max())\n",
    "\n",
    "print('test date_received')\n",
    "print(off_test['date_received'].min())\n",
    "print(off_test['date_received'].max())"
   ]
  },
  {
   "cell_type": "code",
   "execution_count": 22,
   "metadata": {},
   "outputs": [
    {
     "name": "stdout",
     "output_type": "stream",
     "text": [
      "offline train date\n",
      "20160101.0\n",
      "20160630.0\n",
      "online train date\n",
      "20160101.0\n",
      "20160630.0\n"
     ]
    }
   ],
   "source": [
    "print('offline train date')\n",
    "print(off_train[off_train['date'] != 'null']['date'].min())\n",
    "print(off_train[off_train['date'] != 'null']['date'].max())\n",
    "\n",
    "print('online train date')\n",
    "print(on_train[on_train['date'] != 'null']['date'].min())\n",
    "print(on_train[on_train['date'] != 'null']['date'].max())"
   ]
  },
  {
   "cell_type": "code",
   "execution_count": 25,
   "metadata": {},
   "outputs": [
    {
     "name": "stdout",
     "output_type": "stream",
     "text": [
      "offline训练集用户ID数量\n",
      "539438\n",
      "online训练集用户ID数量\n",
      "762858\n",
      "offline测试集用户ID数量\n",
      "76308\n"
     ]
    }
   ],
   "source": [
    "# 查看online和offline训练集的user_id与测试集的重合度\n",
    "off_train_user = off_train[['user_id']].copy().drop_duplicates()\n",
    "off_test_user = off_test[['user_id']].copy().drop_duplicates()\n",
    "on_train_user = on_train[['user_id']].copy().drop_duplicates()\n",
    "print('offline训练集用户ID数量')\n",
    "print(off_train_user.user_id.count())\n",
    "print('online训练集用户ID数量')\n",
    "print(on_train_user.user_id.count())\n",
    "print('offline测试集用户ID数量')\n",
    "print(off_test_user.user_id.count())\n"
   ]
  },
  {
   "cell_type": "code",
   "execution_count": 28,
   "metadata": {},
   "outputs": [
    {
     "name": "stdout",
     "output_type": "stream",
     "text": [
      "offline 训练集用户与测试集用户的重复数量\n",
      "76306.0\n",
      "offline 训练集用户与测试集重复用户在总测试集用户中的占比\n",
      "0.9999737904282644\n",
      "online 训练集用户与测试集用户的重复数量\n",
      "43155.0\n",
      "online 训练集用户与测试集重复用户在总测试集用户中的占比\n",
      "0.5655370341248624\n"
     ]
    }
   ],
   "source": [
    "off_train_user['off_train_flag'] = 1\n",
    "off_merge = off_test_user.merge(off_train_user, on='user_id', how='left').reset_index().fillna(0)\n",
    "print('offline 训练集用户与测试集用户的重复数量')\n",
    "print(off_merge['off_train_flag'].sum())\n",
    "print('offline 训练集用户与测试集重复用户在总测试集用户中的占比')\n",
    "print(off_merge['off_train_flag'].sum() / off_merge['off_train_flag'].count())\n",
    "\n",
    "on_train_user['on_train_flag'] = 1\n",
    "on_merge = off_test_user.merge(on_train_user, on='user_id', how='left').reset_index().fillna(0)\n",
    "print('online 训练集用户与测试集用户的重复数量')\n",
    "print(on_merge['on_train_flag'].sum())\n",
    "print('online 训练集用户与测试集重复用户在总测试集用户中的占比')\n",
    "print(on_merge['on_train_flag'].sum() / on_merge['on_train_flag'].count())"
   ]
  },
  {
   "cell_type": "code",
   "execution_count": null,
   "metadata": {},
   "outputs": [],
   "source": [
    "#  查看online和offline训练集和merchant_id与测试集的重合度\n",
    "off_train_"
   ]
  }
 ],
 "metadata": {
  "kernelspec": {
   "display_name": "Python 3 (ipykernel)",
   "language": "python",
   "name": "python3"
  },
  "language_info": {
   "codemirror_mode": {
    "name": "ipython",
    "version": 3
   },
   "file_extension": ".py",
   "mimetype": "text/x-python",
   "name": "python",
   "nbconvert_exporter": "python",
   "pygments_lexer": "ipython3",
   "version": "3.9.6"
  }
 },
 "nbformat": 4,
 "nbformat_minor": 1
}
