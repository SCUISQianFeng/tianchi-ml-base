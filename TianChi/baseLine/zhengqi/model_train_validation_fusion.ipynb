{
 "cells": [
  {
   "cell_type": "code",
   "execution_count": 19,
   "metadata": {
    "pycharm": {
     "is_executing": false
    }
   },
   "outputs": [],
   "source": [
    "# 模型训练-验证"
   ]
  },
  {
   "cell_type": "code",
   "execution_count": 20,
   "metadata": {
    "pycharm": {
     "is_executing": false
    }
   },
   "outputs": [],
   "source": [
    "import numpy as np\n",
    "import pandas as pd\n",
    "import matplotlib.pyplot as plt\n",
    "import warnings\n",
    "warnings.filterwarnings('ignore')\n",
    "\n",
    "from sklearn.linear_model import LinearRegression\n",
    "from sklearn.linear_model import SGDRegressor\n",
    "from sklearn.neighbors import KNeighborsRegressor\n",
    "from sklearn.tree import DecisionTreeRegressor\n",
    "from sklearn.svm import SVR\n",
    "import lightgbm as lgb\n",
    "\n",
    "from sklearn.model_selection import train_test_split\n",
    "from sklearn.metrics import mean_squared_error\n",
    "from sklearn.model_selection import learning_curve\n",
    "from sklearn.model_selection import ShuffleSplit"
   ]
  },
  {
   "cell_type": "code",
   "execution_count": 21,
   "metadata": {
    "pycharm": {
     "is_executing": false
    }
   },
   "outputs": [],
   "source": [
    "train_path = r'E:\\DataSet\\Tianchi\\zhengqi\\zhengqi_train.txt'\n",
    "test_path = r'E:\\DataSet\\Tianchi\\zhengqi\\zhengqi_test.txt'\n",
    "\n",
    "train_data = pd.read_csv(train_path, delimiter=\"\\t\", encoding='utf-8')\n",
    "test_data = pd.read_csv(test_path, delimiter=\"\\t\", encoding='utf-8')"
   ]
  },
  {
   "cell_type": "code",
   "execution_count": 22,
   "metadata": {
    "pycharm": {
     "is_executing": false
    }
   },
   "outputs": [],
   "source": [
    "# 数据归一化处理\n",
    "\n",
    "from sklearn.preprocessing import MinMaxScaler\n",
    "feature_columns = [col for col in train_data.columns if col not in  ['target']]\n",
    "min_max_scaler = MinMaxScaler()\n",
    "min_max_scaler.fit(train_data[feature_columns])\n",
    "train_data_scaler = min_max_scaler.transform(train_data[feature_columns])\n",
    "test_data_scaler = min_max_scaler.transform(test_data[feature_columns])\n",
    "train_data_scaler = pd.DataFrame(train_data_scaler)\n",
    "test_data_scaler= pd.DataFrame(test_data_scaler)\n",
    "train_data_scaler.columns = feature_columns\n",
    "train_data_scaler['target'] = train_data['target']\n",
    "test_data_scaler.columns = feature_columns\n",
    "# display(train_data_scaler.describe())"
   ]
  },
  {
   "cell_type": "code",
   "execution_count": 23,
   "metadata": {
    "pycharm": {
     "is_executing": false
    }
   },
   "outputs": [],
   "source": [
    "# pca 降维，保留16个特征\n",
    "from sklearn.decomposition import PCA\n",
    "pca = PCA(n_components=16)\n",
    "new_train_pca_16 = pca.fit_transform(train_data_scaler.iloc[:, :-1])\n",
    "new_test_pca_16 = pca.fit_transform(test_data_scaler)\n",
    "new_train_pca_16 = pd.DataFrame(new_train_pca_16)\n",
    "new_test_pca_16 = pd.DataFrame(new_test_pca_16)\n",
    "new_train_pca_16['target'] = train_data_scaler['target']\n"
   ]
  },
  {
   "cell_type": "code",
   "execution_count": 24,
   "metadata": {
    "pycharm": {
     "is_executing": false
    }
   },
   "outputs": [],
   "source": [
    "# 将数据进行切分\n",
    "from sklearn.model_selection import train_test_split\n",
    "\n",
    "new_train_pca_16 = new_train_pca_16.fillna(0)\n",
    "train = new_train_pca_16[new_test_pca_16.columns]\n",
    "target = new_train_pca_16['target']\n",
    "\n",
    "# train_test_split?\n",
    "train_data, test_data, train_target, test_target = train_test_split(train, target, test_size=0.2, random_state=0 )"
   ]
  },
  {
   "cell_type": "code",
   "execution_count": 25,
   "metadata": {
    "pycharm": {
     "is_executing": false
    }
   },
   "outputs": [
    {
     "name": "stdout",
     "output_type": "stream",
     "text": [
      "SGDRegressor train score:  0.15155183334372427\n",
      "SGDRegressor test score:  0.155824504453808\n"
     ]
    }
   ],
   "source": [
    "# 欠拟合\n",
    "clf = SGDRegressor(max_iter=500, tol=1e-2)\n",
    "clf.fit(train_data, train_target)\n",
    "score_train = mean_squared_error(train_target, clf.predict(train_data))\n",
    "score_test = mean_squared_error(test_target, clf.predict(test_data))\n",
    "print('SGDRegressor train score: ', score_train)\n",
    "print('SGDRegressor test score: ', score_test)"
   ]
  },
  {
   "cell_type": "code",
   "execution_count": 26,
   "metadata": {
    "pycharm": {
     "is_executing": false
    }
   },
   "outputs": [
    {
     "name": "stdout",
     "output_type": "stream",
     "text": [
      "PolynomialFeatures 5 train score:  0.1323757787414136\n",
      "PolynomialFeatures 5  test score:  0.14446407943989173\n"
     ]
    }
   ],
   "source": [
    "# 过拟合\n",
    "from sklearn.preprocessing import PolynomialFeatures\n",
    "# PolynomialFeatures?\n",
    "poly = PolynomialFeatures(degree=5)\n",
    "train_data_poly = poly.fit_transform(train_data)\n",
    "test_data_poly = poly.fit_transform(test_data)\n",
    "clf = SGDRegressor(max_iter=1000, tol=1e-3)\n",
    "clf.fit(train_data_poly, train_target)\n",
    "score_train = mean_squared_error(train_target, clf.predict(train_data_poly))\n",
    "score_test = mean_squared_error(test_target, clf.predict(test_data_poly))\n",
    "print('PolynomialFeatures 5 train score: ', score_train)\n",
    "print('PolynomialFeatures 5  test score: ', score_test)"
   ]
  },
  {
   "cell_type": "code",
   "execution_count": 27,
   "metadata": {
    "pycharm": {
     "is_executing": false
    }
   },
   "outputs": [
    {
     "name": "stdout",
     "output_type": "stream",
     "text": [
      "PolynomialFeatures 5 train score:  0.13402008037929974\n",
      "PolynomialFeatures 5  test score:  0.1425129603274109\n"
     ]
    }
   ],
   "source": [
    "# 正常拟合\n",
    "poly = PolynomialFeatures(degree=3)\n",
    "train_data_poly = poly.fit_transform(train_data)\n",
    "test_data_poly = poly.fit_transform(test_data)\n",
    "clf = SGDRegressor(max_iter=1000, tol=1e-3)\n",
    "clf.fit(train_data_poly, train_target)\n",
    "score_train = mean_squared_error(train_target, clf.predict(train_data_poly))\n",
    "score_test = mean_squared_error(test_target, clf.predict(test_data_poly))\n",
    "print('PolynomialFeatures 5 train score: ', score_train)\n",
    "print('PolynomialFeatures 5  test score: ', score_test)"
   ]
  },
  {
   "cell_type": "code",
   "execution_count": 28,
   "metadata": {
    "pycharm": {
     "is_executing": false
    }
   },
   "outputs": [
    {
     "name": "stdout",
     "output_type": "stream",
     "text": [
      "L2 train score:  0.13406068127895662\n",
      "L2 test score:  0.1424578745035301\n"
     ]
    }
   ],
   "source": [
    "# 模型正则化\n",
    "# L2范数\n",
    "poly = PolynomialFeatures(degree=3)\n",
    "train_data_poly = poly.fit_transform(train_data)\n",
    "test_data_poly = poly.fit_transform(test_data)\n",
    "clf = SGDRegressor(max_iter=1000, tol=1e-3, penalty='L2')\n",
    "clf.fit(train_data_poly, train_target)\n",
    "score_train = mean_squared_error(train_target, clf.predict(train_data_poly))\n",
    "score_test = mean_squared_error(test_target, clf.predict(test_data_poly))\n",
    "print('L2 train score: ', score_train)\n",
    "print('L2 test score: ', score_test)"
   ]
  },
  {
   "cell_type": "code",
   "execution_count": 29,
   "metadata": {
    "pycharm": {
     "is_executing": false
    }
   },
   "outputs": [
    {
     "name": "stdout",
     "output_type": "stream",
     "text": [
      "L1 train score:  0.13473343195312143\n",
      "L1 test score:  0.14292144279882937\n"
     ]
    }
   ],
   "source": [
    "# L1范数\n",
    "poly = PolynomialFeatures(degree=3)\n",
    "train_data_poly = poly.fit_transform(train_data)\n",
    "test_data_poly = poly.fit_transform(test_data)\n",
    "clf = SGDRegressor(max_iter=1000, tol=1e-3, penalty='L1')\n",
    "clf.fit(train_data_poly, train_target)\n",
    "score_train = mean_squared_error(train_target, clf.predict(train_data_poly))\n",
    "score_test = mean_squared_error(test_target, clf.predict(test_data_poly))\n",
    "print('L1 train score: ', score_train)\n",
    "print('L1 test score: ', score_test)"
   ]
  },
  {
   "cell_type": "code",
   "execution_count": 30,
   "metadata": {
    "pycharm": {
     "is_executing": false
    }
   },
   "outputs": [
    {
     "name": "stdout",
     "output_type": "stream",
     "text": [
      "elasticnet train score:  0.13442729097154174\n",
      "elasticnet test score:  0.1427987484972011\n"
     ]
    }
   ],
   "source": [
    "# 弹性网络\n",
    "poly = PolynomialFeatures(degree=3)\n",
    "train_data_poly = poly.fit_transform(train_data)\n",
    "test_data_poly = poly.fit_transform(test_data)\n",
    "clf = SGDRegressor(max_iter=1000, tol=1e-3, penalty='elasticnet')\n",
    "clf.fit(train_data_poly, train_target)\n",
    "score_train = mean_squared_error(train_target, clf.predict(train_data_poly))\n",
    "score_test = mean_squared_error(test_target, clf.predict(test_data_poly))\n",
    "print('elasticnet train score: ', score_train)\n",
    "print('elasticnet test score: ', score_test)"
   ]
  },
  {
   "cell_type": "code",
   "execution_count": 31,
   "metadata": {
    "pycharm": {
     "is_executing": false
    }
   },
   "outputs": [
    {
     "name": "stdout",
     "output_type": "stream",
     "text": [
      "SGDRegressor train score:  0.14159474340999628\n",
      "SGDRegressor test score:  0.1471038723157005\n"
     ]
    }
   ],
   "source": [
    "# 交叉验证\n",
    "# 简单交叉验证\n",
    "clf = SGDRegressor(max_iter=1000, tol=1e-3)\n",
    "clf.fit(train_data, train_target)\n",
    "score_train = mean_squared_error(train_target, clf.predict(train_data))\n",
    "score_test = mean_squared_error(test_target, clf.predict(test_data))\n",
    "print('SGDRegressor train score: ', score_train)\n",
    "print('SGDRegressor test score: ', score_test)"
   ]
  },
  {
   "cell_type": "code",
   "execution_count": 32,
   "metadata": {
    "pycharm": {
     "is_executing": false
    }
   },
   "outputs": [],
   "source": [
    "# K折交叉验证\n",
    "from sklearn.model_selection import KFold\n",
    "# ValueError: Found input variables with inconsistent numbers of samples: [2311, 2310]\n",
    "\n",
    "# kf = KFold(n_splits=5)\n",
    "# for k, (train_index, test_index) in enumerate(kf.split(train)):\n",
    "#     if (k == 3):\n",
    "#         print(train.shape)\n",
    "#         print(train_index)\n",
    "#         print(test_index)\n",
    "#     train_data, test_data, train_taret, test_target = train.values[train_index],train.values[test_index],target[train_index],target[test_index]\n",
    "#     clf = SGDRegressor(max_iter=1000, tol=1e-3)\n",
    "#     clf.fit(train_data, train_target)\n",
    "#     score_train = mean_squared_error(train_target, clf.predict(train_data))\n",
    "#     score_test = mean_squared_error(test_target, clf.predict(test_data))\n",
    "#     print(k, '折', 'SGDRegressor train score: ', score_train)\n",
    "#     print(k, '折', 'SGDRegressor test score: ', score_test)"
   ]
  },
  {
   "cell_type": "code",
   "execution_count": 33,
   "metadata": {
    "pycharm": {
     "is_executing": false
    }
   },
   "outputs": [],
   "source": [
    "# 留一法验证\n",
    "from sklearn.model_selection import LeaveOneOut\n",
    "# loo = LeaveOneOut()\n",
    "# # kf = KFold(n_splits=5)\n",
    "# for k, (train_index, test_index) in enumerate(loo.split(train)):\n",
    "#     train_data, test_data, train_taret, test_target = train.values[train_index],train.values[test_index],target[train_index],target[test_index]\n",
    "#     clf = SGDRegressor(max_iter=1000, tol=1e-3)\n",
    "#     clf.fit(train_data, train_target)\n",
    "#     score_train = mean_squared_error(train_target, clf.predict(train_data))\n",
    "#     score_test = mean_squared_error(test_target, clf.predict(test_data))\n",
    "#     print(k, '折', 'SGDRegressor train score: ', score_train)\n",
    "#     print(k, '折', 'SGDRegressor test score: ', score_test)\n",
    "#     if k > 9:\n",
    "#         break"
   ]
  },
  {
   "cell_type": "code",
   "execution_count": 34,
   "metadata": {
    "pycharm": {
     "is_executing": true
    }
   },
   "outputs": [
    {
     "name": "stdout",
     "output_type": "stream",
     "text": [
      "RandomForestRegressor GridSearchCV test score 0.2575971035863264\n"
     ]
    },
    {
     "data": {
      "text/plain": [
       "['mean_fit_time',\n",
       " 'mean_score_time',\n",
       " 'mean_test_score',\n",
       " 'param_max_depth',\n",
       " 'param_n_estimators',\n",
       " 'params',\n",
       " 'rank_test_score',\n",
       " 'split0_test_score',\n",
       " 'split1_test_score',\n",
       " 'split2_test_score',\n",
       " 'split3_test_score',\n",
       " 'split4_test_score',\n",
       " 'std_fit_time',\n",
       " 'std_score_time',\n",
       " 'std_test_score']"
      ]
     },
     "execution_count": 34,
     "metadata": {},
     "output_type": "execute_result"
    }
   ],
   "source": [
    "# 调参 穷举网格搜索\n",
    "from sklearn.model_selection import GridSearchCV\n",
    "from sklearn.ensemble import RandomForestRegressor\n",
    "from sklearn.model_selection import train_test_split\n",
    "\n",
    "train_data, test_data, train_target, test_target = train_test_split(train, target, test_size=0.2, random_state=0)\n",
    "randomFrestRegression = RandomForestRegressor()\n",
    "parameters = {'n_estimators': [50, 100, 200], 'max_depth': [1, 2, 3]}\n",
    "clf = GridSearchCV(randomFrestRegression, parameters, cv=5)\n",
    "clf.fit(train_data, train_target)\n",
    "score_test = mean_squared_error(test_target, clf.predict(test_data))\n",
    "print('RandomForestRegressor GridSearchCV test score', score_test)\n",
    "sorted(clf.cv_results_.keys())"
   ]
  },
  {
   "cell_type": "code",
   "execution_count": 35,
   "metadata": {
    "pycharm": {
     "is_executing": true
    }
   },
   "outputs": [
    {
     "name": "stdout",
     "output_type": "stream",
     "text": [
      "RandomizedSearchCV GridSearchCV test score 0.19588973786426667\n"
     ]
    }
   ],
   "source": [
    "# 调参 随机搜索\n",
    "from sklearn.model_selection import RandomizedSearchCV\n",
    "from sklearn.ensemble import RandomForestRegressor\n",
    "from sklearn.model_selection import train_test_split\n",
    "\n",
    "train_data, test_data, train_target, test_target = train_test_split(train, target, test_size=0.2, random_state=0)\n",
    "randomFrestRegression = RandomForestRegressor()\n",
    "parameters = {'n_estimators': [50, 100, 200, 300], 'max_depth': [1, 2, 3, 4, 5]}\n",
    "clf = RandomizedSearchCV(randomFrestRegression, parameters, cv=5)\n",
    "clf.fit(train_data, train_target)\n",
    "score_test = mean_squared_error(test_target, clf.predict(test_data))\n",
    "print('RandomizedSearchCV GridSearchCV test score', score_test)\n",
    "# sorted(clf.cv_results_.keys())\n",
    "# print(clf.best_params_)\n",
    "# {'n_estimators': 50, 'max_depth': 5}"
   ]
  },
  {
   "cell_type": "code",
   "execution_count": 36,
   "metadata": {
    "pycharm": {
     "is_executing": true
    }
   },
   "outputs": [
    {
     "name": "stdout",
     "output_type": "stream",
     "text": [
      "LGBMRegressor GridSearchCV test score 0.15195486501296265\n",
      "LGBMRegressor best parameters:  {'learning_rate': 0.1, 'n_estimators': 40}\n"
     ]
    }
   ],
   "source": [
    "# 调参 随机搜索\n",
    "from sklearn.model_selection import GridSearchCV\n",
    "from sklearn.model_selection import train_test_split\n",
    "import lightgbm as lgb\n",
    "\n",
    "train_data, test_data, train_target, test_target = train_test_split(train, target, test_size=0.2, random_state=0)\n",
    "clf = lgb.LGBMRegressor(num_leaves=31)\n",
    "# clf?\n",
    "parameters = {'learning_rate': [0.01, 0.1, 1], 'n_estimators': [20, 40]}\n",
    "clf = GridSearchCV(clf, parameters, cv=5)\n",
    "clf.fit(train_data, train_target)\n",
    "score_test = mean_squared_error(test_target, clf.predict(test_data))\n",
    "print('LGBMRegressor GridSearchCV test score', score_test)\n",
    "print('LGBMRegressor best parameters: ', clf.best_params_)"
   ]
  },
  {
   "cell_type": "code",
   "execution_count": 40,
   "metadata": {
    "pycharm": {
     "is_executing": true
    }
   },
   "outputs": [
    {
     "name": "stdout",
     "output_type": "stream",
     "text": [
      "Training until validation scores don't improve for 100 rounds\n",
      "[50]\tTrain's l2: 0.428458\tTest's l2: 0.466965\n",
      "[100]\tTrain's l2: 0.221807\tTest's l2: 0.263431\n",
      "[150]\tTrain's l2: 0.135301\tTest's l2: 0.183515\n",
      "[200]\tTrain's l2: 0.0958737\tTest's l2: 0.148825\n",
      "[250]\tTrain's l2: 0.075642\tTest's l2: 0.133187\n",
      "[300]\tTrain's l2: 0.0629311\tTest's l2: 0.125237\n",
      "[350]\tTrain's l2: 0.054088\tTest's l2: 0.121321\n",
      "[400]\tTrain's l2: 0.0473551\tTest's l2: 0.118307\n",
      "[450]\tTrain's l2: 0.0418952\tTest's l2: 0.116414\n",
      "[500]\tTrain's l2: 0.0375119\tTest's l2: 0.114863\n",
      "[550]\tTrain's l2: 0.0337062\tTest's l2: 0.114002\n",
      "[600]\tTrain's l2: 0.0303868\tTest's l2: 0.112781\n",
      "[650]\tTrain's l2: 0.02756\tTest's l2: 0.11207\n",
      "[700]\tTrain's l2: 0.0250506\tTest's l2: 0.111287\n",
      "[750]\tTrain's l2: 0.0228758\tTest's l2: 0.110742\n",
      "[800]\tTrain's l2: 0.0209081\tTest's l2: 0.1103\n",
      "[850]\tTrain's l2: 0.0191684\tTest's l2: 0.109946\n",
      "[900]\tTrain's l2: 0.0176066\tTest's l2: 0.109759\n",
      "[950]\tTrain's l2: 0.0162243\tTest's l2: 0.109423\n",
      "[1000]\tTrain's l2: 0.014984\tTest's l2: 0.109105\n",
      "[1050]\tTrain's l2: 0.0138415\tTest's l2: 0.108795\n",
      "[1100]\tTrain's l2: 0.0128086\tTest's l2: 0.108651\n",
      "[1150]\tTrain's l2: 0.0118895\tTest's l2: 0.10835\n",
      "[1200]\tTrain's l2: 0.0110348\tTest's l2: 0.108169\n",
      "[1250]\tTrain's l2: 0.0102351\tTest's l2: 0.107997\n",
      "[1300]\tTrain's l2: 0.00949631\tTest's l2: 0.107886\n",
      "[1350]\tTrain's l2: 0.00880985\tTest's l2: 0.107708\n",
      "[1400]\tTrain's l2: 0.00818496\tTest's l2: 0.107495\n",
      "[1450]\tTrain's l2: 0.00760212\tTest's l2: 0.107251\n",
      "[1500]\tTrain's l2: 0.00706786\tTest's l2: 0.107126\n",
      "[1550]\tTrain's l2: 0.00657032\tTest's l2: 0.107007\n",
      "[1600]\tTrain's l2: 0.00612321\tTest's l2: 0.10685\n",
      "[1650]\tTrain's l2: 0.00571558\tTest's l2: 0.106697\n",
      "[1700]\tTrain's l2: 0.00532708\tTest's l2: 0.106564\n",
      "[1750]\tTrain's l2: 0.00498736\tTest's l2: 0.106505\n",
      "[1800]\tTrain's l2: 0.0046641\tTest's l2: 0.10643\n",
      "[1850]\tTrain's l2: 0.00435927\tTest's l2: 0.106395\n",
      "[1900]\tTrain's l2: 0.00407441\tTest's l2: 0.106289\n",
      "[1950]\tTrain's l2: 0.00381589\tTest's l2: 0.106228\n",
      "[2000]\tTrain's l2: 0.00358102\tTest's l2: 0.106155\n",
      "[2050]\tTrain's l2: 0.00335863\tTest's l2: 0.106083\n",
      "[2100]\tTrain's l2: 0.00314878\tTest's l2: 0.106064\n",
      "[2150]\tTrain's l2: 0.0029488\tTest's l2: 0.106039\n",
      "[2200]\tTrain's l2: 0.0027557\tTest's l2: 0.105963\n",
      "[2250]\tTrain's l2: 0.00257956\tTest's l2: 0.105857\n",
      "[2300]\tTrain's l2: 0.00242506\tTest's l2: 0.105818\n",
      "[2350]\tTrain's l2: 0.00228008\tTest's l2: 0.105762\n",
      "[2400]\tTrain's l2: 0.00213319\tTest's l2: 0.105696\n",
      "[2450]\tTrain's l2: 0.00199799\tTest's l2: 0.105679\n",
      "[2500]\tTrain's l2: 0.00187769\tTest's l2: 0.10561\n",
      "[2550]\tTrain's l2: 0.0017642\tTest's l2: 0.105564\n",
      "[2600]\tTrain's l2: 0.00165572\tTest's l2: 0.105482\n",
      "[2650]\tTrain's l2: 0.00155773\tTest's l2: 0.105454\n",
      "[2700]\tTrain's l2: 0.0014622\tTest's l2: 0.105423\n",
      "[2750]\tTrain's l2: 0.00137505\tTest's l2: 0.105434\n",
      "Early stopping, best iteration is:\n",
      "[2686]\tTrain's l2: 0.00148912\tTest's l2: 0.105398\n",
      "第1折 训练和预测训练MSE 预测MSE\n",
      "-----\n",
      " 训练MSE\n",
      " 0.0014891170026875996 \n",
      "----\n",
      "-----\n",
      " 预测MSE\n",
      " 0.10539809256060707 \n",
      "----\n",
      "Training until validation scores don't improve for 100 rounds\n",
      "[50]\tTrain's l2: 0.436833\tTest's l2: 0.42889\n",
      "[100]\tTrain's l2: 0.221729\tTest's l2: 0.258452\n",
      "[150]\tTrain's l2: 0.132425\tTest's l2: 0.191434\n",
      "[200]\tTrain's l2: 0.0921422\tTest's l2: 0.164395\n",
      "[250]\tTrain's l2: 0.0715837\tTest's l2: 0.153253\n",
      "[300]\tTrain's l2: 0.0591252\tTest's l2: 0.147273\n",
      "[350]\tTrain's l2: 0.0505444\tTest's l2: 0.143558\n",
      "[400]\tTrain's l2: 0.0442696\tTest's l2: 0.141913\n",
      "[450]\tTrain's l2: 0.0391752\tTest's l2: 0.140459\n",
      "[500]\tTrain's l2: 0.0348435\tTest's l2: 0.139286\n",
      "[550]\tTrain's l2: 0.0313073\tTest's l2: 0.13851\n",
      "[600]\tTrain's l2: 0.0283011\tTest's l2: 0.138002\n",
      "[650]\tTrain's l2: 0.0256303\tTest's l2: 0.136922\n",
      "[700]\tTrain's l2: 0.0233832\tTest's l2: 0.1364\n",
      "[750]\tTrain's l2: 0.0213598\tTest's l2: 0.135964\n",
      "[800]\tTrain's l2: 0.0195432\tTest's l2: 0.135562\n",
      "[850]\tTrain's l2: 0.0179503\tTest's l2: 0.134965\n",
      "[900]\tTrain's l2: 0.0165388\tTest's l2: 0.134784\n",
      "[950]\tTrain's l2: 0.0152956\tTest's l2: 0.134611\n",
      "[1000]\tTrain's l2: 0.0141473\tTest's l2: 0.134473\n",
      "[1050]\tTrain's l2: 0.0130803\tTest's l2: 0.13427\n",
      "[1100]\tTrain's l2: 0.0121275\tTest's l2: 0.134171\n",
      "[1150]\tTrain's l2: 0.0112545\tTest's l2: 0.134014\n",
      "[1200]\tTrain's l2: 0.0104587\tTest's l2: 0.133869\n",
      "[1250]\tTrain's l2: 0.00970802\tTest's l2: 0.133655\n",
      "[1300]\tTrain's l2: 0.00900488\tTest's l2: 0.133415\n",
      "[1350]\tTrain's l2: 0.00834902\tTest's l2: 0.133204\n",
      "[1400]\tTrain's l2: 0.00774199\tTest's l2: 0.132926\n",
      "[1450]\tTrain's l2: 0.00720085\tTest's l2: 0.132728\n",
      "[1500]\tTrain's l2: 0.0067149\tTest's l2: 0.132755\n",
      "Early stopping, best iteration is:\n",
      "[1441]\tTrain's l2: 0.00728983\tTest's l2: 0.132697\n",
      "第2折 训练和预测训练MSE 预测MSE\n",
      "-----\n",
      " 训练MSE\n",
      " 0.0072898318628357595 \n",
      "----\n",
      "-----\n",
      " 预测MSE\n",
      " 0.1326966032163865 \n",
      "----\n",
      "Training until validation scores don't improve for 100 rounds\n",
      "[50]\tTrain's l2: 0.435334\tTest's l2: 0.435477\n",
      "[100]\tTrain's l2: 0.224797\tTest's l2: 0.241969\n",
      "[150]\tTrain's l2: 0.136834\tTest's l2: 0.165256\n",
      "[200]\tTrain's l2: 0.0968498\tTest's l2: 0.134493\n",
      "[250]\tTrain's l2: 0.0761729\tTest's l2: 0.121531\n",
      "[300]\tTrain's l2: 0.0636853\tTest's l2: 0.11448\n",
      "[350]\tTrain's l2: 0.0546683\tTest's l2: 0.110122\n",
      "[400]\tTrain's l2: 0.0479514\tTest's l2: 0.108073\n",
      "[450]\tTrain's l2: 0.0423758\tTest's l2: 0.107005\n",
      "[500]\tTrain's l2: 0.0377975\tTest's l2: 0.105778\n",
      "[550]\tTrain's l2: 0.0339731\tTest's l2: 0.104464\n",
      "[600]\tTrain's l2: 0.0306455\tTest's l2: 0.103408\n",
      "[650]\tTrain's l2: 0.0278085\tTest's l2: 0.10251\n",
      "[700]\tTrain's l2: 0.0252935\tTest's l2: 0.101614\n",
      "[750]\tTrain's l2: 0.0231005\tTest's l2: 0.101372\n",
      "[800]\tTrain's l2: 0.021199\tTest's l2: 0.101199\n",
      "[850]\tTrain's l2: 0.0194767\tTest's l2: 0.101142\n",
      "[900]\tTrain's l2: 0.0179671\tTest's l2: 0.101309\n",
      "Early stopping, best iteration is:\n",
      "[821]\tTrain's l2: 0.020451\tTest's l2: 0.101119\n",
      "第3折 训练和预测训练MSE 预测MSE\n",
      "-----\n",
      " 训练MSE\n",
      " 0.0204510246350711 \n",
      "----\n",
      "-----\n",
      " 预测MSE\n",
      " 0.10111932554955039 \n",
      "----\n",
      "Training until validation scores don't improve for 100 rounds\n",
      "[50]\tTrain's l2: 0.424194\tTest's l2: 0.486322\n",
      "[100]\tTrain's l2: 0.22045\tTest's l2: 0.264404\n",
      "[150]\tTrain's l2: 0.13572\tTest's l2: 0.178101\n",
      "[200]\tTrain's l2: 0.0968777\tTest's l2: 0.144088\n",
      "[250]\tTrain's l2: 0.0765346\tTest's l2: 0.129439\n",
      "[300]\tTrain's l2: 0.0639781\tTest's l2: 0.122908\n",
      "[350]\tTrain's l2: 0.0552914\tTest's l2: 0.118902\n",
      "[400]\tTrain's l2: 0.0485628\tTest's l2: 0.115741\n",
      "[450]\tTrain's l2: 0.0429733\tTest's l2: 0.114079\n",
      "[500]\tTrain's l2: 0.0383471\tTest's l2: 0.11299\n",
      "[550]\tTrain's l2: 0.0344226\tTest's l2: 0.112069\n",
      "[600]\tTrain's l2: 0.0311593\tTest's l2: 0.111212\n",
      "[650]\tTrain's l2: 0.0283902\tTest's l2: 0.110788\n",
      "[700]\tTrain's l2: 0.0258853\tTest's l2: 0.110003\n",
      "[750]\tTrain's l2: 0.0236758\tTest's l2: 0.109461\n",
      "[800]\tTrain's l2: 0.0217031\tTest's l2: 0.108945\n",
      "[850]\tTrain's l2: 0.019937\tTest's l2: 0.10856\n",
      "[900]\tTrain's l2: 0.0183338\tTest's l2: 0.108237\n",
      "[950]\tTrain's l2: 0.0168597\tTest's l2: 0.107832\n",
      "[1000]\tTrain's l2: 0.0155639\tTest's l2: 0.107673\n",
      "[1050]\tTrain's l2: 0.0143787\tTest's l2: 0.107542\n",
      "[1100]\tTrain's l2: 0.0132679\tTest's l2: 0.107417\n",
      "[1150]\tTrain's l2: 0.0123009\tTest's l2: 0.107295\n",
      "[1200]\tTrain's l2: 0.0113964\tTest's l2: 0.107125\n",
      "[1250]\tTrain's l2: 0.0105699\tTest's l2: 0.10694\n",
      "[1300]\tTrain's l2: 0.00982176\tTest's l2: 0.106933\n",
      "[1350]\tTrain's l2: 0.00913726\tTest's l2: 0.106855\n",
      "[1400]\tTrain's l2: 0.00849822\tTest's l2: 0.106897\n",
      "Early stopping, best iteration is:\n",
      "[1334]\tTrain's l2: 0.00935585\tTest's l2: 0.106822\n",
      "第4折 训练和预测训练MSE 预测MSE\n",
      "-----\n",
      " 训练MSE\n",
      " 0.009355847634266076 \n",
      "----\n",
      "-----\n",
      " 预测MSE\n",
      " 0.10682190098205552 \n",
      "----\n",
      "Training until validation scores don't improve for 100 rounds\n",
      "[50]\tTrain's l2: 0.435061\tTest's l2: 0.446282\n",
      "[100]\tTrain's l2: 0.224844\tTest's l2: 0.252081\n",
      "[150]\tTrain's l2: 0.136923\tTest's l2: 0.172668\n",
      "[200]\tTrain's l2: 0.0962587\tTest's l2: 0.13786\n",
      "[250]\tTrain's l2: 0.0754087\tTest's l2: 0.122259\n",
      "[300]\tTrain's l2: 0.0625492\tTest's l2: 0.114111\n",
      "[350]\tTrain's l2: 0.05372\tTest's l2: 0.109744\n",
      "[400]\tTrain's l2: 0.0469531\tTest's l2: 0.106481\n",
      "[450]\tTrain's l2: 0.0415226\tTest's l2: 0.104888\n",
      "[500]\tTrain's l2: 0.0370845\tTest's l2: 0.103151\n",
      "[550]\tTrain's l2: 0.033334\tTest's l2: 0.102501\n",
      "[600]\tTrain's l2: 0.0301713\tTest's l2: 0.101926\n",
      "[650]\tTrain's l2: 0.027339\tTest's l2: 0.101613\n",
      "[700]\tTrain's l2: 0.0249321\tTest's l2: 0.10139\n",
      "[750]\tTrain's l2: 0.0228313\tTest's l2: 0.101207\n",
      "[800]\tTrain's l2: 0.0209294\tTest's l2: 0.100924\n",
      "[850]\tTrain's l2: 0.0192055\tTest's l2: 0.100718\n"
     ]
    },
    {
     "name": "stdout",
     "output_type": "stream",
     "text": [
      "[900]\tTrain's l2: 0.0176946\tTest's l2: 0.100402\n",
      "[950]\tTrain's l2: 0.0163089\tTest's l2: 0.100187\n",
      "[1000]\tTrain's l2: 0.0150397\tTest's l2: 0.099986\n",
      "[1050]\tTrain's l2: 0.0138704\tTest's l2: 0.0998263\n",
      "[1100]\tTrain's l2: 0.0128394\tTest's l2: 0.0996427\n",
      "[1150]\tTrain's l2: 0.0118688\tTest's l2: 0.0996074\n",
      "[1200]\tTrain's l2: 0.0110126\tTest's l2: 0.0995783\n",
      "[1250]\tTrain's l2: 0.0102254\tTest's l2: 0.0995361\n",
      "[1300]\tTrain's l2: 0.00951201\tTest's l2: 0.0993949\n",
      "[1350]\tTrain's l2: 0.00884199\tTest's l2: 0.0992683\n",
      "[1400]\tTrain's l2: 0.00822777\tTest's l2: 0.0993064\n",
      "[1450]\tTrain's l2: 0.00767529\tTest's l2: 0.0992335\n",
      "[1500]\tTrain's l2: 0.00712999\tTest's l2: 0.0992797\n",
      "Early stopping, best iteration is:\n",
      "[1423]\tTrain's l2: 0.00797142\tTest's l2: 0.0992124\n",
      "第5折 训练和预测训练MSE 预测MSE\n",
      "-----\n",
      " 训练MSE\n",
      " 0.007971416523938925 \n",
      "----\n",
      "-----\n",
      " 预测MSE\n",
      " 0.09921237825179019 \n",
      "----\n",
      "-----\n",
      " 训练MSE\n",
      " [0.0014891170026875996, 0.0072898318628357595, 0.0204510246350711, 0.009355847634266076, 0.007971416523938925] \n",
      " 0.009311447531759892 \n",
      "----\n",
      "-----\n",
      " 预测MSE\n",
      " [0.10539809256060707, 0.1326966032163865, 0.10111932554955039, 0.10682190098205552, 0.09921237825179019] \n",
      " 0.10904966011207792 \n",
      "----\n"
     ]
    }
   ],
   "source": [
    "# LGB线下验证\n",
    "train_path = r'E:\\DataSet\\Tianchi\\zhengqi\\zhengqi_train.txt'\n",
    "test_path = r'E:\\DataSet\\Tianchi\\zhengqi\\zhengqi_test.txt'\n",
    "\n",
    "train_data2 = pd.read_csv(train_path, delimiter=\"\\t\", encoding='utf-8')\n",
    "test_data2 = pd.read_csv(test_path, delimiter=\"\\t\", encoding='utf-8')\n",
    "\n",
    "train_data2_f = train_data2[test_data2.columns].values\n",
    "train_data2_target = train_data2['target'].values\n",
    "\n",
    "# LGB模型\n",
    "import lightgbm as lgb\n",
    "from sklearn.model_selection import KFold\n",
    "import numpy as np\n",
    "\n",
    "Folds = 5\n",
    "kf = KFold(n_splits=Folds, shuffle=True, random_state=2019)\n",
    "MSE_DICT = {'train_mse': [], 'test_mse': []}\n",
    "\n",
    "# 线下训练预测\n",
    "for i, (train_index, test_index) in enumerate(kf.split(train_data2_f)):\n",
    "    lgb_reg = lgb.LGBMRegressor(learning_rate=0.01,\n",
    "                               max_depth = -1,\n",
    "                               n_estimators=5000,\n",
    "                               boosting_type='gbdt',\n",
    "                               random_state=2019,\n",
    "                               objective='regression')\n",
    "    X_train_KFold, X_test_KFold = train_data2_f[train_index], train_data2_f[test_index]\n",
    "    y_train_KFold, y_test_KFold = train_data2_target[train_index], train_data2_target[test_index]\n",
    "    lgb_reg.fit(X=X_train_KFold,\n",
    "                y=y_train_KFold,\n",
    "                eval_set=[(X_train_KFold, y_train_KFold),\n",
    "                          (X_test_KFold, y_test_KFold)],\n",
    "               eval_names=['Train', 'Test'],\n",
    "               early_stopping_rounds=100,\n",
    "               eval_metric='MSE',\n",
    "               verbose=50)\n",
    "    # 训练集和测试集预测\n",
    "    y_train_KFold_predict = lgb_reg.predict(X_train_KFold, num_iteration=lgb_reg.best_iteration_)\n",
    "    y_test_KFold_predict = lgb_reg.predict(X_test_KFold, num_iteration=lgb_reg.best_iteration_)\n",
    "    \n",
    "    print('第{}折 训练和预测训练MSE 预测MSE'.format(i + 1))\n",
    "    train_mse = mean_squared_error(y_train_KFold, y_train_KFold_predict)\n",
    "    print('-----\\n', '训练MSE\\n', train_mse, '\\n----')\n",
    "    test_mse = mean_squared_error(y_test_KFold, y_test_KFold_predict)\n",
    "    print('-----\\n', '预测MSE\\n', test_mse, '\\n----')\n",
    "    MSE_DICT['train_mse'].append(train_mse)\n",
    "    MSE_DICT['test_mse'].append(test_mse)\n",
    "    \n",
    "\n",
    "print('-----\\n', '训练MSE\\n', MSE_DICT['train_mse'], '\\n',\n",
    "      np.mean(MSE_DICT['train_mse']),'\\n----')\n",
    "print('-----\\n', '预测MSE\\n', MSE_DICT['test_mse'], '\\n',\n",
    "      np.mean(MSE_DICT['test_mse']),'\\n----')\n",
    "    \n",
    "    "
   ]
  },
  {
   "cell_type": "markdown",
   "metadata": {},
   "source": [
    "# 学习曲线"
   ]
  },
  {
   "cell_type": "code",
   "execution_count": 51,
   "metadata": {},
   "outputs": [
    {
     "data": {
      "text/plain": [
       "<module 'matplotlib.pyplot' from 'd:\\\\devtools\\\\python\\\\python37\\\\lib\\\\site-packages\\\\matplotlib\\\\pyplot.py'>"
      ]
     },
     "execution_count": 51,
     "metadata": {},
     "output_type": "execute_result"
    },
    {
     "data": {
      "text/plain": [
       "<Figure size 2700x1500 with 0 Axes>"
      ]
     },
     "metadata": {},
     "output_type": "display_data"
    },
    {
     "data": {
      "image/png": "[encoded data removed]",
      "text/plain": [
       "<Figure size 432x288 with 1 Axes>"
      ]
     },
     "metadata": {
      "needs_background": "light"
     },
     "output_type": "display_data"
    }
   ],
   "source": [
    "import numpy as np\n",
    "import matplotlib.pyplot as plt\n",
    "from sklearn.model_selection import ShuffleSplit\n",
    "from sklearn.linear_model import SGDRegressor\n",
    "from sklearn.model_selection import learning_curve\n",
    "\n",
    "plt.figure(figsize=(18, 10), dpi=150)\n",
    "\n",
    "def plot_learning_curve(estimator, title, X, y,\n",
    "                        ylim=None, cv=None, n_jobs=1,\n",
    "                        train_sizes=np.linspace(.1, 1.0, 5)):\n",
    "    plt.figure()\n",
    "    plt.title(title)\n",
    "    if ylim is not None:\n",
    "        plt.ylim(*ylim)\n",
    "    plt.xlabel('Training examples')\n",
    "    plt.ylabel('Score')\n",
    "#     learning_curve?\n",
    "    train_sizes, train_scores, test_scores = learning_curve(estimator=estimator,\n",
    "                                                           X=X, y=y, cv=cv, n_jobs=n_jobs,\n",
    "                                                           train_sizes=train_sizes)\n",
    "    \n",
    "    train_scores_mean = np.mean(train_scores, axis=1)\n",
    "    train_scores_std = np.std(train_scores, axis=1)\n",
    "    test_scores_mean = np.mean(test_scores, axis=1)\n",
    "    test_scores_std = np.std(test_scores, axis=1)\n",
    "    plt.grid()\n",
    "    \n",
    "    plt.fill_between(train_sizes,\n",
    "                     train_scores_mean - train_scores_std,\n",
    "                     train_scores_mean + train_scores_std,\n",
    "                     alpha=0.1,\n",
    "                     color='r')\n",
    "    \n",
    "    plt.fill_between(train_sizes,\n",
    "                     test_scores_mean - test_scores_std,\n",
    "                     test_scores_mean + test_scores_std,\n",
    "                     alpha=0.1,\n",
    "                     color='g')\n",
    "    \n",
    "    plt.plot(train_sizes,\n",
    "             train_scores_mean,\n",
    "             'o-',\n",
    "             color='r',\n",
    "             label='Training score')\n",
    "    plt.plot(train_sizes,\n",
    "             test_scores_mean,\n",
    "             'o-',\n",
    "             color='g',\n",
    "             label='Cross-validation score')\n",
    "    plt.legend(loc='best')\n",
    "    return plt\n",
    "\n",
    "X = train_data2[test_data2.columns].values\n",
    "y = train_data2['target'].values\n",
    "title = 'LinearRegression'\n",
    "cv = ShuffleSplit(n_splits=100, test_size=0.2, random_state=0)\n",
    "estimator = SGDRegressor()\n",
    "plot_learning_curve(estimator=estimator,\n",
    "                    title=title,\n",
    "                    X=X,\n",
    "                    y=y,\n",
    "                    ylim=(0.7, 1.0),\n",
    "                    cv=cv,\n",
    "                    n_jobs=-1)\n",
    "\n",
    "    "
   ]
  },
  {
   "cell_type": "code",
   "execution_count": 61,
   "metadata": {},
   "outputs": [
    {
     "data": {
      "text/plain": [
       "<module 'matplotlib.pyplot' from 'd:\\\\devtools\\\\python\\\\python37\\\\lib\\\\site-packages\\\\matplotlib\\\\pyplot.py'>"
      ]
     },
     "execution_count": 61,
     "metadata": {},
     "output_type": "execute_result"
    },
    {
     "data": {
      "image/png": "[encoded data removed]",
      "text/plain": [
       "<Figure size 432x288 with 1 Axes>"
      ]
     },
     "metadata": {
      "needs_background": "light"
     },
     "output_type": "display_data"
    }
   ],
   "source": [
    "# 验证曲线\n",
    "from sklearn.model_selection import validation_curve\n",
    "\n",
    "def plot_validation_curve(estimator, X, y, ylim=None,\n",
    "                         cv=None, n_jobs=1):\n",
    "    plt.figure()\n",
    "    plt.title(title)\n",
    "    plt.xlabel('alpha')\n",
    "    plt.ylabel('Score')\n",
    "    if ylim is not None:\n",
    "        plt.ylim(*ylim)\n",
    "    \n",
    "#     validation_curve?\n",
    "    param_range = [0.1, 0.01, 0.001, 0.00001, 0.000001]\n",
    "    train_scores, test_scores = validation_curve(estimator=estimator,\n",
    "                                                              X=X, y=y, \n",
    "                                                              param_name='alpha',\n",
    "                                                              param_range=param_range,\n",
    "                                                              cv=cv,\n",
    "                                                              scoring='r2',\n",
    "                                                              n_jobs=n_jobs)\n",
    "    \n",
    "    train_scores_mean = np.mean(train_scores, axis=1)\n",
    "    train_scores_std = np.std(train_scores, axis=1)\n",
    "    test_scores_mean = np.mean(test_scores, axis=1)\n",
    "    test_scores_std = np.std(test_scores, axis=1)\n",
    "    plt.ylim(0.0, 1.1)\n",
    "#     plt.grid()\n",
    "    plt.semilogx(param_range, train_scores_mean, label='Train score', color='r')\n",
    "    plt.fill_between(param_range,\n",
    "                     train_scores_mean - train_scores_std,\n",
    "                     train_scores_mean + train_scores_std,\n",
    "                     alpha=0.2,\n",
    "                     color='r')\n",
    "    plt.semilogx(param_range, test_scores_mean, label='Cross-validation score', color='g')\n",
    "    plt.fill_between(param_range,\n",
    "                     test_scores_mean - test_scores_std,\n",
    "                     test_scores_mean + test_scores_std,\n",
    "                     alpha=0.2,\n",
    "                     color='g')\n",
    "    \n",
    "    \n",
    "    plt.legend(loc='best')\n",
    "    return plt\n",
    "\n",
    "X = train_data2[test_data2.columns].values\n",
    "y = train_data2['target'].values\n",
    "ylim = (0.0, 1.1)\n",
    "# cv = ShuffleSplit(n_splits=100, test_size=0.2, random_state=0)\n",
    "estimator = SGDRegressor(max_iter=1000, tol=1e-3, penalty='l1')\n",
    "plot_validation_curve(estimator=estimator, X=X, y=y, ylim=ylim, cv=10, n_jobs=-1)"
   ]
  },
  {
   "cell_type": "code",
   "execution_count": 58,
   "metadata": {},
   "outputs": [],
   "source": [
    "from sklearn.model_selection import validation_curve\n",
    "validation_curve?"
   ]
  },
  {
   "cell_type": "code",
   "execution_count": null,
   "metadata": {},
   "outputs": [],
   "source": []
  }
 ],
 "metadata": {
  "kernelspec": {
   "display_name": "Python 3",
   "language": "python",
   "name": "python3"
  },
  "language_info": {
   "codemirror_mode": {
    "name": "ipython",
    "version": 3
   },
   "file_extension": ".py",
   "mimetype": "text/x-python",
   "name": "python",
   "nbconvert_exporter": "python",
   "pygments_lexer": "ipython3",
   "version": "3.7.4"
  }
 },
 "nbformat": 4,
 "nbformat_minor": 2
}
