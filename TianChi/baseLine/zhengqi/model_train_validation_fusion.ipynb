{
 "cells": [
  {
   "cell_type": "code",
   "execution_count": 3,
   "metadata": {
    "ExecuteTime": {
     "end_time": "2021-06-28T01:23:51.205972Z",
     "start_time": "2021-06-28T01:23:51.187987Z"
    }
   },
   "outputs": [],
   "source": [
    "# 模型训练-验证"
   ]
  },
  {
   "cell_type": "code",
   "execution_count": 4,
   "metadata": {
    "ExecuteTime": {
     "end_time": "2021-06-28T01:23:51.220971Z",
     "start_time": "2021-06-28T01:23:51.207968Z"
    }
   },
   "outputs": [],
   "source": [
    "import numpy as np\n",
    "import pandas as pd\n",
    "import matplotlib.pyplot as plt\n",
    "import warnings\n",
    "warnings.filterwarnings('ignore')\n",
    "\n",
    "from sklearn.linear_model import LinearRegression\n",
    "from sklearn.linear_model import SGDRegressor\n",
    "from sklearn.neighbors import KNeighborsRegressor\n",
    "from sklearn.tree import DecisionTreeRegressor\n",
    "from sklearn.svm import SVR\n",
    "import lightgbm as lgb\n",
    "\n",
    "from sklearn.model_selection import train_test_split\n",
    "from sklearn.metrics import mean_squared_error\n",
    "from sklearn.model_selection import learning_curve\n",
    "from sklearn.model_selection import ShuffleSplit"
   ]
  },
  {
   "cell_type": "code",
   "execution_count": 5,
   "metadata": {
    "ExecuteTime": {
     "end_time": "2021-06-28T01:23:51.266939Z",
     "start_time": "2021-06-28T01:23:51.222960Z"
    }
   },
   "outputs": [],
   "source": [
    "train_path = r'E:\\DataSet\\Tianchi\\zhengqi\\zhengqi_train.txt'\n",
    "test_path = r'E:\\DataSet\\Tianchi\\zhengqi\\zhengqi_test.txt'\n",
    "\n",
    "train_data = pd.read_csv(train_path, delimiter=\"\\t\", encoding='utf-8')\n",
    "test_data = pd.read_csv(test_path, delimiter=\"\\t\", encoding='utf-8')"
   ]
  },
  {
   "cell_type": "code",
   "execution_count": 6,
   "metadata": {
    "ExecuteTime": {
     "end_time": "2021-06-28T01:23:51.297920Z",
     "start_time": "2021-06-28T01:23:51.268936Z"
    }
   },
   "outputs": [],
   "source": [
    "# 数据归一化处理\n",
    "\n",
    "from sklearn.preprocessing import MinMaxScaler\n",
    "feature_columns = [col for col in train_data.columns if col not in  ['target']]\n",
    "min_max_scaler = MinMaxScaler()\n",
    "min_max_scaler.fit(train_data[feature_columns])\n",
    "train_data_scaler = min_max_scaler.transform(train_data[feature_columns])\n",
    "test_data_scaler = min_max_scaler.transform(test_data[feature_columns])\n",
    "train_data_scaler = pd.DataFrame(train_data_scaler)\n",
    "test_data_scaler= pd.DataFrame(test_data_scaler)\n",
    "train_data_scaler.columns = feature_columns\n",
    "train_data_scaler['target'] = train_data['target']\n",
    "test_data_scaler.columns = feature_columns\n",
    "# display(train_data_scaler.describe())"
   ]
  },
  {
   "cell_type": "code",
   "execution_count": 7,
   "metadata": {
    "ExecuteTime": {
     "end_time": "2021-06-28T01:23:51.359036Z",
     "start_time": "2021-06-28T01:23:51.298898Z"
    }
   },
   "outputs": [],
   "source": [
    "# pca 降维，保留16个特征\n",
    "from sklearn.decomposition import PCA\n",
    "pca = PCA(n_components=16)\n",
    "new_train_pca_16 = pca.fit_transform(train_data_scaler.iloc[:, :-1])\n",
    "new_test_pca_16 = pca.fit_transform(test_data_scaler)\n",
    "new_train_pca_16 = pd.DataFrame(new_train_pca_16)\n",
    "new_test_pca_16 = pd.DataFrame(new_test_pca_16)\n",
    "new_train_pca_16['target'] = train_data_scaler['target']\n"
   ]
  },
  {
   "cell_type": "code",
   "execution_count": 8,
   "metadata": {
    "ExecuteTime": {
     "end_time": "2021-06-28T01:23:51.374956Z",
     "start_time": "2021-06-28T01:23:51.360037Z"
    }
   },
   "outputs": [],
   "source": [
    "# 将数据进行切分\n",
    "from sklearn.model_selection import train_test_split\n",
    "\n",
    "new_train_pca_16 = new_train_pca_16.fillna(0)\n",
    "train = new_train_pca_16[new_test_pca_16.columns]\n",
    "target = new_train_pca_16['target']\n",
    "\n",
    "# train_test_split?\n",
    "train_data, test_data, train_target, test_target = train_test_split(train, target, test_size=0.2, random_state=0 )"
   ]
  },
  {
   "cell_type": "code",
   "execution_count": 9,
   "metadata": {
    "ExecuteTime": {
     "end_time": "2021-06-28T01:23:51.404989Z",
     "start_time": "2021-06-28T01:23:51.375978Z"
    }
   },
   "outputs": [
    {
     "name": "stdout",
     "output_type": "stream",
     "text": [
      "SGDRegressor train score:  0.1517356492974839\n",
      "SGDRegressor test score:  0.15617563858674283\n"
     ]
    }
   ],
   "source": [
    "# 欠拟合\n",
    "clf = SGDRegressor(max_iter=500, tol=1e-2)\n",
    "clf.fit(train_data, train_target)\n",
    "score_train = mean_squared_error(train_target, clf.predict(train_data))\n",
    "score_test = mean_squared_error(test_target, clf.predict(test_data))\n",
    "print('SGDRegressor train score: ', score_train)\n",
    "print('SGDRegressor test score: ', score_test)"
   ]
  },
  {
   "cell_type": "code",
   "execution_count": 10,
   "metadata": {
    "ExecuteTime": {
     "end_time": "2021-06-28T01:23:53.562857Z",
     "start_time": "2021-06-28T01:23:51.408016Z"
    }
   },
   "outputs": [
    {
     "name": "stdout",
     "output_type": "stream",
     "text": [
      "PolynomialFeatures 5 train score:  0.13335783200185683\n",
      "PolynomialFeatures 5  test score:  0.14562841864286696\n"
     ]
    }
   ],
   "source": [
    "# 过拟合\n",
    "from sklearn.preprocessing import PolynomialFeatures\n",
    "# PolynomialFeatures?\n",
    "poly = PolynomialFeatures(degree=5)\n",
    "train_data_poly = poly.fit_transform(train_data)\n",
    "test_data_poly = poly.fit_transform(test_data)\n",
    "clf = SGDRegressor(max_iter=1000, tol=1e-3)\n",
    "clf.fit(train_data_poly, train_target)\n",
    "score_train = mean_squared_error(train_target, clf.predict(train_data_poly))\n",
    "score_test = mean_squared_error(test_target, clf.predict(test_data_poly))\n",
    "print('PolynomialFeatures 5 train score: ', score_train)\n",
    "print('PolynomialFeatures 5  test score: ', score_test)"
   ]
  },
  {
   "cell_type": "code",
   "execution_count": 11,
   "metadata": {
    "ExecuteTime": {
     "end_time": "2021-06-28T01:23:53.748748Z",
     "start_time": "2021-06-28T01:23:53.564852Z"
    }
   },
   "outputs": [
    {
     "name": "stdout",
     "output_type": "stream",
     "text": [
      "PolynomialFeatures 5 train score:  0.13414832946726366\n",
      "PolynomialFeatures 5  test score:  0.14280613019874897\n"
     ]
    }
   ],
   "source": [
    "# 正常拟合\n",
    "poly = PolynomialFeatures(degree=3)\n",
    "train_data_poly = poly.fit_transform(train_data)\n",
    "test_data_poly = poly.fit_transform(test_data)\n",
    "clf = SGDRegressor(max_iter=1000, tol=1e-3)\n",
    "clf.fit(train_data_poly, train_target)\n",
    "score_train = mean_squared_error(train_target, clf.predict(train_data_poly))\n",
    "score_test = mean_squared_error(test_target, clf.predict(test_data_poly))\n",
    "print('PolynomialFeatures 5 train score: ', score_train)\n",
    "print('PolynomialFeatures 5  test score: ', score_test)"
   ]
  },
  {
   "cell_type": "code",
   "execution_count": 12,
   "metadata": {
    "ExecuteTime": {
     "end_time": "2021-06-28T01:23:53.892674Z",
     "start_time": "2021-06-28T01:23:53.749747Z"
    }
   },
   "outputs": [
    {
     "name": "stdout",
     "output_type": "stream",
     "text": [
      "L2 train score:  0.13389797384917124\n",
      "L2 test score:  0.1424502813424445\n"
     ]
    }
   ],
   "source": [
    "# 模型正则化\n",
    "# L2范数\n",
    "poly = PolynomialFeatures(degree=3)\n",
    "train_data_poly = poly.fit_transform(train_data)\n",
    "test_data_poly = poly.fit_transform(test_data)\n",
    "clf = SGDRegressor(max_iter=1000, tol=1e-3, penalty='L2')\n",
    "clf.fit(train_data_poly, train_target)\n",
    "score_train = mean_squared_error(train_target, clf.predict(train_data_poly))\n",
    "score_test = mean_squared_error(test_target, clf.predict(test_data_poly))\n",
    "print('L2 train score: ', score_train)\n",
    "print('L2 test score: ', score_test)"
   ]
  },
  {
   "cell_type": "code",
   "execution_count": 13,
   "metadata": {
    "ExecuteTime": {
     "end_time": "2021-06-28T01:23:54.398379Z",
     "start_time": "2021-06-28T01:23:53.893663Z"
    }
   },
   "outputs": [
    {
     "name": "stdout",
     "output_type": "stream",
     "text": [
      "L1 train score:  0.13526319190496658\n",
      "L1 test score:  0.1432581321975271\n"
     ]
    }
   ],
   "source": [
    "# L1范数\n",
    "poly = PolynomialFeatures(degree=3)\n",
    "train_data_poly = poly.fit_transform(train_data)\n",
    "test_data_poly = poly.fit_transform(test_data)\n",
    "clf = SGDRegressor(max_iter=1000, tol=1e-3, penalty='L1')\n",
    "clf.fit(train_data_poly, train_target)\n",
    "score_train = mean_squared_error(train_target, clf.predict(train_data_poly))\n",
    "score_test = mean_squared_error(test_target, clf.predict(test_data_poly))\n",
    "print('L1 train score: ', score_train)\n",
    "print('L1 test score: ', score_test)"
   ]
  },
  {
   "cell_type": "code",
   "execution_count": 14,
   "metadata": {
    "ExecuteTime": {
     "end_time": "2021-06-28T01:23:54.771164Z",
     "start_time": "2021-06-28T01:23:54.399373Z"
    }
   },
   "outputs": [
    {
     "name": "stdout",
     "output_type": "stream",
     "text": [
      "elasticnet train score:  0.13401512026824158\n",
      "elasticnet test score:  0.14242270124349612\n"
     ]
    }
   ],
   "source": [
    "# 弹性网络\n",
    "poly = PolynomialFeatures(degree=3)\n",
    "train_data_poly = poly.fit_transform(train_data)\n",
    "test_data_poly = poly.fit_transform(test_data)\n",
    "clf = SGDRegressor(max_iter=1000, tol=1e-3, penalty='elasticnet')\n",
    "clf.fit(train_data_poly, train_target)\n",
    "score_train = mean_squared_error(train_target, clf.predict(train_data_poly))\n",
    "score_test = mean_squared_error(test_target, clf.predict(test_data_poly))\n",
    "print('elasticnet train score: ', score_train)\n",
    "print('elasticnet test score: ', score_test)"
   ]
  },
  {
   "cell_type": "code",
   "execution_count": 15,
   "metadata": {
    "ExecuteTime": {
     "end_time": "2021-06-28T01:23:54.802122Z",
     "start_time": "2021-06-28T01:23:54.773180Z"
    }
   },
   "outputs": [
    {
     "name": "stdout",
     "output_type": "stream",
     "text": [
      "SGDRegressor train score:  0.14138287815891154\n",
      "SGDRegressor test score:  0.14689611000822733\n"
     ]
    }
   ],
   "source": [
    "# 交叉验证\n",
    "# 简单交叉验证\n",
    "clf = SGDRegressor(max_iter=1000, tol=1e-3)\n",
    "clf.fit(train_data, train_target)\n",
    "score_train = mean_squared_error(train_target, clf.predict(train_data))\n",
    "score_test = mean_squared_error(test_target, clf.predict(test_data))\n",
    "print('SGDRegressor train score: ', score_train)\n",
    "print('SGDRegressor test score: ', score_test)"
   ]
  },
  {
   "cell_type": "code",
   "execution_count": 16,
   "metadata": {
    "ExecuteTime": {
     "end_time": "2021-06-28T01:23:54.817146Z",
     "start_time": "2021-06-28T01:23:54.803122Z"
    }
   },
   "outputs": [],
   "source": [
    "# K折交叉验证\n",
    "from sklearn.model_selection import KFold\n",
    "# ValueError: Found input variables with inconsistent numbers of samples: [2311, 2310]\n",
    "\n",
    "# kf = KFold(n_splits=5)\n",
    "# for k, (train_index, test_index) in enumerate(kf.split(train)):\n",
    "#     if (k == 3):\n",
    "#         print(train.shape)\n",
    "#         print(train_index)\n",
    "#         print(test_index)\n",
    "#     train_data, test_data, train_taret, test_target = train.values[train_index],train.values[test_index],target[train_index],target[test_index]\n",
    "#     clf = SGDRegressor(max_iter=1000, tol=1e-3)\n",
    "#     clf.fit(train_data, train_target)\n",
    "#     score_train = mean_squared_error(train_target, clf.predict(train_data))\n",
    "#     score_test = mean_squared_error(test_target, clf.predict(test_data))\n",
    "#     print(k, '折', 'SGDRegressor train score: ', score_train)\n",
    "#     print(k, '折', 'SGDRegressor test score: ', score_test)"
   ]
  },
  {
   "cell_type": "code",
   "execution_count": 17,
   "metadata": {
    "ExecuteTime": {
     "end_time": "2021-06-28T01:23:54.833137Z",
     "start_time": "2021-06-28T01:23:54.819135Z"
    }
   },
   "outputs": [],
   "source": [
    "# 留一法验证\n",
    "from sklearn.model_selection import LeaveOneOut\n",
    "# loo = LeaveOneOut()\n",
    "# # kf = KFold(n_splits=5)\n",
    "# for k, (train_index, test_index) in enumerate(loo.split(train)):\n",
    "#     train_data, test_data, train_taret, test_target = train.values[train_index],train.values[test_index],target[train_index],target[test_index]\n",
    "#     clf = SGDRegressor(max_iter=1000, tol=1e-3)\n",
    "#     clf.fit(train_data, train_target)\n",
    "#     score_train = mean_squared_error(train_target, clf.predict(train_data))\n",
    "#     score_test = mean_squared_error(test_target, clf.predict(test_data))\n",
    "#     print(k, '折', 'SGDRegressor train score: ', score_train)\n",
    "#     print(k, '折', 'SGDRegressor test score: ', score_test)\n",
    "#     if k > 9:\n",
    "#         break"
   ]
  },
  {
   "cell_type": "code",
   "execution_count": 18,
   "metadata": {
    "ExecuteTime": {
     "end_time": "2021-06-28T01:24:16.959147Z",
     "start_time": "2021-06-28T01:23:54.835127Z"
    }
   },
   "outputs": [
    {
     "name": "stdout",
     "output_type": "stream",
     "text": [
      "RandomForestRegressor GridSearchCV test score 0.26025443051550207\n"
     ]
    },
    {
     "data": {
      "text/plain": [
       "['mean_fit_time',\n",
       " 'mean_score_time',\n",
       " 'mean_test_score',\n",
       " 'param_max_depth',\n",
       " 'param_n_estimators',\n",
       " 'params',\n",
       " 'rank_test_score',\n",
       " 'split0_test_score',\n",
       " 'split1_test_score',\n",
       " 'split2_test_score',\n",
       " 'split3_test_score',\n",
       " 'split4_test_score',\n",
       " 'std_fit_time',\n",
       " 'std_score_time',\n",
       " 'std_test_score']"
      ]
     },
     "execution_count": 18,
     "metadata": {},
     "output_type": "execute_result"
    }
   ],
   "source": [
    "# 调参 穷举网格搜索\n",
    "from sklearn.model_selection import GridSearchCV\n",
    "from sklearn.ensemble import RandomForestRegressor\n",
    "from sklearn.model_selection import train_test_split\n",
    "\n",
    "train_data, test_data, train_target, test_target = train_test_split(train, target, test_size=0.2, random_state=0)\n",
    "randomFrestRegression = RandomForestRegressor()\n",
    "parameters = {'n_estimators': [50, 100, 200], 'max_depth': [1, 2, 3]}\n",
    "clf = GridSearchCV(randomFrestRegression, parameters, cv=5)\n",
    "clf.fit(train_data, train_target)\n",
    "score_test = mean_squared_error(test_target, clf.predict(test_data))\n",
    "print('RandomForestRegressor GridSearchCV test score', score_test)\n",
    "sorted(clf.cv_results_.keys())"
   ]
  },
  {
   "cell_type": "code",
   "execution_count": 19,
   "metadata": {
    "ExecuteTime": {
     "end_time": "2021-06-28T01:24:49.632399Z",
     "start_time": "2021-06-28T01:24:16.960142Z"
    }
   },
   "outputs": [
    {
     "name": "stdout",
     "output_type": "stream",
     "text": [
      "RandomizedSearchCV GridSearchCV test score 0.19778127669224946\n"
     ]
    }
   ],
   "source": [
    "# 调参 随机搜索\n",
    "from sklearn.model_selection import RandomizedSearchCV\n",
    "from sklearn.ensemble import RandomForestRegressor\n",
    "from sklearn.model_selection import train_test_split\n",
    "\n",
    "train_data, test_data, train_target, test_target = train_test_split(train, target, test_size=0.2, random_state=0)\n",
    "randomFrestRegression = RandomForestRegressor()\n",
    "parameters = {'n_estimators': [50, 100, 200, 300], 'max_depth': [1, 2, 3, 4, 5]}\n",
    "clf = RandomizedSearchCV(randomFrestRegression, parameters, cv=5)\n",
    "clf.fit(train_data, train_target)\n",
    "score_test = mean_squared_error(test_target, clf.predict(test_data))\n",
    "print('RandomizedSearchCV GridSearchCV test score', score_test)\n",
    "# sorted(clf.cv_results_.keys())\n",
    "# print(clf.best_params_)\n",
    "# {'n_estimators': 50, 'max_depth': 5}"
   ]
  },
  {
   "cell_type": "code",
   "execution_count": 20,
   "metadata": {
    "ExecuteTime": {
     "end_time": "2021-06-28T01:24:51.639209Z",
     "start_time": "2021-06-28T01:24:49.634386Z"
    }
   },
   "outputs": [
    {
     "name": "stdout",
     "output_type": "stream",
     "text": [
      "LGBMRegressor GridSearchCV test score 0.1515675981571621\n",
      "LGBMRegressor best parameters:  {'learning_rate': 0.1, 'n_estimators': 40}\n"
     ]
    }
   ],
   "source": [
    "# 调参 随机搜索\n",
    "from sklearn.model_selection import GridSearchCV\n",
    "from sklearn.model_selection import train_test_split\n",
    "import lightgbm as lgb\n",
    "\n",
    "train_data, test_data, train_target, test_target = train_test_split(train, target, test_size=0.2, random_state=0)\n",
    "clf = lgb.LGBMRegressor(num_leaves=31)\n",
    "# clf?\n",
    "parameters = {'learning_rate': [0.01, 0.1, 1], 'n_estimators': [20, 40]}\n",
    "clf = GridSearchCV(clf, parameters, cv=5)\n",
    "clf.fit(train_data, train_target)\n",
    "score_test = mean_squared_error(test_target, clf.predict(test_data))\n",
    "print('LGBMRegressor GridSearchCV test score', score_test)\n",
    "print('LGBMRegressor best parameters: ', clf.best_params_)"
   ]
  },
  {
   "cell_type": "code",
   "execution_count": 21,
   "metadata": {
    "ExecuteTime": {
     "end_time": "2021-06-28T01:25:06.889452Z",
     "start_time": "2021-06-28T01:24:51.642207Z"
    }
   },
   "outputs": [
    {
     "name": "stdout",
     "output_type": "stream",
     "text": [
      "Training until validation scores don't improve for 100 rounds\n",
      "[50]\tTrain's l2: 0.428458\tTest's l2: 0.466965\n",
      "[100]\tTrain's l2: 0.221807\tTest's l2: 0.263431\n",
      "[150]\tTrain's l2: 0.135301\tTest's l2: 0.183515\n",
      "[200]\tTrain's l2: 0.0958737\tTest's l2: 0.148825\n",
      "[250]\tTrain's l2: 0.075642\tTest's l2: 0.133187\n",
      "[300]\tTrain's l2: 0.0629311\tTest's l2: 0.125237\n",
      "[350]\tTrain's l2: 0.054088\tTest's l2: 0.121321\n",
      "[400]\tTrain's l2: 0.0473551\tTest's l2: 0.118307\n",
      "[450]\tTrain's l2: 0.0418952\tTest's l2: 0.116414\n",
      "[500]\tTrain's l2: 0.0375119\tTest's l2: 0.114863\n",
      "[550]\tTrain's l2: 0.0337062\tTest's l2: 0.114002\n",
      "[600]\tTrain's l2: 0.0303868\tTest's l2: 0.112781\n",
      "[650]\tTrain's l2: 0.02756\tTest's l2: 0.11207\n",
      "[700]\tTrain's l2: 0.0250506\tTest's l2: 0.111287\n",
      "[750]\tTrain's l2: 0.0228758\tTest's l2: 0.110742\n",
      "[800]\tTrain's l2: 0.0209081\tTest's l2: 0.1103\n",
      "[850]\tTrain's l2: 0.0191684\tTest's l2: 0.109946\n",
      "[900]\tTrain's l2: 0.0176066\tTest's l2: 0.109759\n",
      "[950]\tTrain's l2: 0.0162243\tTest's l2: 0.109423\n",
      "[1000]\tTrain's l2: 0.014984\tTest's l2: 0.109105\n",
      "[1050]\tTrain's l2: 0.0138415\tTest's l2: 0.108795\n",
      "[1100]\tTrain's l2: 0.0128086\tTest's l2: 0.108651\n",
      "[1150]\tTrain's l2: 0.0118895\tTest's l2: 0.10835\n",
      "[1200]\tTrain's l2: 0.0110348\tTest's l2: 0.108169\n",
      "[1250]\tTrain's l2: 0.0102351\tTest's l2: 0.107997\n",
      "[1300]\tTrain's l2: 0.00949631\tTest's l2: 0.107886\n",
      "[1350]\tTrain's l2: 0.00880985\tTest's l2: 0.107708\n",
      "[1400]\tTrain's l2: 0.00818496\tTest's l2: 0.107495\n",
      "[1450]\tTrain's l2: 0.00760212\tTest's l2: 0.107251\n",
      "[1500]\tTrain's l2: 0.00706786\tTest's l2: 0.107126\n",
      "[1550]\tTrain's l2: 0.00657032\tTest's l2: 0.107007\n",
      "[1600]\tTrain's l2: 0.00612321\tTest's l2: 0.10685\n",
      "[1650]\tTrain's l2: 0.00571558\tTest's l2: 0.106697\n",
      "[1700]\tTrain's l2: 0.00532708\tTest's l2: 0.106564\n",
      "[1750]\tTrain's l2: 0.00498736\tTest's l2: 0.106505\n",
      "[1800]\tTrain's l2: 0.0046641\tTest's l2: 0.10643\n",
      "[1850]\tTrain's l2: 0.00435927\tTest's l2: 0.106395\n",
      "[1900]\tTrain's l2: 0.00407441\tTest's l2: 0.106289\n",
      "[1950]\tTrain's l2: 0.00381589\tTest's l2: 0.106228\n",
      "[2000]\tTrain's l2: 0.00358102\tTest's l2: 0.106155\n",
      "[2050]\tTrain's l2: 0.00335863\tTest's l2: 0.106083\n",
      "[2100]\tTrain's l2: 0.00314878\tTest's l2: 0.106064\n",
      "[2150]\tTrain's l2: 0.0029488\tTest's l2: 0.106039\n",
      "[2200]\tTrain's l2: 0.0027557\tTest's l2: 0.105963\n",
      "[2250]\tTrain's l2: 0.00257956\tTest's l2: 0.105857\n",
      "[2300]\tTrain's l2: 0.00242506\tTest's l2: 0.105818\n",
      "[2350]\tTrain's l2: 0.00228008\tTest's l2: 0.105762\n",
      "[2400]\tTrain's l2: 0.00213319\tTest's l2: 0.105696\n",
      "[2450]\tTrain's l2: 0.00199799\tTest's l2: 0.105679\n",
      "[2500]\tTrain's l2: 0.00187769\tTest's l2: 0.10561\n",
      "[2550]\tTrain's l2: 0.0017642\tTest's l2: 0.105564\n",
      "[2600]\tTrain's l2: 0.00165572\tTest's l2: 0.105482\n",
      "[2650]\tTrain's l2: 0.00155773\tTest's l2: 0.105454\n",
      "[2700]\tTrain's l2: 0.0014622\tTest's l2: 0.105423\n",
      "[2750]\tTrain's l2: 0.00137505\tTest's l2: 0.105434\n",
      "Early stopping, best iteration is:\n",
      "[2686]\tTrain's l2: 0.00148912\tTest's l2: 0.105398\n",
      "第1折 训练和预测训练MSE 预测MSE\n",
      "-----\n",
      " 训练MSE\n",
      " 0.0014891170026875994 \n",
      "----\n",
      "-----\n",
      " 预测MSE\n",
      " 0.10539809256060709 \n",
      "----\n",
      "Training until validation scores don't improve for 100 rounds\n",
      "[50]\tTrain's l2: 0.436833\tTest's l2: 0.42889\n",
      "[100]\tTrain's l2: 0.221729\tTest's l2: 0.258452\n",
      "[150]\tTrain's l2: 0.132425\tTest's l2: 0.191434\n",
      "[200]\tTrain's l2: 0.0921422\tTest's l2: 0.164395\n",
      "[250]\tTrain's l2: 0.0715837\tTest's l2: 0.153253\n",
      "[300]\tTrain's l2: 0.0591252\tTest's l2: 0.147273\n",
      "[350]\tTrain's l2: 0.0505444\tTest's l2: 0.143558\n",
      "[400]\tTrain's l2: 0.0442696\tTest's l2: 0.141913\n",
      "[450]\tTrain's l2: 0.0391752\tTest's l2: 0.140459\n",
      "[500]\tTrain's l2: 0.0348435\tTest's l2: 0.139286\n",
      "[550]\tTrain's l2: 0.0313073\tTest's l2: 0.13851\n",
      "[600]\tTrain's l2: 0.0283011\tTest's l2: 0.138002\n",
      "[650]\tTrain's l2: 0.0256303\tTest's l2: 0.136922\n",
      "[700]\tTrain's l2: 0.0233832\tTest's l2: 0.1364\n",
      "[750]\tTrain's l2: 0.0213598\tTest's l2: 0.135964\n",
      "[800]\tTrain's l2: 0.0195432\tTest's l2: 0.135562\n",
      "[850]\tTrain's l2: 0.0179503\tTest's l2: 0.134965\n",
      "[900]\tTrain's l2: 0.0165388\tTest's l2: 0.134784\n",
      "[950]\tTrain's l2: 0.0152956\tTest's l2: 0.134611\n",
      "[1000]\tTrain's l2: 0.0141473\tTest's l2: 0.134473\n",
      "[1050]\tTrain's l2: 0.0130803\tTest's l2: 0.13427\n",
      "[1100]\tTrain's l2: 0.0121275\tTest's l2: 0.134171\n",
      "[1150]\tTrain's l2: 0.0112545\tTest's l2: 0.134014\n",
      "[1200]\tTrain's l2: 0.0104587\tTest's l2: 0.133869\n",
      "[1250]\tTrain's l2: 0.00970802\tTest's l2: 0.133655\n",
      "[1300]\tTrain's l2: 0.00900488\tTest's l2: 0.133415\n",
      "[1350]\tTrain's l2: 0.00834902\tTest's l2: 0.133204\n",
      "[1400]\tTrain's l2: 0.00774199\tTest's l2: 0.132926\n",
      "[1450]\tTrain's l2: 0.00720085\tTest's l2: 0.132728\n",
      "[1500]\tTrain's l2: 0.0067149\tTest's l2: 0.132755\n",
      "Early stopping, best iteration is:\n",
      "[1441]\tTrain's l2: 0.00728983\tTest's l2: 0.132697\n",
      "第2折 训练和预测训练MSE 预测MSE\n",
      "-----\n",
      " 训练MSE\n",
      " 0.0072898318628357595 \n",
      "----\n",
      "-----\n",
      " 预测MSE\n",
      " 0.13269660321638646 \n",
      "----\n",
      "Training until validation scores don't improve for 100 rounds\n",
      "[50]\tTrain's l2: 0.435334\tTest's l2: 0.435477\n",
      "[100]\tTrain's l2: 0.224797\tTest's l2: 0.241969\n",
      "[150]\tTrain's l2: 0.136834\tTest's l2: 0.165256\n",
      "[200]\tTrain's l2: 0.0968498\tTest's l2: 0.134493\n",
      "[250]\tTrain's l2: 0.0761729\tTest's l2: 0.121531\n",
      "[300]\tTrain's l2: 0.0636853\tTest's l2: 0.11448\n",
      "[350]\tTrain's l2: 0.0546683\tTest's l2: 0.110122\n",
      "[400]\tTrain's l2: 0.0479514\tTest's l2: 0.108073\n",
      "[450]\tTrain's l2: 0.0423758\tTest's l2: 0.107005\n",
      "[500]\tTrain's l2: 0.0377975\tTest's l2: 0.105778\n",
      "[550]\tTrain's l2: 0.0339731\tTest's l2: 0.104464\n",
      "[600]\tTrain's l2: 0.0306455\tTest's l2: 0.103408\n",
      "[650]\tTrain's l2: 0.0278085\tTest's l2: 0.10251\n",
      "[700]\tTrain's l2: 0.0252935\tTest's l2: 0.101614\n",
      "[750]\tTrain's l2: 0.0231005\tTest's l2: 0.101372\n",
      "[800]\tTrain's l2: 0.021199\tTest's l2: 0.101199\n",
      "[850]\tTrain's l2: 0.0194767\tTest's l2: 0.101142\n",
      "[900]\tTrain's l2: 0.0179671\tTest's l2: 0.101309\n",
      "Early stopping, best iteration is:\n",
      "[821]\tTrain's l2: 0.020451\tTest's l2: 0.101119\n",
      "第3折 训练和预测训练MSE 预测MSE\n",
      "-----\n",
      " 训练MSE\n",
      " 0.0204510246350711 \n",
      "----\n",
      "-----\n",
      " 预测MSE\n",
      " 0.10111932554955037 \n",
      "----\n",
      "Training until validation scores don't improve for 100 rounds\n",
      "[50]\tTrain's l2: 0.424194\tTest's l2: 0.486322\n",
      "[100]\tTrain's l2: 0.22045\tTest's l2: 0.264404\n",
      "[150]\tTrain's l2: 0.13572\tTest's l2: 0.178101\n",
      "[200]\tTrain's l2: 0.0968777\tTest's l2: 0.144088\n",
      "[250]\tTrain's l2: 0.0765346\tTest's l2: 0.129439\n",
      "[300]\tTrain's l2: 0.0639781\tTest's l2: 0.122908\n",
      "[350]\tTrain's l2: 0.0552914\tTest's l2: 0.118902\n",
      "[400]\tTrain's l2: 0.0485628\tTest's l2: 0.115741\n",
      "[450]\tTrain's l2: 0.0429733\tTest's l2: 0.114079\n",
      "[500]\tTrain's l2: 0.0383471\tTest's l2: 0.11299\n",
      "[550]\tTrain's l2: 0.0344226\tTest's l2: 0.112069\n",
      "[600]\tTrain's l2: 0.0311593\tTest's l2: 0.111212\n",
      "[650]\tTrain's l2: 0.0283902\tTest's l2: 0.110788\n",
      "[700]\tTrain's l2: 0.0258853\tTest's l2: 0.110003\n",
      "[750]\tTrain's l2: 0.0236758\tTest's l2: 0.109461\n",
      "[800]\tTrain's l2: 0.0217031\tTest's l2: 0.108945\n",
      "[850]\tTrain's l2: 0.019937\tTest's l2: 0.10856\n",
      "[900]\tTrain's l2: 0.0183338\tTest's l2: 0.108237\n",
      "[950]\tTrain's l2: 0.0168597\tTest's l2: 0.107832\n",
      "[1000]\tTrain's l2: 0.0155639\tTest's l2: 0.107673\n",
      "[1050]\tTrain's l2: 0.0143787\tTest's l2: 0.107542\n",
      "[1100]\tTrain's l2: 0.0132679\tTest's l2: 0.107417\n",
      "[1150]\tTrain's l2: 0.0123009\tTest's l2: 0.107295\n",
      "[1200]\tTrain's l2: 0.0113964\tTest's l2: 0.107125\n",
      "[1250]\tTrain's l2: 0.0105699\tTest's l2: 0.10694\n",
      "[1300]\tTrain's l2: 0.00982176\tTest's l2: 0.106933\n",
      "[1350]\tTrain's l2: 0.00913726\tTest's l2: 0.106855\n",
      "[1400]\tTrain's l2: 0.00849822\tTest's l2: 0.106897\n",
      "Early stopping, best iteration is:\n",
      "[1334]\tTrain's l2: 0.00935585\tTest's l2: 0.106822\n",
      "第4折 训练和预测训练MSE 预测MSE\n",
      "-----\n",
      " 训练MSE\n",
      " 0.009355847634266074 \n",
      "----\n",
      "-----\n",
      " 预测MSE\n",
      " 0.10682190098205552 \n",
      "----\n",
      "Training until validation scores don't improve for 100 rounds\n",
      "[50]\tTrain's l2: 0.435061\tTest's l2: 0.446282\n",
      "[100]\tTrain's l2: 0.224844\tTest's l2: 0.252081\n",
      "[150]\tTrain's l2: 0.136923\tTest's l2: 0.172668\n",
      "[200]\tTrain's l2: 0.0962587\tTest's l2: 0.13786\n",
      "[250]\tTrain's l2: 0.0754087\tTest's l2: 0.122259\n",
      "[300]\tTrain's l2: 0.0625492\tTest's l2: 0.114111\n",
      "[350]\tTrain's l2: 0.05372\tTest's l2: 0.109744\n",
      "[400]\tTrain's l2: 0.0469531\tTest's l2: 0.106481\n",
      "[450]\tTrain's l2: 0.0415226\tTest's l2: 0.104888\n",
      "[500]\tTrain's l2: 0.0370845\tTest's l2: 0.103151\n",
      "[550]\tTrain's l2: 0.033334\tTest's l2: 0.102501\n",
      "[600]\tTrain's l2: 0.0301713\tTest's l2: 0.101926\n",
      "[650]\tTrain's l2: 0.027339\tTest's l2: 0.101613\n",
      "[700]\tTrain's l2: 0.0249321\tTest's l2: 0.10139\n",
      "[750]\tTrain's l2: 0.0228313\tTest's l2: 0.101207\n",
      "[800]\tTrain's l2: 0.0209294\tTest's l2: 0.100924\n",
      "[850]\tTrain's l2: 0.0192055\tTest's l2: 0.100718\n"
     ]
    },
    {
     "name": "stdout",
     "output_type": "stream",
     "text": [
      "[900]\tTrain's l2: 0.0176946\tTest's l2: 0.100402\n",
      "[950]\tTrain's l2: 0.0163089\tTest's l2: 0.100187\n",
      "[1000]\tTrain's l2: 0.0150397\tTest's l2: 0.099986\n",
      "[1050]\tTrain's l2: 0.0138704\tTest's l2: 0.0998263\n",
      "[1100]\tTrain's l2: 0.0128394\tTest's l2: 0.0996427\n",
      "[1150]\tTrain's l2: 0.0118688\tTest's l2: 0.0996074\n",
      "[1200]\tTrain's l2: 0.0110126\tTest's l2: 0.0995783\n",
      "[1250]\tTrain's l2: 0.0102254\tTest's l2: 0.0995361\n",
      "[1300]\tTrain's l2: 0.00951201\tTest's l2: 0.0993949\n",
      "[1350]\tTrain's l2: 0.00884199\tTest's l2: 0.0992683\n",
      "[1400]\tTrain's l2: 0.00822777\tTest's l2: 0.0993064\n",
      "[1450]\tTrain's l2: 0.00767529\tTest's l2: 0.0992335\n",
      "[1500]\tTrain's l2: 0.00712999\tTest's l2: 0.0992797\n",
      "Early stopping, best iteration is:\n",
      "[1423]\tTrain's l2: 0.00797142\tTest's l2: 0.0992124\n",
      "第5折 训练和预测训练MSE 预测MSE\n",
      "-----\n",
      " 训练MSE\n",
      " 0.007971416523938925 \n",
      "----\n",
      "-----\n",
      " 预测MSE\n",
      " 0.09921237825179019 \n",
      "----\n",
      "-----\n",
      " 训练MSE\n",
      " [0.0014891170026875994, 0.0072898318628357595, 0.0204510246350711, 0.009355847634266074, 0.007971416523938925] \n",
      " 0.009311447531759892 \n",
      "----\n",
      "-----\n",
      " 预测MSE\n",
      " [0.10539809256060709, 0.13269660321638646, 0.10111932554955037, 0.10682190098205552, 0.09921237825179019] \n",
      " 0.10904966011207792 \n",
      "----\n"
     ]
    }
   ],
   "source": [
    "# LGB线下验证\n",
    "train_path = r'E:\\DataSet\\Tianchi\\zhengqi\\zhengqi_train.txt'\n",
    "test_path = r'E:\\DataSet\\Tianchi\\zhengqi\\zhengqi_test.txt'\n",
    "\n",
    "train_data2 = pd.read_csv(train_path, delimiter=\"\\t\", encoding='utf-8')\n",
    "test_data2 = pd.read_csv(test_path, delimiter=\"\\t\", encoding='utf-8')\n",
    "\n",
    "train_data2_f = train_data2[test_data2.columns].values\n",
    "train_data2_target = train_data2['target'].values\n",
    "\n",
    "# LGB模型\n",
    "import lightgbm as lgb\n",
    "from sklearn.model_selection import KFold\n",
    "import numpy as np\n",
    "\n",
    "Folds = 5\n",
    "kf = KFold(n_splits=Folds, shuffle=True, random_state=2019)\n",
    "MSE_DICT = {'train_mse': [], 'test_mse': []}\n",
    "\n",
    "# 线下训练预测\n",
    "for i, (train_index, test_index) in enumerate(kf.split(train_data2_f)):\n",
    "    lgb_reg = lgb.LGBMRegressor(learning_rate=0.01,\n",
    "                               max_depth = -1,\n",
    "                               n_estimators=5000,\n",
    "                               boosting_type='gbdt',\n",
    "                               random_state=2019,\n",
    "                               objective='regression')\n",
    "    X_train_KFold, X_test_KFold = train_data2_f[train_index], train_data2_f[test_index]\n",
    "    y_train_KFold, y_test_KFold = train_data2_target[train_index], train_data2_target[test_index]\n",
    "    lgb_reg.fit(X=X_train_KFold,\n",
    "                y=y_train_KFold,\n",
    "                eval_set=[(X_train_KFold, y_train_KFold),\n",
    "                          (X_test_KFold, y_test_KFold)],\n",
    "               eval_names=['Train', 'Test'],\n",
    "               early_stopping_rounds=100,\n",
    "               eval_metric='MSE',\n",
    "               verbose=50)\n",
    "    # 训练集和测试集预测\n",
    "    y_train_KFold_predict = lgb_reg.predict(X_train_KFold, num_iteration=lgb_reg.best_iteration_)\n",
    "    y_test_KFold_predict = lgb_reg.predict(X_test_KFold, num_iteration=lgb_reg.best_iteration_)\n",
    "    \n",
    "    print('第{}折 训练和预测训练MSE 预测MSE'.format(i + 1))\n",
    "    train_mse = mean_squared_error(y_train_KFold, y_train_KFold_predict)\n",
    "    print('-----\\n', '训练MSE\\n', train_mse, '\\n----')\n",
    "    test_mse = mean_squared_error(y_test_KFold, y_test_KFold_predict)\n",
    "    print('-----\\n', '预测MSE\\n', test_mse, '\\n----')\n",
    "    MSE_DICT['train_mse'].append(train_mse)\n",
    "    MSE_DICT['test_mse'].append(test_mse)\n",
    "    \n",
    "\n",
    "print('-----\\n', '训练MSE\\n', MSE_DICT['train_mse'], '\\n',\n",
    "      np.mean(MSE_DICT['train_mse']),'\\n----')\n",
    "print('-----\\n', '预测MSE\\n', MSE_DICT['test_mse'], '\\n',\n",
    "      np.mean(MSE_DICT['test_mse']),'\\n----')\n",
    "    \n",
    "    "
   ]
  },
  {
   "cell_type": "markdown",
   "metadata": {},
   "source": [
    "# 学习曲线"
   ]
  },
  {
   "cell_type": "code",
   "execution_count": 22,
   "metadata": {
    "ExecuteTime": {
     "end_time": "2021-06-28T01:25:10.173022Z",
     "start_time": "2021-06-28T01:25:06.892450Z"
    }
   },
   "outputs": [
    {
     "data": {
      "text/plain": [
       "<module 'matplotlib.pyplot' from 'D:\\\\DEVTOOLS\\\\Anaconda3\\\\envs\\\\tf\\\\lib\\\\site-packages\\\\matplotlib\\\\pyplot.py'>"
      ]
     },
     "execution_count": 22,
     "metadata": {},
     "output_type": "execute_result"
    },
    {
     "data": {
      "text/plain": [
       "<Figure size 2700x1500 with 0 Axes>"
      ]
     },
     "metadata": {},
     "output_type": "display_data"
    },
    {
     "data": {
      "image/png": "[encoded data removed]",
      "text/plain": [
       "<Figure size 432x288 with 1 Axes>"
      ]
     },
     "metadata": {
      "needs_background": "light"
     },
     "output_type": "display_data"
    }
   ],
   "source": [
    "import numpy as np\n",
    "import matplotlib.pyplot as plt\n",
    "from sklearn.model_selection import ShuffleSplit\n",
    "from sklearn.linear_model import SGDRegressor\n",
    "from sklearn.model_selection import learning_curve\n",
    "\n",
    "plt.figure(figsize=(18, 10), dpi=150)\n",
    "\n",
    "def plot_learning_curve(estimator, title, X, y,\n",
    "                        ylim=None, cv=None, n_jobs=1,\n",
    "                        train_sizes=np.linspace(.1, 1.0, 5)):\n",
    "    plt.figure()\n",
    "    plt.title(title)\n",
    "    if ylim is not None:\n",
    "        plt.ylim(*ylim)\n",
    "    plt.xlabel('Training examples')\n",
    "    plt.ylabel('Score')\n",
    "#     learning_curve?\n",
    "    train_sizes, train_scores, test_scores = learning_curve(estimator=estimator,\n",
    "                                                           X=X, y=y, cv=cv, n_jobs=n_jobs,\n",
    "                                                           train_sizes=train_sizes)\n",
    "    \n",
    "    train_scores_mean = np.mean(train_scores, axis=1)\n",
    "    train_scores_std = np.std(train_scores, axis=1)\n",
    "    test_scores_mean = np.mean(test_scores, axis=1)\n",
    "    test_scores_std = np.std(test_scores, axis=1)\n",
    "    plt.grid()\n",
    "    \n",
    "    plt.fill_between(train_sizes,\n",
    "                     train_scores_mean - train_scores_std,\n",
    "                     train_scores_mean + train_scores_std,\n",
    "                     alpha=0.1,\n",
    "                     color='r')\n",
    "    \n",
    "    plt.fill_between(train_sizes,\n",
    "                     test_scores_mean - test_scores_std,\n",
    "                     test_scores_mean + test_scores_std,\n",
    "                     alpha=0.1,\n",
    "                     color='g')\n",
    "    \n",
    "    plt.plot(train_sizes,\n",
    "             train_scores_mean,\n",
    "             'o-',\n",
    "             color='r',\n",
    "             label='Training score')\n",
    "    plt.plot(train_sizes,\n",
    "             test_scores_mean,\n",
    "             'o-',\n",
    "             color='g',\n",
    "             label='Cross-validation score')\n",
    "    plt.legend(loc='best')\n",
    "    return plt\n",
    "\n",
    "X = train_data2[test_data2.columns].values\n",
    "y = train_data2['target'].values\n",
    "title = 'LinearRegression'\n",
    "cv = ShuffleSplit(n_splits=100, test_size=0.2, random_state=0)\n",
    "estimator = SGDRegressor()\n",
    "plot_learning_curve(estimator=estimator,\n",
    "                    title=title,\n",
    "                    X=X,\n",
    "                    y=y,\n",
    "                    ylim=(0.7, 1.0),\n",
    "                    cv=cv,\n",
    "                    n_jobs=-1)\n",
    "\n",
    "    "
   ]
  },
  {
   "cell_type": "code",
   "execution_count": 23,
   "metadata": {
    "ExecuteTime": {
     "end_time": "2021-06-28T01:25:11.110463Z",
     "start_time": "2021-06-28T01:25:10.174991Z"
    }
   },
   "outputs": [
    {
     "data": {
      "text/plain": [
       "<module 'matplotlib.pyplot' from 'D:\\\\DEVTOOLS\\\\Anaconda3\\\\envs\\\\tf\\\\lib\\\\site-packages\\\\matplotlib\\\\pyplot.py'>"
      ]
     },
     "execution_count": 23,
     "metadata": {},
     "output_type": "execute_result"
    },
    {
     "data": {
      "image/png": "[encoded data removed]",
      "text/plain": [
       "<Figure size 432x288 with 1 Axes>"
      ]
     },
     "metadata": {
      "needs_background": "light"
     },
     "output_type": "display_data"
    }
   ],
   "source": [
    "# 验证曲线\n",
    "from sklearn.model_selection import validation_curve\n",
    "\n",
    "def plot_validation_curve(estimator, X, y, ylim=None,\n",
    "                         cv=None, n_jobs=1):\n",
    "    plt.figure()\n",
    "    plt.title(title)\n",
    "    plt.xlabel('alpha')\n",
    "    plt.ylabel('Score')\n",
    "    if ylim is not None:\n",
    "        plt.ylim(*ylim)\n",
    "    \n",
    "#     validation_curve?\n",
    "    param_range = [0.1, 0.01, 0.001, 0.00001, 0.000001]\n",
    "    train_scores, test_scores = validation_curve(estimator=estimator,\n",
    "                                                              X=X, y=y, \n",
    "                                                              param_name='alpha',\n",
    "                                                              param_range=param_range,\n",
    "                                                              cv=cv,\n",
    "                                                              scoring='r2',\n",
    "                                                              n_jobs=n_jobs)\n",
    "    \n",
    "    train_scores_mean = np.mean(train_scores, axis=1)\n",
    "    train_scores_std = np.std(train_scores, axis=1)\n",
    "    test_scores_mean = np.mean(test_scores, axis=1)\n",
    "    test_scores_std = np.std(test_scores, axis=1)\n",
    "    plt.ylim(0.0, 1.1)\n",
    "#     plt.grid()\n",
    "    plt.semilogx(param_range, train_scores_mean, label='Train score', color='r')\n",
    "    plt.fill_between(param_range,\n",
    "                     train_scores_mean - train_scores_std,\n",
    "                     train_scores_mean + train_scores_std,\n",
    "                     alpha=0.2,\n",
    "                     color='r')\n",
    "    plt.semilogx(param_range, test_scores_mean, label='Cross-validation score', color='g')\n",
    "    plt.fill_between(param_range,\n",
    "                     test_scores_mean - test_scores_std,\n",
    "                     test_scores_mean + test_scores_std,\n",
    "                     alpha=0.2,\n",
    "                     color='g')\n",
    "    \n",
    "    \n",
    "    plt.legend(loc='best')\n",
    "    return plt\n",
    "\n",
    "X = train_data2[test_data2.columns].values\n",
    "y = train_data2['target'].values\n",
    "ylim = (0.0, 1.1)\n",
    "# cv = ShuffleSplit(n_splits=100, test_size=0.2, random_state=0)\n",
    "estimator = SGDRegressor(max_iter=1000, tol=1e-3, penalty='l1')\n",
    "plot_validation_curve(estimator=estimator, X=X, y=y, ylim=ylim, cv=10, n_jobs=-1)"
   ]
  },
  {
   "cell_type": "markdown",
   "metadata": {
    "ExecuteTime": {
     "end_time": "2021-06-28T01:25:11.172503Z",
     "start_time": "2021-06-28T01:25:11.112453Z"
    }
   },
   "source": [
    "# 特征优化"
   ]
  },
  {
   "cell_type": "code",
   "execution_count": 29,
   "metadata": {
    "ExecuteTime": {
     "end_time": "2021-06-28T01:47:49.031306Z",
     "start_time": "2021-06-28T01:47:49.013298Z"
    }
   },
   "outputs": [],
   "source": [
    "def auto_features_make(train_data, test_data, func_dict, col_list):\n",
    "    train_data, test_data = train_data.copy(), test_data.copy()\n",
    "    for col_i in col_list:\n",
    "        for col_j in col_list:\n",
    "            for func_name, func in func_dict.items():\n",
    "                for data in [train_data, test_data]:\n",
    "                    func_features = func(data[col_i], data[col_j])\n",
    "                    col_func_features = '-'.join([col_i, func_name, col_j])\n",
    "                    data[col_func_features] = func_features\n",
    "    return train_data, test_data"
   ]
  },
  {
   "cell_type": "code",
   "execution_count": 30,
   "metadata": {
    "ExecuteTime": {
     "end_time": "2021-06-28T01:47:49.756434Z",
     "start_time": "2021-06-28T01:47:49.712330Z"
    }
   },
   "outputs": [],
   "source": [
    "train_path = r'E:\\DataSet\\Tianchi\\zhengqi\\zhengqi_train.txt'\n",
    "test_path = r'E:\\DataSet\\Tianchi\\zhengqi\\zhengqi_test.txt'\n",
    "\n",
    "train_data = pd.read_csv(train_path, delimiter=\"\\t\", encoding='utf-8')\n",
    "test_data = pd.read_csv(test_path, delimiter=\"\\t\", encoding='utf-8')\n",
    "\n",
    "epsilon = 1e-5\n",
    "func_dict = {\n",
    "    'add': lambda x, y: x + y,\n",
    "    'mins': lambda x, y: x - y,\n",
    "    'div': lambda x, y: x / (y + epsilon),\n",
    "    'multi': lambda x, y : x * y\n",
    "}"
   ]
  },
  {
   "cell_type": "code",
   "execution_count": 33,
   "metadata": {
    "ExecuteTime": {
     "end_time": "2021-06-28T01:49:32.117280Z",
     "start_time": "2021-06-28T01:49:13.917423Z"
    }
   },
   "outputs": [],
   "source": [
    "# 构造新的特征\n",
    "train_data2, test_data2 = auto_features_make(train_data, test_data, func_dict, col_list=test_data.columns)\n",
    "\n",
    "from sklearn.decomposition import PCA\n",
    "\n",
    "pca = PCA(n_components=500)\n",
    "train_data2_pca = pca.fit_transform(train_data2.iloc[:, :-1])\n",
    "test_data2_pca = pca.transform(test_data2)\n",
    "train_data_pca = pd.DataFrame(train_data2_pca)\n",
    "test_data_pca = pd.DataFrame(test_data2_pca)\n",
    "train_data_pca['target'] = train_data2['target']\n",
    "X_train2 = train_data2[test_data2.columns].values\n",
    "y_train = train_data2['target']"
   ]
  },
  {
   "cell_type": "code",
   "execution_count": 35,
   "metadata": {
    "ExecuteTime": {
     "end_time": "2021-06-28T03:39:08.379772Z",
     "start_time": "2021-06-28T03:19:24.217754Z"
    }
   },
   "outputs": [
    {
     "name": "stdout",
     "output_type": "stream",
     "text": [
      "Training until validation scores don't improve for 100 rounds\n",
      "[50]\tTrain's l2: 0.413149\tTest's l2: 0.454926\n",
      "[100]\tTrain's l2: 0.198054\tTest's l2: 0.246445\n",
      "[150]\tTrain's l2: 0.108942\tTest's l2: 0.16496\n",
      "[200]\tTrain's l2: 0.068339\tTest's l2: 0.132002\n",
      "[250]\tTrain's l2: 0.0478166\tTest's l2: 0.117826\n",
      "[300]\tTrain's l2: 0.0357877\tTest's l2: 0.111144\n",
      "[350]\tTrain's l2: 0.0279208\tTest's l2: 0.10731\n",
      "[400]\tTrain's l2: 0.0224493\tTest's l2: 0.105219\n",
      "[450]\tTrain's l2: 0.018293\tTest's l2: 0.103438\n",
      "[500]\tTrain's l2: 0.0150641\tTest's l2: 0.102189\n",
      "[550]\tTrain's l2: 0.0125489\tTest's l2: 0.101718\n",
      "[600]\tTrain's l2: 0.0105281\tTest's l2: 0.10117\n",
      "[650]\tTrain's l2: 0.00886464\tTest's l2: 0.100886\n",
      "[700]\tTrain's l2: 0.0075079\tTest's l2: 0.100629\n",
      "[750]\tTrain's l2: 0.00639249\tTest's l2: 0.100624\n",
      "[800]\tTrain's l2: 0.00546952\tTest's l2: 0.100569\n",
      "[850]\tTrain's l2: 0.00469734\tTest's l2: 0.100479\n",
      "[900]\tTrain's l2: 0.00404382\tTest's l2: 0.100378\n",
      "[950]\tTrain's l2: 0.00349094\tTest's l2: 0.1003\n",
      "[1000]\tTrain's l2: 0.00302518\tTest's l2: 0.100273\n",
      "[1050]\tTrain's l2: 0.00263288\tTest's l2: 0.100173\n",
      "[1100]\tTrain's l2: 0.00230305\tTest's l2: 0.100035\n",
      "[1150]\tTrain's l2: 0.00201688\tTest's l2: 0.0999757\n",
      "[1200]\tTrain's l2: 0.00177343\tTest's l2: 0.0998876\n",
      "[1250]\tTrain's l2: 0.00156023\tTest's l2: 0.0998257\n",
      "[1300]\tTrain's l2: 0.00137755\tTest's l2: 0.0997785\n",
      "[1350]\tTrain's l2: 0.00122246\tTest's l2: 0.0997189\n",
      "[1400]\tTrain's l2: 0.00108744\tTest's l2: 0.0996757\n",
      "[1450]\tTrain's l2: 0.000971601\tTest's l2: 0.0996389\n",
      "[1500]\tTrain's l2: 0.000869836\tTest's l2: 0.0996087\n",
      "[1550]\tTrain's l2: 0.00078289\tTest's l2: 0.0995696\n",
      "[1600]\tTrain's l2: 0.000705997\tTest's l2: 0.0995319\n",
      "[1650]\tTrain's l2: 0.000638327\tTest's l2: 0.0994944\n",
      "[1700]\tTrain's l2: 0.000579663\tTest's l2: 0.0994892\n",
      "[1750]\tTrain's l2: 0.000527584\tTest's l2: 0.0994658\n",
      "[1800]\tTrain's l2: 0.000481583\tTest's l2: 0.0994377\n",
      "[1850]\tTrain's l2: 0.000440746\tTest's l2: 0.0994258\n",
      "[1900]\tTrain's l2: 0.000404522\tTest's l2: 0.0994234\n",
      "[1950]\tTrain's l2: 0.000372456\tTest's l2: 0.0993978\n",
      "[2000]\tTrain's l2: 0.000343499\tTest's l2: 0.0993884\n",
      "[2050]\tTrain's l2: 0.000317766\tTest's l2: 0.0993612\n",
      "[2100]\tTrain's l2: 0.000294169\tTest's l2: 0.0993409\n",
      "[2150]\tTrain's l2: 0.000273212\tTest's l2: 0.0993395\n",
      "[2200]\tTrain's l2: 0.000254251\tTest's l2: 0.0993272\n",
      "[2250]\tTrain's l2: 0.000237108\tTest's l2: 0.0993198\n",
      "[2300]\tTrain's l2: 0.00022147\tTest's l2: 0.0993203\n",
      "[2350]\tTrain's l2: 0.000207223\tTest's l2: 0.0993092\n",
      "[2400]\tTrain's l2: 0.000194188\tTest's l2: 0.0993115\n",
      "[2450]\tTrain's l2: 0.00018241\tTest's l2: 0.0993035\n",
      "[2500]\tTrain's l2: 0.000171526\tTest's l2: 0.099301\n",
      "[2550]\tTrain's l2: 0.000161531\tTest's l2: 0.0993003\n",
      "[2600]\tTrain's l2: 0.00015223\tTest's l2: 0.0993005\n",
      "Early stopping, best iteration is:\n",
      "[2507]\tTrain's l2: 0.000170121\tTest's l2: 0.0992975\n",
      "第0折训练和预测 训练MSE 预测MSE\n",
      "----\n",
      " 训练MSE\n",
      " 0.00017012122282987903 \n",
      "----\n",
      "----\n",
      " 预测MSE\n",
      " 0.09929753449545065 \n",
      "----\n",
      "\n",
      "Training until validation scores don't improve for 100 rounds\n",
      "[50]\tTrain's l2: 0.420939\tTest's l2: 0.42324\n",
      "[100]\tTrain's l2: 0.198813\tTest's l2: 0.250634\n",
      "[150]\tTrain's l2: 0.107207\tTest's l2: 0.181511\n",
      "[200]\tTrain's l2: 0.0661544\tTest's l2: 0.152931\n",
      "[250]\tTrain's l2: 0.0455508\tTest's l2: 0.139933\n",
      "[300]\tTrain's l2: 0.033771\tTest's l2: 0.133815\n",
      "[350]\tTrain's l2: 0.0262161\tTest's l2: 0.130762\n",
      "[400]\tTrain's l2: 0.0208654\tTest's l2: 0.128809\n",
      "[450]\tTrain's l2: 0.016869\tTest's l2: 0.12747\n",
      "[500]\tTrain's l2: 0.0137505\tTest's l2: 0.126561\n",
      "[550]\tTrain's l2: 0.0113052\tTest's l2: 0.126428\n",
      "[600]\tTrain's l2: 0.00936581\tTest's l2: 0.126071\n",
      "[650]\tTrain's l2: 0.00780201\tTest's l2: 0.125929\n",
      "[700]\tTrain's l2: 0.00651927\tTest's l2: 0.125727\n",
      "[750]\tTrain's l2: 0.00545096\tTest's l2: 0.125412\n",
      "[800]\tTrain's l2: 0.00457076\tTest's l2: 0.125187\n",
      "[850]\tTrain's l2: 0.00385354\tTest's l2: 0.125021\n",
      "[900]\tTrain's l2: 0.00325252\tTest's l2: 0.125089\n",
      "Early stopping, best iteration is:\n",
      "[840]\tTrain's l2: 0.00398611\tTest's l2: 0.12501\n",
      "第1折训练和预测 训练MSE 预测MSE\n",
      "----\n",
      " 训练MSE\n",
      " 0.003986113221006774 \n",
      "----\n",
      "----\n",
      " 预测MSE\n",
      " 0.1250100344303853 \n",
      "----\n",
      "\n",
      "Training until validation scores don't improve for 100 rounds\n",
      "[50]\tTrain's l2: 0.41873\tTest's l2: 0.421475\n",
      "[100]\tTrain's l2: 0.201107\tTest's l2: 0.226116\n",
      "[150]\tTrain's l2: 0.110683\tTest's l2: 0.149922\n",
      "[200]\tTrain's l2: 0.069817\tTest's l2: 0.120116\n",
      "[250]\tTrain's l2: 0.0488882\tTest's l2: 0.106537\n",
      "[300]\tTrain's l2: 0.0365592\tTest's l2: 0.100598\n",
      "[350]\tTrain's l2: 0.0285907\tTest's l2: 0.0971403\n",
      "[400]\tTrain's l2: 0.0228129\tTest's l2: 0.0955853\n",
      "[450]\tTrain's l2: 0.0185202\tTest's l2: 0.0947824\n",
      "[500]\tTrain's l2: 0.0152273\tTest's l2: 0.0942304\n",
      "[550]\tTrain's l2: 0.0126208\tTest's l2: 0.0937564\n",
      "[600]\tTrain's l2: 0.0105302\tTest's l2: 0.0934844\n",
      "[650]\tTrain's l2: 0.00883712\tTest's l2: 0.0934176\n",
      "[700]\tTrain's l2: 0.00744948\tTest's l2: 0.0934163\n",
      "[750]\tTrain's l2: 0.00632285\tTest's l2: 0.0932412\n",
      "[800]\tTrain's l2: 0.0053816\tTest's l2: 0.0931872\n",
      "[850]\tTrain's l2: 0.004611\tTest's l2: 0.0931249\n",
      "[900]\tTrain's l2: 0.00396725\tTest's l2: 0.093177\n",
      "Early stopping, best iteration is:\n",
      "[847]\tTrain's l2: 0.0046535\tTest's l2: 0.0931131\n",
      "第2折训练和预测 训练MSE 预测MSE\n",
      "----\n",
      " 训练MSE\n",
      " 0.004653503140174019 \n",
      "----\n",
      "----\n",
      " 预测MSE\n",
      " 0.09311309275116833 \n",
      "----\n",
      "\n",
      "Training until validation scores don't improve for 100 rounds\n",
      "[50]\tTrain's l2: 0.407549\tTest's l2: 0.476216\n",
      "[100]\tTrain's l2: 0.196537\tTest's l2: 0.247961\n",
      "[150]\tTrain's l2: 0.108718\tTest's l2: 0.162169\n",
      "[200]\tTrain's l2: 0.0687026\tTest's l2: 0.129578\n",
      "[250]\tTrain's l2: 0.048115\tTest's l2: 0.116719\n",
      "[300]\tTrain's l2: 0.0361089\tTest's l2: 0.111043\n",
      "[350]\tTrain's l2: 0.028327\tTest's l2: 0.108549\n",
      "[400]\tTrain's l2: 0.0227\tTest's l2: 0.106961\n",
      "[450]\tTrain's l2: 0.0184248\tTest's l2: 0.106119\n",
      "[500]\tTrain's l2: 0.0151795\tTest's l2: 0.105473\n",
      "[550]\tTrain's l2: 0.0126379\tTest's l2: 0.105095\n",
      "[600]\tTrain's l2: 0.0105826\tTest's l2: 0.104983\n",
      "[650]\tTrain's l2: 0.0089146\tTest's l2: 0.10483\n",
      "[700]\tTrain's l2: 0.00753391\tTest's l2: 0.104598\n",
      "[750]\tTrain's l2: 0.00641648\tTest's l2: 0.104525\n",
      "[800]\tTrain's l2: 0.00547968\tTest's l2: 0.104319\n",
      "[850]\tTrain's l2: 0.00470261\tTest's l2: 0.104125\n",
      "[900]\tTrain's l2: 0.00405677\tTest's l2: 0.10407\n",
      "[950]\tTrain's l2: 0.00350877\tTest's l2: 0.103969\n",
      "[1000]\tTrain's l2: 0.00304672\tTest's l2: 0.103892\n",
      "[1050]\tTrain's l2: 0.0026539\tTest's l2: 0.103839\n",
      "[1100]\tTrain's l2: 0.00231779\tTest's l2: 0.103788\n",
      "[1150]\tTrain's l2: 0.00203388\tTest's l2: 0.103718\n",
      "[1200]\tTrain's l2: 0.00178769\tTest's l2: 0.103668\n",
      "[1250]\tTrain's l2: 0.00157777\tTest's l2: 0.103681\n",
      "[1300]\tTrain's l2: 0.0013976\tTest's l2: 0.103664\n",
      "[1350]\tTrain's l2: 0.00124176\tTest's l2: 0.103641\n",
      "[1400]\tTrain's l2: 0.00110827\tTest's l2: 0.103624\n",
      "[1450]\tTrain's l2: 0.000992326\tTest's l2: 0.103617\n",
      "[1500]\tTrain's l2: 0.000892828\tTest's l2: 0.103596\n",
      "[1550]\tTrain's l2: 0.000804766\tTest's l2: 0.103593\n",
      "[1600]\tTrain's l2: 0.000727962\tTest's l2: 0.103582\n",
      "[1650]\tTrain's l2: 0.000660773\tTest's l2: 0.103553\n",
      "[1700]\tTrain's l2: 0.000600922\tTest's l2: 0.103514\n",
      "[1750]\tTrain's l2: 0.000547733\tTest's l2: 0.103495\n",
      "[1800]\tTrain's l2: 0.000501166\tTest's l2: 0.103485\n",
      "[1850]\tTrain's l2: 0.000459537\tTest's l2: 0.10346\n",
      "[1900]\tTrain's l2: 0.000422357\tTest's l2: 0.103453\n",
      "[1950]\tTrain's l2: 0.000389581\tTest's l2: 0.103451\n",
      "[2000]\tTrain's l2: 0.000360342\tTest's l2: 0.103436\n",
      "[2050]\tTrain's l2: 0.000334039\tTest's l2: 0.103421\n",
      "[2100]\tTrain's l2: 0.000310271\tTest's l2: 0.103409\n",
      "[2150]\tTrain's l2: 0.000288946\tTest's l2: 0.103393\n",
      "[2200]\tTrain's l2: 0.0002696\tTest's l2: 0.103373\n",
      "[2250]\tTrain's l2: 0.000251763\tTest's l2: 0.103357\n",
      "[2300]\tTrain's l2: 0.000235666\tTest's l2: 0.103346\n",
      "[2350]\tTrain's l2: 0.000220975\tTest's l2: 0.10333\n",
      "[2400]\tTrain's l2: 0.000207547\tTest's l2: 0.103322\n",
      "[2450]\tTrain's l2: 0.000195185\tTest's l2: 0.10331\n",
      "[2500]\tTrain's l2: 0.000183823\tTest's l2: 0.103304\n",
      "[2550]\tTrain's l2: 0.000173321\tTest's l2: 0.103295\n",
      "[2600]\tTrain's l2: 0.000163585\tTest's l2: 0.103286\n",
      "[2650]\tTrain's l2: 0.000154487\tTest's l2: 0.103275\n",
      "[2700]\tTrain's l2: 0.000146055\tTest's l2: 0.103266\n",
      "[2750]\tTrain's l2: 0.000138246\tTest's l2: 0.10326\n",
      "[2800]\tTrain's l2: 0.000130983\tTest's l2: 0.103255\n",
      "[2850]\tTrain's l2: 0.000124227\tTest's l2: 0.10325\n",
      "[2900]\tTrain's l2: 0.000117893\tTest's l2: 0.103243\n",
      "[2950]\tTrain's l2: 0.000111922\tTest's l2: 0.103242\n",
      "[3000]\tTrain's l2: 0.000106343\tTest's l2: 0.103234\n",
      "[3050]\tTrain's l2: 0.00010111\tTest's l2: 0.103232\n",
      "[3100]\tTrain's l2: 9.61905e-05\tTest's l2: 0.103226\n"
     ]
    },
    {
     "name": "stdout",
     "output_type": "stream",
     "text": [
      "[3150]\tTrain's l2: 9.15108e-05\tTest's l2: 0.10322\n",
      "[3200]\tTrain's l2: 8.71036e-05\tTest's l2: 0.103212\n",
      "[3250]\tTrain's l2: 8.29371e-05\tTest's l2: 0.10321\n",
      "[3300]\tTrain's l2: 7.90067e-05\tTest's l2: 0.103204\n",
      "[3350]\tTrain's l2: 7.5293e-05\tTest's l2: 0.1032\n",
      "[3400]\tTrain's l2: 7.17734e-05\tTest's l2: 0.103194\n",
      "[3450]\tTrain's l2: 6.84407e-05\tTest's l2: 0.103192\n",
      "[3500]\tTrain's l2: 6.5268e-05\tTest's l2: 0.103185\n",
      "[3550]\tTrain's l2: 6.22604e-05\tTest's l2: 0.103179\n",
      "[3600]\tTrain's l2: 5.94181e-05\tTest's l2: 0.103177\n",
      "[3650]\tTrain's l2: 5.67068e-05\tTest's l2: 0.103173\n",
      "[3700]\tTrain's l2: 5.41368e-05\tTest's l2: 0.103167\n",
      "[3750]\tTrain's l2: 5.16917e-05\tTest's l2: 0.103164\n",
      "[3800]\tTrain's l2: 4.93718e-05\tTest's l2: 0.103159\n",
      "[3850]\tTrain's l2: 4.71611e-05\tTest's l2: 0.103154\n",
      "[3900]\tTrain's l2: 4.50635e-05\tTest's l2: 0.103152\n",
      "[3950]\tTrain's l2: 4.30614e-05\tTest's l2: 0.103146\n",
      "[4000]\tTrain's l2: 4.11514e-05\tTest's l2: 0.10314\n",
      "[4050]\tTrain's l2: 3.933e-05\tTest's l2: 0.103139\n",
      "[4100]\tTrain's l2: 3.75925e-05\tTest's l2: 0.103132\n",
      "[4150]\tTrain's l2: 3.59319e-05\tTest's l2: 0.103129\n",
      "[4200]\tTrain's l2: 3.43545e-05\tTest's l2: 0.103125\n",
      "[4250]\tTrain's l2: 3.28513e-05\tTest's l2: 0.103122\n",
      "[4300]\tTrain's l2: 3.14182e-05\tTest's l2: 0.103117\n",
      "[4350]\tTrain's l2: 3.00505e-05\tTest's l2: 0.103115\n",
      "[4400]\tTrain's l2: 2.87457e-05\tTest's l2: 0.103113\n",
      "[4450]\tTrain's l2: 2.74945e-05\tTest's l2: 0.103108\n",
      "[4500]\tTrain's l2: 2.62999e-05\tTest's l2: 0.103104\n",
      "[4550]\tTrain's l2: 2.51647e-05\tTest's l2: 0.103101\n",
      "[4600]\tTrain's l2: 2.4079e-05\tTest's l2: 0.103096\n",
      "[4650]\tTrain's l2: 2.30412e-05\tTest's l2: 0.103095\n",
      "[4700]\tTrain's l2: 2.20489e-05\tTest's l2: 0.103092\n",
      "[4750]\tTrain's l2: 2.10992e-05\tTest's l2: 0.103088\n",
      "[4800]\tTrain's l2: 2.01889e-05\tTest's l2: 0.103087\n",
      "[4850]\tTrain's l2: 1.93234e-05\tTest's l2: 0.103085\n",
      "[4900]\tTrain's l2: 1.84935e-05\tTest's l2: 0.103082\n",
      "[4950]\tTrain's l2: 1.77024e-05\tTest's l2: 0.103078\n",
      "[5000]\tTrain's l2: 1.69443e-05\tTest's l2: 0.103076\n",
      "Did not meet early stopping. Best iteration is:\n",
      "[5000]\tTrain's l2: 1.69443e-05\tTest's l2: 0.103076\n",
      "第3折训练和预测 训练MSE 预测MSE\n",
      "----\n",
      " 训练MSE\n",
      " 1.6944261550293392e-05 \n",
      "----\n",
      "----\n",
      " 预测MSE\n",
      " 0.10307589284589647 \n",
      "----\n",
      "\n",
      "Training until validation scores don't improve for 100 rounds\n",
      "[50]\tTrain's l2: 0.418173\tTest's l2: 0.441717\n",
      "[100]\tTrain's l2: 0.200316\tTest's l2: 0.244318\n",
      "[150]\tTrain's l2: 0.109784\tTest's l2: 0.163999\n",
      "[200]\tTrain's l2: 0.0687665\tTest's l2: 0.130382\n",
      "[250]\tTrain's l2: 0.047686\tTest's l2: 0.115163\n",
      "[300]\tTrain's l2: 0.0354708\tTest's l2: 0.107925\n",
      "[350]\tTrain's l2: 0.0276384\tTest's l2: 0.104221\n",
      "[400]\tTrain's l2: 0.0221089\tTest's l2: 0.10228\n",
      "[450]\tTrain's l2: 0.0179433\tTest's l2: 0.101095\n",
      "[500]\tTrain's l2: 0.0147648\tTest's l2: 0.100431\n",
      "[550]\tTrain's l2: 0.0122605\tTest's l2: 0.0998792\n",
      "[600]\tTrain's l2: 0.0102513\tTest's l2: 0.0995246\n",
      "[650]\tTrain's l2: 0.00862081\tTest's l2: 0.0993986\n",
      "[700]\tTrain's l2: 0.00727986\tTest's l2: 0.0994255\n",
      "[750]\tTrain's l2: 0.0061693\tTest's l2: 0.0992904\n",
      "[800]\tTrain's l2: 0.00526836\tTest's l2: 0.0992531\n",
      "[850]\tTrain's l2: 0.00451993\tTest's l2: 0.0992112\n",
      "[900]\tTrain's l2: 0.00388656\tTest's l2: 0.0991584\n",
      "[950]\tTrain's l2: 0.00335177\tTest's l2: 0.0990688\n",
      "[1000]\tTrain's l2: 0.0028937\tTest's l2: 0.098984\n",
      "[1050]\tTrain's l2: 0.00251891\tTest's l2: 0.0989999\n",
      "[1100]\tTrain's l2: 0.0021965\tTest's l2: 0.0989332\n",
      "[1150]\tTrain's l2: 0.00192003\tTest's l2: 0.0988545\n",
      "[1200]\tTrain's l2: 0.00168723\tTest's l2: 0.098923\n",
      "Early stopping, best iteration is:\n",
      "[1142]\tTrain's l2: 0.00196088\tTest's l2: 0.098839\n",
      "第4折训练和预测 训练MSE 预测MSE\n",
      "----\n",
      " 训练MSE\n",
      " 0.0019608822664788713 \n",
      "----\n",
      "----\n",
      " 预测MSE\n",
      " 0.09883896847504547 \n",
      "----\n",
      "\n"
     ]
    },
    {
     "ename": "KeyError",
     "evalue": "'trainmse'",
     "output_type": "error",
     "traceback": [
      "\u001b[1;31m---------------------------------------------------------------------------\u001b[0m",
      "\u001b[1;31mKeyError\u001b[0m                                  Traceback (most recent call last)",
      "\u001b[1;32m<ipython-input-35-2165c172a967>\u001b[0m in \u001b[0;36m<module>\u001b[1;34m\u001b[0m\n\u001b[0;32m     35\u001b[0m     \u001b[0mMSE_DICT\u001b[0m\u001b[1;33m[\u001b[0m\u001b[1;34m'train_mse'\u001b[0m\u001b[1;33m]\u001b[0m\u001b[1;33m.\u001b[0m\u001b[0mappend\u001b[0m\u001b[1;33m(\u001b[0m\u001b[0mtrain_mse\u001b[0m\u001b[1;33m)\u001b[0m\u001b[1;33m\u001b[0m\u001b[1;33m\u001b[0m\u001b[0m\n\u001b[0;32m     36\u001b[0m     \u001b[0mMSE_DICT\u001b[0m\u001b[1;33m[\u001b[0m\u001b[1;34m'test_mse'\u001b[0m\u001b[1;33m]\u001b[0m\u001b[1;33m.\u001b[0m\u001b[0mappend\u001b[0m\u001b[1;33m(\u001b[0m\u001b[0mtest_mse\u001b[0m\u001b[1;33m)\u001b[0m\u001b[1;33m\u001b[0m\u001b[1;33m\u001b[0m\u001b[0m\n\u001b[1;32m---> 37\u001b[1;33m \u001b[0mprint\u001b[0m\u001b[1;33m(\u001b[0m\u001b[1;34m'----\\n'\u001b[0m\u001b[1;33m,\u001b[0m \u001b[1;34m'训练MSE\\n'\u001b[0m\u001b[1;33m,\u001b[0m \u001b[0mMSE_DICT\u001b[0m\u001b[1;33m[\u001b[0m\u001b[1;34m'train_mse'\u001b[0m\u001b[1;33m]\u001b[0m\u001b[1;33m,\u001b[0m \u001b[1;34m'\\n'\u001b[0m\u001b[1;33m,\u001b[0m \u001b[0mnp\u001b[0m\u001b[1;33m.\u001b[0m\u001b[0mmean\u001b[0m\u001b[1;33m(\u001b[0m\u001b[0mMSE_DICT\u001b[0m\u001b[1;33m[\u001b[0m\u001b[1;34m'trainmse'\u001b[0m\u001b[1;33m]\u001b[0m\u001b[1;33m)\u001b[0m\u001b[1;33m,\u001b[0m \u001b[1;34m'\\n----'\u001b[0m\u001b[1;33m)\u001b[0m\u001b[1;33m\u001b[0m\u001b[1;33m\u001b[0m\u001b[0m\n\u001b[0m\u001b[0;32m     38\u001b[0m \u001b[0mprint\u001b[0m\u001b[1;33m(\u001b[0m\u001b[1;34m'----\\n'\u001b[0m\u001b[1;33m,\u001b[0m \u001b[1;34m'预测MSE\\n'\u001b[0m\u001b[1;33m,\u001b[0m \u001b[0mMSE_DICT\u001b[0m\u001b[1;33m[\u001b[0m\u001b[1;34m'test_mse'\u001b[0m\u001b[1;33m]\u001b[0m\u001b[1;33m,\u001b[0m \u001b[1;34m'\\n'\u001b[0m\u001b[1;33m,\u001b[0m \u001b[0mnp\u001b[0m\u001b[1;33m.\u001b[0m\u001b[0mmean\u001b[0m\u001b[1;33m(\u001b[0m\u001b[0mMSE_DICT\u001b[0m\u001b[1;33m[\u001b[0m\u001b[1;34m'test_mse'\u001b[0m\u001b[1;33m]\u001b[0m\u001b[1;33m)\u001b[0m\u001b[1;33m,\u001b[0m \u001b[1;34m'\\n----'\u001b[0m\u001b[1;33m)\u001b[0m\u001b[1;33m\u001b[0m\u001b[1;33m\u001b[0m\u001b[0m\n",
      "\u001b[1;31mKeyError\u001b[0m: 'trainmse'"
     ]
    }
   ],
   "source": [
    "# 模型的训练与评估\n",
    "from sklearn.model_selection import KFold\n",
    "from sklearn.metrics import mean_squared_error\n",
    "import lightgbm as lgb\n",
    "import numpy as np\n",
    "\n",
    "Folds = 5\n",
    "kf = KFold(n_splits=Folds, shuffle=True, random_state=2019)\n",
    "MSE_DICT = {'train_mse': [], 'test_mse': []}\n",
    "for index, (train_index, test_index) in enumerate(kf.split(X_train2)):\n",
    "    lgb_reg = lgb.LGBMRegressor(learning_rate=0.01,\n",
    "                                max_depth=-1, \n",
    "                                n_estimators=5000,\n",
    "                                boosting_type='gbdt',\n",
    "                                random_state=2019,\n",
    "                                objective='regression')\n",
    "    X_train_KFold = X_train2[train_index]\n",
    "    X_test_KFold = X_train2[test_index]\n",
    "    y_train_KFold = y_train[train_index]\n",
    "    y_test_KFold = y_train[test_index]\n",
    "    lgb_reg.fit(X=X_train_KFold, y=y_train_KFold,\n",
    "                eval_set=[(X_train_KFold, y_train_KFold),\n",
    "                          (X_test_KFold, y_test_KFold)],\n",
    "                eval_names=['Train', 'Test'],\n",
    "                early_stopping_rounds=100,\n",
    "                eval_metric='MSE',\n",
    "                verbose=50)\n",
    "    # verbose是多少轮打印出运行过程，verbose=1就是每轮都打印，verbose=50是每50轮打印一次运行过程\n",
    "    y_train_KFold_predict = lgb_reg.predict(X_train_KFold, num_iteration=lgb_reg.best_iteration_)\n",
    "    y_test_KFold_predict = lgb_reg.predict(X_test_KFold, num_iteration=lgb_reg.best_iteration_)\n",
    "    print('第{}折训练和预测 训练MSE 预测MSE'.format(index))\n",
    "    train_mse = mean_squared_error(y_train_KFold_predict, y_train_KFold)\n",
    "    test_mse = mean_squared_error(y_test_KFold_predict, y_test_KFold)\n",
    "    print('----\\n', '训练MSE\\n', train_mse, '\\n----')\n",
    "    print('----\\n', '预测MSE\\n', test_mse, '\\n----\\n')\n",
    "    MSE_DICT['train_mse'].append(train_mse)\n",
    "    MSE_DICT['test_mse'].append(test_mse)\n",
    "print('----\\n', '训练MSE\\n', MSE_DICT['train_mse'], '\\n', np.mean(MSE_DICT['train_mse']), '\\n----')\n",
    "print('----\\n', '预测MSE\\n', MSE_DICT['test_mse'], '\\n', np.mean(MSE_DICT['test_mse']), '\\n----')"
   ]
  },
  {
   "cell_type": "code",
   "execution_count": 36,
   "metadata": {
    "ExecuteTime": {
     "end_time": "2021-06-28T05:47:44.513981Z",
     "start_time": "2021-06-28T05:47:44.504011Z"
    }
   },
   "outputs": [
    {
     "name": "stdout",
     "output_type": "stream",
     "text": [
      "----\n",
      " 训练MSE\n",
      " [0.00017012122282987903, 0.003986113221006774, 0.004653503140174019, 1.6944261550293392e-05, 0.0019608822664788713] \n",
      " 0.002157512822407967 \n",
      "----\n",
      "----\n",
      " 预测MSE\n",
      " [0.09929753449545065, 0.1250100344303853, 0.09311309275116833, 0.10307589284589647, 0.09883896847504547] \n",
      " 0.10386710459958923 \n",
      "----\n"
     ]
    }
   ],
   "source": []
  },
  {
   "cell_type": "markdown",
   "metadata": {},
   "source": [
    "# 模型融合"
   ]
  },
  {
   "cell_type": "code",
   "execution_count": 39,
   "metadata": {
    "ExecuteTime": {
     "end_time": "2021-06-28T05:53:29.340792Z",
     "start_time": "2021-06-28T05:53:29.326805Z"
    }
   },
   "outputs": [],
   "source": [
    "# 将LogisticRegression RandomFrest, SVC是三个模型的结果组合在一起\n",
    "from sklearn.linear_model import LogisticRegression\n",
    "from sklearn.ensemble import RandomForestClassifier\n",
    "from sklearn.svm import SVC\n",
    "import matplotlib.gridspec as gridspec\n",
    "import itertools\n",
    "from mlxtend.classifier import EnsembleVoteClassifier\n",
    "from mlxtend.data import iris_data\n",
    "from mlxtend.plotting import plot_decision_regions\n",
    "%matplotlib inline"
   ]
  },
  {
   "cell_type": "code",
   "execution_count": 43,
   "metadata": {
    "ExecuteTime": {
     "end_time": "2021-06-28T06:05:23.746531Z",
     "start_time": "2021-06-28T06:05:15.510239Z"
    }
   },
   "outputs": [
    {
     "data": {
      "image/png": "[encoded data removed]",
      "text/plain": [
       "<Figure size 1152x288 with 4 Axes>"
      ]
     },
     "metadata": {
      "needs_background": "light"
     },
     "output_type": "display_data"
    }
   ],
   "source": [
    "clf1 = LogisticRegression(random_state=0, solver='lbfgs', multi_class='auto')\n",
    "clf2 = RandomForestClassifier(n_estimators=100, random_state=0)\n",
    "clf3 = SVC(random_state=0, probability=True, gamma='auto')\n",
    "eclf = EnsembleVoteClassifier([clf1, clf2, clf3], voting='soft', weights=[2, 1, 1])\n",
    "X, y = iris_data()\n",
    "X = X[:, [0, 2]]\n",
    "# plotting Decision Regions\n",
    "gs = gridspec.GridSpec(1, 4)\n",
    "fig = plt.figure(figsize=(16, 4))\n",
    "\n",
    "for clf, lab, grd in zip([clf1, clf2, clf3, eclf],\n",
    "                         ['Logistic Regression', 'Random Forest', 'RBF kernel SVM', 'Ensemble'],\n",
    "                         itertools.product([0, 1], repeat=2)):\n",
    "    clf.fit(X, y)\n",
    "    ax = plt.subplot(gs[0, grd[0] * 2 + grd[1]])\n",
    "    fig = plot_decision_regions(X=X, y=y, clf=clf, legend=2)\n",
    "    plt.title(lab)\n",
    "plt.show()"
   ]
  },
  {
   "cell_type": "code",
   "execution_count": 41,
   "metadata": {
    "ExecuteTime": {
     "end_time": "2021-06-28T05:57:45.664306Z",
     "start_time": "2021-06-28T05:57:45.658306Z"
    }
   },
   "outputs": [],
   "source": [
    "EnsembleVoteClassifier?"
   ]
  },
  {
   "cell_type": "code",
   "execution_count": null,
   "metadata": {},
   "outputs": [],
   "source": []
  }
 ],
 "metadata": {
  "kernelspec": {
   "display_name": "Python 3",
   "language": "python",
   "name": "python3"
  },
  "language_info": {
   "codemirror_mode": {
    "name": "ipython",
    "version": 3
   },
   "file_extension": ".py",
   "mimetype": "text/x-python",
   "name": "python",
   "nbconvert_exporter": "python",
   "pygments_lexer": "ipython3",
   "version": "3.7.10"
  }
 },
 "nbformat": 4,
 "nbformat_minor": 2
}
