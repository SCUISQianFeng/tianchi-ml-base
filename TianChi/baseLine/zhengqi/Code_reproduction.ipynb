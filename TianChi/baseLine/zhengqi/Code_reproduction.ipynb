{
 "cells": [
  {
   "cell_type": "markdown",
   "id": "literary-perspective",
   "metadata": {},
   "source": [
    "# 代码复现"
   ]
  },
  {
   "cell_type": "markdown",
   "id": "distinguished-wealth",
   "metadata": {},
   "source": [
    "## 工业蒸汽数据代码复现\n",
    "- 数据的导入， 工具包导入\n",
    "- 数据挖掘目的分析\n",
    "- 数据探索（数据分布、相关性）\n",
    "- 数据预处理（归一化），数据降维\n",
    "- 模型训练、交叉验证、参数调优，模型融合（投票）"
   ]
  },
  {
   "cell_type": "markdown",
   "id": "weekly-activation",
   "metadata": {},
   "source": [
    "## 数据准备"
   ]
  },
  {
   "cell_type": "code",
   "execution_count": null,
   "id": "tight-photographer",
   "metadata": {},
   "outputs": [],
   "source": [
    "import numpy as np\n",
    "import pandas as pd\n",
    "\n",
    "train_data_path = r'E:/DataSet/Tianchi/zhengqi/zhengqi_train.txt'\n",
    "test_data_path = r'E:/DataSet/Tianchi/zhengqi/zhengqi_test.txt'\n"
   ]
  }
 ],
 "metadata": {
  "kernelspec": {
   "display_name": "Python 3",
   "language": "python",
   "name": "python3"
  },
  "language_info": {
   "codemirror_mode": {
    "name": "ipython",
    "version": 3
   },
   "file_extension": ".py",
   "mimetype": "text/x-python",
   "name": "python",
   "nbconvert_exporter": "python",
   "pygments_lexer": "ipython3",
   "version": "3.7.10"
  }
 },
 "nbformat": 4,
 "nbformat_minor": 5
}
