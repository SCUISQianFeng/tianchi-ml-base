{
 "cells": [
  {
   "cell_type": "code",
   "execution_count": 1,
   "metadata": {},
   "outputs": [],
   "source": [
    "import pandas as pd\n",
    "import numpy as np\n",
    "import warnings\n",
    "warnings.filterwarnings('ignore')"
   ]
  },
  {
   "cell_type": "code",
   "execution_count": 3,
   "metadata": {},
   "outputs": [
    {
     "data": {
      "text/html": [
       "<div>\n",
       "<style scoped>\n",
       "    .dataframe tbody tr th:only-of-type {\n",
       "        vertical-align: middle;\n",
       "    }\n",
       "\n",
       "    .dataframe tbody tr th {\n",
       "        vertical-align: top;\n",
       "    }\n",
       "\n",
       "    .dataframe thead th {\n",
       "        text-align: right;\n",
       "    }\n",
       "</style>\n",
       "<table border=\"1\" class=\"dataframe\">\n",
       "  <thead>\n",
       "    <tr style=\"text-align: right;\">\n",
       "      <th></th>\n",
       "      <th>file_id</th>\n",
       "      <th>label</th>\n",
       "      <th>api</th>\n",
       "      <th>tid</th>\n",
       "      <th>index</th>\n",
       "    </tr>\n",
       "  </thead>\n",
       "  <tbody>\n",
       "    <tr>\n",
       "      <th>0</th>\n",
       "      <td>1</td>\n",
       "      <td>5</td>\n",
       "      <td>LdrLoadDll</td>\n",
       "      <td>2488</td>\n",
       "      <td>0</td>\n",
       "    </tr>\n",
       "    <tr>\n",
       "      <th>1</th>\n",
       "      <td>1</td>\n",
       "      <td>5</td>\n",
       "      <td>LdrGetProcedureAddress</td>\n",
       "      <td>2488</td>\n",
       "      <td>1</td>\n",
       "    </tr>\n",
       "    <tr>\n",
       "      <th>2</th>\n",
       "      <td>1</td>\n",
       "      <td>5</td>\n",
       "      <td>LdrGetProcedureAddress</td>\n",
       "      <td>2488</td>\n",
       "      <td>2</td>\n",
       "    </tr>\n",
       "    <tr>\n",
       "      <th>3</th>\n",
       "      <td>1</td>\n",
       "      <td>5</td>\n",
       "      <td>LdrGetProcedureAddress</td>\n",
       "      <td>2488</td>\n",
       "      <td>3</td>\n",
       "    </tr>\n",
       "    <tr>\n",
       "      <th>4</th>\n",
       "      <td>1</td>\n",
       "      <td>5</td>\n",
       "      <td>LdrGetProcedureAddress</td>\n",
       "      <td>2488</td>\n",
       "      <td>4</td>\n",
       "    </tr>\n",
       "    <tr>\n",
       "      <th>5</th>\n",
       "      <td>1</td>\n",
       "      <td>5</td>\n",
       "      <td>LdrGetProcedureAddress</td>\n",
       "      <td>2488</td>\n",
       "      <td>5</td>\n",
       "    </tr>\n",
       "    <tr>\n",
       "      <th>6</th>\n",
       "      <td>1</td>\n",
       "      <td>5</td>\n",
       "      <td>LdrGetProcedureAddress</td>\n",
       "      <td>2488</td>\n",
       "      <td>6</td>\n",
       "    </tr>\n",
       "    <tr>\n",
       "      <th>7</th>\n",
       "      <td>1</td>\n",
       "      <td>5</td>\n",
       "      <td>LdrGetProcedureAddress</td>\n",
       "      <td>2488</td>\n",
       "      <td>7</td>\n",
       "    </tr>\n",
       "    <tr>\n",
       "      <th>8</th>\n",
       "      <td>1</td>\n",
       "      <td>5</td>\n",
       "      <td>LdrGetProcedureAddress</td>\n",
       "      <td>2488</td>\n",
       "      <td>8</td>\n",
       "    </tr>\n",
       "    <tr>\n",
       "      <th>9</th>\n",
       "      <td>1</td>\n",
       "      <td>5</td>\n",
       "      <td>LdrGetProcedureAddress</td>\n",
       "      <td>2488</td>\n",
       "      <td>9</td>\n",
       "    </tr>\n",
       "  </tbody>\n",
       "</table>\n",
       "</div>"
      ],
      "text/plain": [
       "   file_id  label                     api   tid  index\n",
       "0        1      5              LdrLoadDll  2488      0\n",
       "1        1      5  LdrGetProcedureAddress  2488      1\n",
       "2        1      5  LdrGetProcedureAddress  2488      2\n",
       "3        1      5  LdrGetProcedureAddress  2488      3\n",
       "4        1      5  LdrGetProcedureAddress  2488      4\n",
       "5        1      5  LdrGetProcedureAddress  2488      5\n",
       "6        1      5  LdrGetProcedureAddress  2488      6\n",
       "7        1      5  LdrGetProcedureAddress  2488      7\n",
       "8        1      5  LdrGetProcedureAddress  2488      8\n",
       "9        1      5  LdrGetProcedureAddress  2488      9"
      ]
     },
     "execution_count": 3,
     "metadata": {},
     "output_type": "execute_result"
    }
   ],
   "source": [
    "train_path = r'E:/DataSet/Tianchi/security/security_train/security_train.csv'\n",
    "test_path = r'E:/DataSet/Tianchi/security/security_test/security_test.csv'\n",
    "\n",
    "train_data = pd.read_csv(train_path)\n",
    "test_data = pd.read_csv(test_path)\n",
    "\n",
    "# train_data.head(10)\n",
    "# file_id 文件编号\n",
    "# label 文件标签 0-正常，1-勒索病毒， 2-挖矿程序，3-DDos木马4-蠕虫病毒 5-感染性病毒 6-后门程序 7-木马程序\n",
    "# api 文件调用的API程序\n",
    "# tid 调用API的线程编号\n",
    "# index 线程中API的顺序编号\n",
    "# train_data.info()\n",
    "\n",
    "# <class 'pandas.core.frame.DataFrame'>\n",
    "# RangeIndex: 89806693 entries, 0 to 89806692\n",
    "# Data columns (total 5 columns):\n",
    "#  #   Column   Dtype \n",
    "# ---  ------   ----- \n",
    "#  0   file_id  int64 \n",
    "#  1   label    int64 \n",
    "#  2   api      object\n",
    "#  3   tid      int64 \n",
    "#  4   index    int64 \n",
    "# dtypes: int64(4), object(1)\n",
    "# memory usage: 3.3+ GB\n",
    "\n",
    "# train_data.describe()\n",
    "\n",
    "#        file_id\t    label\t        tid\t            index\n",
    "# count\t8.980669e+07\t8.980669e+07\t8.980669e+07\t8.980669e+07\n",
    "# mean\t7.078770e+03\t3.862835e+00\t2.533028e+03\t1.547521e+03\n",
    "# std\t3.998794e+03\t2.393783e+00\t6.995798e+02\t1.412249e+03\n",
    "# min\t1.000000e+00\t0.000000e+00\t1.000000e+02\t0.000000e+00\n",
    "# 25%\t3.637000e+03\t2.000000e+00\t2.356000e+03\t3.490000e+02\n",
    "# 50%\t7.161000e+03\t5.000000e+00\t2.564000e+03\t1.085000e+03\n",
    "# 75%\t1.055100e+04\t5.000000e+00\t2.776000e+03\t2.503000e+03\n",
    "# max\t1.388700e+04\t7.000000e+00\t2.089600e+04\t5.000000e+03"
   ]
  },
  {
   "cell_type": "code",
   "execution_count": 11,
   "metadata": {},
   "outputs": [
    {
     "data": {
      "text/plain": [
       "file_id    13887\n",
       "label          8\n",
       "api          295\n",
       "tid         2782\n",
       "index       5001\n",
       "dtype: int64"
      ]
     },
     "execution_count": 11,
     "metadata": {},
     "output_type": "execute_result"
    },
    {
     "data": {
      "image/png": "[encoded data removed]",
      "text/plain": [
       "<Figure size 432x288 with 1 Axes>"
      ]
     },
     "metadata": {
      "needs_background": "light"
     },
     "output_type": "display_data"
    }
   ],
   "source": [
    "# 数据分布\n",
    "import seaborn as sns\n",
    "sns.boxplot(x=train_data[:10000]['tid'])\n",
    "# 异常值"
   ]
  },
  {
   "cell_type": "code",
   "execution_count": 18,
   "metadata": {},
   "outputs": [
    {
     "data": {
      "text/plain": [
       "<AxesSubplot:>"
      ]
     },
     "execution_count": 18,
     "metadata": {},
     "output_type": "execute_result"
    },
    {
     "data": {
      "image/png": "[encoded data removed]",
      "text/plain": [
       "<Figure size 432x288 with 1 Axes>"
      ]
     },
     "metadata": {
      "needs_background": "light"
     },
     "output_type": "display_data"
    }
   ],
   "source": [
    "# 取值分布\n",
    "# train_data.nunique()\n",
    "# file_id    13887\n",
    "# label          8\n",
    "# api          295\n",
    "# tid         2782\n",
    "# index       5001\n",
    "# dtype: int64\n",
    "\n",
    "# 缺失值情况\n",
    "# train_data.isnull().sum()\n",
    "# file_id    0\n",
    "# label      0\n",
    "# api        0\n",
    "# tid        0\n",
    "# index      0\n",
    "# dtype: int64\n",
    "# label分布情况\n",
    "train_data['label'].value_counts().sort_index().plot(kind='bar')\n",
    "# train_data['label'].value_counts().sort_index().plot(kind='pie')\n"
   ]
  },
  {
   "cell_type": "code",
   "execution_count": 21,
   "metadata": {},
   "outputs": [
    {
     "data": {
      "text/plain": [
       "file_id    0\n",
       "api        0\n",
       "tid        0\n",
       "index      0\n",
       "dtype: int64"
      ]
     },
     "execution_count": 21,
     "metadata": {},
     "output_type": "execute_result"
    }
   ],
   "source": [
    "# 测试集取值分布\n",
    "# test_data.nunique()\n",
    "# file_id    12955\n",
    "# api          298\n",
    "# tid         2047\n",
    "# index       5001\n",
    "# dtype: int64\n",
    "\n",
    "# 缺失值情况\n",
    "# test_data.isnull().sum()\n",
    "# file_id    0\n",
    "# api        0\n",
    "# tid        0\n",
    "# index      0\n",
    "# dtype: int64"
   ]
  },
  {
   "cell_type": "code",
   "execution_count": 35,
   "metadata": {},
   "outputs": [
    {
     "name": "stdout",
     "output_type": "stream",
     "text": [
      "932\n",
      "0\n"
     ]
    }
   ],
   "source": [
    "# 数据重合度分析\n",
    "# files_id重合度\n",
    "train_files = train_data['file_id'].unique()\n",
    "test_files = test_data['file_id'].unique()\n",
    "print(len(set(train_files) - set(test_files)))  # 932\n",
    "print(len(set(test_files) - set(train_files)))  # 0\n",
    "# 说明不存在测试集有的file_id，而训练集没有的情况\n",
    "\n",
    "train_api = train_data['api'].unique()\n",
    "test_api = test_data['api'].unique()\n",
    "print(len(set(train_api) - set(test_api)))  # 3\n",
    "print(len(set(test_api) - set(train_api)))  # 6\n",
    "\n",
    "print(set(train_api) - set(test_api))\n",
    "# {'WSASendTo', 'EncryptMessage', 'RtlCompressBuffer'}\n",
    "print(set(test_api) - set(train_api))\n",
    "# {'NtDeleteFile', 'InternetGetConnectedStateExA', 'MessageBoxTimeoutW', 'CreateDirectoryExW', 'NtCreateUserProcess', 'TaskDialog'}"
   ]
  },
  {
   "cell_type": "code",
   "execution_count": 43,
   "metadata": {},
   "outputs": [
    {
     "data": {
      "text/plain": [
       "array([6786,  816,  463, ..., 1033, 5316,  623], dtype=int64)"
      ]
     },
     "execution_count": 43,
     "metadata": {},
     "output_type": "execute_result"
    }
   ],
   "source": [
    "#  特征工程\n",
    "def"
   ]
  },
  {
   "cell_type": "code",
   "execution_count": 37,
   "metadata": {},
   "outputs": [
    {
     "name": "stdout",
     "output_type": "stream",
     "text": [
      "{'WSASendTo', 'EncryptMessage', 'RtlCompressBuffer'}\n",
      "{'NtDeleteFile', 'InternetGetConnectedStateExA', 'MessageBoxTimeoutW', 'CreateDirectoryExW', 'NtCreateUserProcess', 'TaskDialog'}\n"
     ]
    }
   ],
   "source": [
    "print(set(train_api) - set(test_api))  # 932\n",
    "print(set(test_api) - set(train_api))  # "
   ]
  },
  {
   "cell_type": "code",
   "execution_count": null,
   "metadata": {},
   "outputs": [],
   "source": []
  }
 ],
 "metadata": {
  "kernelspec": {
   "name": "pycharm-9a35f556",
   "language": "python",
   "display_name": "PyCharm (ml-trainee)"
  },
  "language_info": {
   "codemirror_mode": {
    "name": "ipython",
    "version": 3
   },
   "file_extension": ".py",
   "mimetype": "text/x-python",
   "name": "python",
   "nbconvert_exporter": "python",
   "pygments_lexer": "ipython3",
   "version": "3.9.6"
  }
 },
 "nbformat": 4,
 "nbformat_minor": 1
}