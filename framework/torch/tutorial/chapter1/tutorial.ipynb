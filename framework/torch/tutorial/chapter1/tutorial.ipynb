{
 "cells": [
  {
   "cell_type": "code",
   "execution_count": 0,
   "metadata": {},
   "outputs": [],
   "source": [
    "\n",
    "# 创建一个 5x3 矩阵, 但是未初始化:\n",
    "\n",
    "\n",
    "# 创建一个随机初始化的矩阵:\n",
    "\n",
    "\n",
    "\n",
    "# 创建一个0填充的矩阵，数据类型为long:\n",
    "\n",
    "\n",
    "\n",
    "# 创建tensor并使用现有数据初始化:\n",
    "\n",
    "\n",
    "\n",
    "# 根据现有的张量创建张量。 这些方法将重用输入张量的属性，例如， dtype，除非设置新的值进行覆盖\n",
    "\n",
    "\n",
    "# 获取 size\n",
    "# 译者注：使用size方法与Numpy的shape属性返回的相同，张量也支持shape属性，后面会详细介绍\n",
    "\n",
    "\n",
    "\n",
    "# 操作\n",
    "# 操作有多种语法。\n",
    "# 我们将看一下加法运算。\n",
    "# 加法1:\n",
    "\n",
    "\n",
    "# 加法2\n",
    "\n",
    "\n",
    "\n",
    "# 提供输出tensor作为参数\n",
    "\n",
    "\n",
    "# 替换"
   ]
  }
 ],
 "metadata": {
  "kernelspec": {
   "display_name": "Python 3",
   "language": "python",
   "name": "python3"
  },
  "language_info": {
   "codemirror_mode": {
    "name": "ipython",
    "version": 3
   },
   "file_extension": ".py",
   "mimetype": "text/x-python",
   "name": "python",
   "nbconvert_exporter": "python",
   "pygments_lexer": "ipython3",
   "version": "3.7.10"
  }
 },
 "nbformat": 4,
 "nbformat_minor": 1
}